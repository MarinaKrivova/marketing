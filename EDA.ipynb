{
 "cells": [
  {
   "cell_type": "markdown",
   "metadata": {},
   "source": [
    "## Exploratory Data Analysis"
   ]
  },
  {
   "cell_type": "markdown",
   "metadata": {},
   "source": [
    "update from 29.09.20\n",
    "1. correct the ideas about campaigns\n",
    "\n",
    "As it folows from the description, campaign refers to the number of contacts performed during this campaign and for this client, and not to some campaign\n",
    "\n",
    "2. added clarification to questions\n",
    "\n",
    "\n",
    "- Target variables are highly disproportional\n",
    "\n",
    "Why is it important? What’s the impact of this finding?\n",
    "- Some numeric columns can be treated as categorical, and some can be transformed into categories by splitting into groups.\n",
    "\n",
    "Could you please clarify the expected benefit of such transformation?\n",
    "\n",
    "- Here is a strong correlation between euribor3m and emp.var.rate variables\n",
    "\n",
    "How would you explain such a strong relationship?\n",
    "\n",
    "- Filling missing values is reasonable for some categorical variables\n",
    "\n",
    "What are some suitable strategies? How would you choose the most appropriate one?"
   ]
  },
  {
   "cell_type": "markdown",
   "metadata": {},
   "source": [
    "http://archive.ics.uci.edu/ml/datasets/Bank+Marketing\n",
    "    \n",
    "**Data Set Information:**\n",
    "\n",
    "The data is related with direct marketing campaigns of a Portuguese banking institution. The marketing campaigns were based on phone calls. Often, more than one contact to the same client was required, in order to access if the product (bank term deposit) would be ('yes') or not ('no') subscribed.\n",
    "\n",
    "There are four datasets:\n",
    "\n",
    " 1. bank-additional-full.csv with all examples (41188) and 20 inputs, ordered by date (from May 2008 to November 2010), very close to the data analyzed in [Moro et al., 2014]\n",
    " 2. bank-additional.csv with 10% of the examples (4119), randomly selected from 1), and 20 inputs.\n",
    " 3. bank-full.csv with all examples and 17 inputs, ordered by date (older version of this dataset with less inputs).\n",
    " 4. bank.csv with 10% of the examples and 17 inputs, randomly selected from 3 (older version of this dataset with less inputs).\n",
    " \n",
    "The smallest datasets are provided to test more computationally demanding machine learning algorithms (e.g., SVM).\n",
    "\n",
    "The classification goal is to predict if the client will subscribe (yes/no) a term deposit (variable y).\n",
    "\n"
   ]
  },
  {
   "cell_type": "markdown",
   "metadata": {},
   "source": [
    "### Attribute Information:\n",
    "\n",
    "Input variables:\n",
    "#### bank client data:\n",
    "\n",
    "1.  **age** (numeric)\n",
    "2.  **job** : type of job (categorical: 'admin.','bluecollar','entrepreneur','housemaid','management','retired','selfemployed','services','student','technician','unemployed','unknown')\n",
    "3.  **marital** : marital status (categorical: 'divorced','married','single','unknown'; note: 'divorced' means divorced or widowed)\n",
    "4.  **education** (categorical: 'basic.4y','basic.6y','basic.9y','high.school','illiterate','professional.course','university.degree','unknown')\n",
    "5.  **default**: has credit in default? (categorical: 'no','yes','unknown')\n",
    "6.  **housing**: has housing loan? (categorical: 'no','yes','unknown')\n",
    "7.  **loan**: has personal loan? (categorical: 'no','yes','unknown')\n",
    "\n",
    "#### related with the last contact of the current campaign:\n",
    "8.  **contact**: contact communication type (categorical: 'cellular','telephone')\n",
    "9.  **month**: last contact month of year (categorical: 'jan', 'feb', 'mar', ..., 'nov', 'dec')\n",
    "10.  **day_of_week**: last contact day of the week (categorical: 'mon','tue','wed','thu','fri')\n",
    "11.  **duration**: last contact duration, in seconds (numeric). Important note: this attribute highly affects the output target (e.g., if duration=0 then y='no'). Yet, the duration is not known before a call is performed. Also, after the end of the call y is obviously known. Thus, this input should only be included for benchmark purposes and should be discarded if the intention is to have a realistic predictive model.\n",
    "\n",
    "#### other attributes:\n",
    "12.  **campaign**: number of contacts performed during this campaign and for this client (numeric, includes last contact)\n",
    "13.  **pdays**: number of days that passed by after the client was last contacted from a previous campaign (numeric; 999 means client was not previously contacted)\n",
    "14.  **previous**: number of contacts performed before this campaign and for this client (numeric)\n",
    "15.  **poutcome**: outcome of the previous marketing campaign (categorical: 'failure','nonexistent','success')\n",
    "\n",
    "#### social and economic context attributes\n",
    "16.  **emp.var.rate**: employment variation rate  quarterly indicator (numeric)\n",
    "17.  **cons.price.idx**: consumer price index  monthly indicator (numeric)\n",
    "18.  **cons.conf.idx**: consumer confidence index  monthly indicator (numeric)\n",
    "19.  **euribor3m**: euribor 3 month rate  daily indicator (numeric)\n",
    "20.  **nr.employed**: number of employees  quarterly indicator (numeric)\n",
    "\n",
    "Output variable (desired target):\n",
    "21.  **y**  has the client subscribed a term deposit? (binary: 'yes','no')"
   ]
  },
  {
   "cell_type": "code",
   "execution_count": 1,
   "metadata": {},
   "outputs": [],
   "source": [
    "# import all the libraries\n",
    "\n",
    "import warnings\n",
    "warnings.filterwarnings(\"ignore\")\n",
    "\n",
    "import numpy as np\n",
    "import pandas as pd \n",
    "\n",
    "import pods\n",
    "import zipfile\n",
    "SEED = 123\n",
    "\n",
    "from IPython.display import display\n",
    "import random\n",
    "import time\n",
    "\n",
    "pd.options.display.max_columns = None\n",
    "import os\n",
    "\n",
    "import seaborn as sns\n",
    "import matplotlib.pyplot as plt\n",
    "%matplotlib inline"
   ]
  },
  {
   "cell_type": "markdown",
   "metadata": {},
   "source": [
    "### Loading the data"
   ]
  },
  {
   "cell_type": "code",
   "execution_count": 2,
   "metadata": {},
   "outputs": [
    {
     "name": "stdout",
     "output_type": "stream",
     "text": [
      "Downloading  http://archive.ics.uci.edu/ml/machine-learning-databases/00222/bank-additional.zip -> ./bank-additional.zip\n",
      "[==============================]   0.424/0.424MB                                                                                                                                                                                                                                                                                                                                                                                                                                                                                                                                                                                                                                                                                                                                                                                                                                                                                                                                                                                                                                                                                                                                                                                                                                                                                                                                                                                                                                                                                                                                                                                                                                                                                                                                                                                                                                                                                                                                                                                                                                                                                                                                                                                                                                                                                                                                                                                                                                                                                                                                                                                                                                                                                                                                                \n",
      "Downloading  http://archive.ics.uci.edu/ml/machine-learning-databases/00222/bank.zip -> ./bank.zip\n",
      "[==============================]   0.552/0.552MB                                                                                                                                                                                                                                                                                                                                                                                                                                                                                                                                                                                                                                                                                                                                                                                                                                                                                                                                                                                                                                                                                                                                                                                                                                                                                                                                                                                                                                                                                                                                                                                                                                                                                                                                                                                                                                                                                                                                                                                                                                                                                                                                                                                                                                                                                                                                                                                                                                                                                                                                                                                                                                                                                                                                                                                                                                                                                                                                                                                                                                                                                                                                                                                                                                                                                                                                                                                                                                                                                                                                                \n"
     ]
    }
   ],
   "source": [
    "pods.util.download_url('http://archive.ics.uci.edu/ml/machine-learning-databases/00222/bank-additional.zip')\n",
    "\n",
    "zip = zipfile.ZipFile('./bank-additional.zip', 'r')\n",
    "for name in zip.namelist():\n",
    "    zip.extract(name, '.')\n",
    "\n",
    "pods.util.download_url('http://archive.ics.uci.edu/ml/machine-learning-databases/00222/bank.zip')\n",
    "\n",
    "zip = zipfile.ZipFile('./bank.zip', 'r')\n",
    "for name in zip.namelist():\n",
    "    zip.extract(name, '.')"
   ]
  },
  {
   "cell_type": "code",
   "execution_count": 3,
   "metadata": {},
   "outputs": [
    {
     "data": {
      "text/plain": [
       "['bank-names.txt',\n",
       " 'bank.csv',\n",
       " '.DS_Store',\n",
       " 'bank.zip',\n",
       " 'Prediction_classification.ipynb',\n",
       " 'bank-additional',\n",
       " 'bank-full.csv',\n",
       " 'README.md',\n",
       " '__MACOSX',\n",
       " 'EDA-Copy1.ipynb',\n",
       " '.gitignore',\n",
       " '.ipynb_checkpoints',\n",
       " 'bank-additional.zip',\n",
       " '.git']"
      ]
     },
     "execution_count": 3,
     "metadata": {},
     "output_type": "execute_result"
    }
   ],
   "source": [
    "import os\n",
    "os.listdir()"
   ]
  },
  {
   "cell_type": "markdown",
   "metadata": {},
   "source": [
    "## Data exploration"
   ]
  },
  {
   "cell_type": "markdown",
   "metadata": {},
   "source": [
    "Tasks:\n",
    "    - counts or distributions of all variables\n",
    "    - data type for each feature\n",
    "    - missing data and duplicates\n",
    "    - correlations"
   ]
  },
  {
   "cell_type": "code",
   "execution_count": 4,
   "metadata": {},
   "outputs": [
    {
     "data": {
      "text/html": [
       "<div>\n",
       "<style scoped>\n",
       "    .dataframe tbody tr th:only-of-type {\n",
       "        vertical-align: middle;\n",
       "    }\n",
       "\n",
       "    .dataframe tbody tr th {\n",
       "        vertical-align: top;\n",
       "    }\n",
       "\n",
       "    .dataframe thead th {\n",
       "        text-align: right;\n",
       "    }\n",
       "</style>\n",
       "<table border=\"1\" class=\"dataframe\">\n",
       "  <thead>\n",
       "    <tr style=\"text-align: right;\">\n",
       "      <th></th>\n",
       "      <th>age</th>\n",
       "      <th>job</th>\n",
       "      <th>marital</th>\n",
       "      <th>education</th>\n",
       "      <th>default</th>\n",
       "      <th>housing</th>\n",
       "      <th>loan</th>\n",
       "      <th>contact</th>\n",
       "      <th>month</th>\n",
       "      <th>day_of_week</th>\n",
       "      <th>duration</th>\n",
       "      <th>campaign</th>\n",
       "      <th>pdays</th>\n",
       "      <th>previous</th>\n",
       "      <th>poutcome</th>\n",
       "      <th>emp.var.rate</th>\n",
       "      <th>cons.price.idx</th>\n",
       "      <th>cons.conf.idx</th>\n",
       "      <th>euribor3m</th>\n",
       "      <th>nr.employed</th>\n",
       "      <th>y</th>\n",
       "    </tr>\n",
       "  </thead>\n",
       "  <tbody>\n",
       "    <tr>\n",
       "      <th>0</th>\n",
       "      <td>56</td>\n",
       "      <td>housemaid</td>\n",
       "      <td>married</td>\n",
       "      <td>basic.4y</td>\n",
       "      <td>no</td>\n",
       "      <td>no</td>\n",
       "      <td>no</td>\n",
       "      <td>telephone</td>\n",
       "      <td>may</td>\n",
       "      <td>mon</td>\n",
       "      <td>261</td>\n",
       "      <td>1</td>\n",
       "      <td>999</td>\n",
       "      <td>0</td>\n",
       "      <td>nonexistent</td>\n",
       "      <td>1.1</td>\n",
       "      <td>93.994</td>\n",
       "      <td>-36.4</td>\n",
       "      <td>4.857</td>\n",
       "      <td>5191.0</td>\n",
       "      <td>no</td>\n",
       "    </tr>\n",
       "    <tr>\n",
       "      <th>1</th>\n",
       "      <td>57</td>\n",
       "      <td>services</td>\n",
       "      <td>married</td>\n",
       "      <td>high.school</td>\n",
       "      <td>unknown</td>\n",
       "      <td>no</td>\n",
       "      <td>no</td>\n",
       "      <td>telephone</td>\n",
       "      <td>may</td>\n",
       "      <td>mon</td>\n",
       "      <td>149</td>\n",
       "      <td>1</td>\n",
       "      <td>999</td>\n",
       "      <td>0</td>\n",
       "      <td>nonexistent</td>\n",
       "      <td>1.1</td>\n",
       "      <td>93.994</td>\n",
       "      <td>-36.4</td>\n",
       "      <td>4.857</td>\n",
       "      <td>5191.0</td>\n",
       "      <td>no</td>\n",
       "    </tr>\n",
       "    <tr>\n",
       "      <th>2</th>\n",
       "      <td>37</td>\n",
       "      <td>services</td>\n",
       "      <td>married</td>\n",
       "      <td>high.school</td>\n",
       "      <td>no</td>\n",
       "      <td>yes</td>\n",
       "      <td>no</td>\n",
       "      <td>telephone</td>\n",
       "      <td>may</td>\n",
       "      <td>mon</td>\n",
       "      <td>226</td>\n",
       "      <td>1</td>\n",
       "      <td>999</td>\n",
       "      <td>0</td>\n",
       "      <td>nonexistent</td>\n",
       "      <td>1.1</td>\n",
       "      <td>93.994</td>\n",
       "      <td>-36.4</td>\n",
       "      <td>4.857</td>\n",
       "      <td>5191.0</td>\n",
       "      <td>no</td>\n",
       "    </tr>\n",
       "    <tr>\n",
       "      <th>3</th>\n",
       "      <td>40</td>\n",
       "      <td>admin.</td>\n",
       "      <td>married</td>\n",
       "      <td>basic.6y</td>\n",
       "      <td>no</td>\n",
       "      <td>no</td>\n",
       "      <td>no</td>\n",
       "      <td>telephone</td>\n",
       "      <td>may</td>\n",
       "      <td>mon</td>\n",
       "      <td>151</td>\n",
       "      <td>1</td>\n",
       "      <td>999</td>\n",
       "      <td>0</td>\n",
       "      <td>nonexistent</td>\n",
       "      <td>1.1</td>\n",
       "      <td>93.994</td>\n",
       "      <td>-36.4</td>\n",
       "      <td>4.857</td>\n",
       "      <td>5191.0</td>\n",
       "      <td>no</td>\n",
       "    </tr>\n",
       "    <tr>\n",
       "      <th>4</th>\n",
       "      <td>56</td>\n",
       "      <td>services</td>\n",
       "      <td>married</td>\n",
       "      <td>high.school</td>\n",
       "      <td>no</td>\n",
       "      <td>no</td>\n",
       "      <td>yes</td>\n",
       "      <td>telephone</td>\n",
       "      <td>may</td>\n",
       "      <td>mon</td>\n",
       "      <td>307</td>\n",
       "      <td>1</td>\n",
       "      <td>999</td>\n",
       "      <td>0</td>\n",
       "      <td>nonexistent</td>\n",
       "      <td>1.1</td>\n",
       "      <td>93.994</td>\n",
       "      <td>-36.4</td>\n",
       "      <td>4.857</td>\n",
       "      <td>5191.0</td>\n",
       "      <td>no</td>\n",
       "    </tr>\n",
       "  </tbody>\n",
       "</table>\n",
       "</div>"
      ],
      "text/plain": [
       "   age        job  marital    education  default housing loan    contact  \\\n",
       "0   56  housemaid  married     basic.4y       no      no   no  telephone   \n",
       "1   57   services  married  high.school  unknown      no   no  telephone   \n",
       "2   37   services  married  high.school       no     yes   no  telephone   \n",
       "3   40     admin.  married     basic.6y       no      no   no  telephone   \n",
       "4   56   services  married  high.school       no      no  yes  telephone   \n",
       "\n",
       "  month day_of_week  duration  campaign  pdays  previous     poutcome  \\\n",
       "0   may         mon       261         1    999         0  nonexistent   \n",
       "1   may         mon       149         1    999         0  nonexistent   \n",
       "2   may         mon       226         1    999         0  nonexistent   \n",
       "3   may         mon       151         1    999         0  nonexistent   \n",
       "4   may         mon       307         1    999         0  nonexistent   \n",
       "\n",
       "   emp.var.rate  cons.price.idx  cons.conf.idx  euribor3m  nr.employed   y  \n",
       "0           1.1          93.994          -36.4      4.857       5191.0  no  \n",
       "1           1.1          93.994          -36.4      4.857       5191.0  no  \n",
       "2           1.1          93.994          -36.4      4.857       5191.0  no  \n",
       "3           1.1          93.994          -36.4      4.857       5191.0  no  \n",
       "4           1.1          93.994          -36.4      4.857       5191.0  no  "
      ]
     },
     "execution_count": 4,
     "metadata": {},
     "output_type": "execute_result"
    }
   ],
   "source": [
    "df = pd.read_csv(\"bank-additional/bank-additional-full.csv\", sep =\";\")\n",
    "df.head()"
   ]
  },
  {
   "cell_type": "code",
   "execution_count": 5,
   "metadata": {},
   "outputs": [],
   "source": [
    "map_dict= {\"no\":0, \"yes\":1}\n",
    "df[\"y\"] = df[\"y\"].map(map_dict)"
   ]
  },
  {
   "cell_type": "code",
   "execution_count": 6,
   "metadata": {},
   "outputs": [
    {
     "name": "stdout",
     "output_type": "stream",
     "text": [
      "The dataset has 41188 rows and 21 columns\n"
     ]
    }
   ],
   "source": [
    "print(\"The dataset has %d rows and %d columns\" % (df.shape[0], df.shape[1]))"
   ]
  },
  {
   "cell_type": "code",
   "execution_count": 7,
   "metadata": {},
   "outputs": [
    {
     "name": "stdout",
     "output_type": "stream",
     "text": [
      "<class 'pandas.core.frame.DataFrame'>\n",
      "RangeIndex: 41188 entries, 0 to 41187\n",
      "Data columns (total 21 columns):\n",
      " #   Column          Non-Null Count  Dtype  \n",
      "---  ------          --------------  -----  \n",
      " 0   age             41188 non-null  int64  \n",
      " 1   job             41188 non-null  object \n",
      " 2   marital         41188 non-null  object \n",
      " 3   education       41188 non-null  object \n",
      " 4   default         41188 non-null  object \n",
      " 5   housing         41188 non-null  object \n",
      " 6   loan            41188 non-null  object \n",
      " 7   contact         41188 non-null  object \n",
      " 8   month           41188 non-null  object \n",
      " 9   day_of_week     41188 non-null  object \n",
      " 10  duration        41188 non-null  int64  \n",
      " 11  campaign        41188 non-null  int64  \n",
      " 12  pdays           41188 non-null  int64  \n",
      " 13  previous        41188 non-null  int64  \n",
      " 14  poutcome        41188 non-null  object \n",
      " 15  emp.var.rate    41188 non-null  float64\n",
      " 16  cons.price.idx  41188 non-null  float64\n",
      " 17  cons.conf.idx   41188 non-null  float64\n",
      " 18  euribor3m       41188 non-null  float64\n",
      " 19  nr.employed     41188 non-null  float64\n",
      " 20  y               41188 non-null  int64  \n",
      "dtypes: float64(5), int64(6), object(10)\n",
      "memory usage: 6.6+ MB\n"
     ]
    }
   ],
   "source": [
    "df.info()"
   ]
  },
  {
   "cell_type": "code",
   "execution_count": 8,
   "metadata": {},
   "outputs": [
    {
     "data": {
      "text/plain": [
       "Index(['age', 'job', 'marital', 'education', 'default', 'housing', 'loan',\n",
       "       'contact', 'month', 'day_of_week', 'duration', 'campaign', 'pdays',\n",
       "       'previous', 'poutcome', 'emp.var.rate', 'cons.price.idx',\n",
       "       'cons.conf.idx', 'euribor3m', 'nr.employed', 'y'],\n",
       "      dtype='object')"
      ]
     },
     "execution_count": 8,
     "metadata": {},
     "output_type": "execute_result"
    }
   ],
   "source": [
    "df.columns"
   ]
  },
  {
   "cell_type": "markdown",
   "metadata": {},
   "source": [
    "## Target"
   ]
  },
  {
   "cell_type": "code",
   "execution_count": 9,
   "metadata": {},
   "outputs": [
    {
     "data": {
      "text/plain": [
       "0    36548\n",
       "1     4640\n",
       "Name: y, dtype: int64"
      ]
     },
     "execution_count": 9,
     "metadata": {},
     "output_type": "execute_result"
    }
   ],
   "source": [
    "df[\"y\"].value_counts()"
   ]
  },
  {
   "cell_type": "markdown",
   "metadata": {},
   "source": [
    "#### Observation:\n",
    "The target values are highly disproportional"
   ]
  },
  {
   "cell_type": "markdown",
   "metadata": {},
   "source": [
    "## Continious variables"
   ]
  },
  {
   "cell_type": "code",
   "execution_count": 10,
   "metadata": {},
   "outputs": [
    {
     "data": {
      "text/plain": [
       "['age',\n",
       " 'duration',\n",
       " 'campaign',\n",
       " 'pdays',\n",
       " 'previous',\n",
       " 'emp.var.rate',\n",
       " 'cons.price.idx',\n",
       " 'cons.conf.idx',\n",
       " 'euribor3m',\n",
       " 'nr.employed',\n",
       " 'y']"
      ]
     },
     "execution_count": 10,
     "metadata": {},
     "output_type": "execute_result"
    }
   ],
   "source": [
    "cont_variables = [col for col in df.columns if df[col].dtype!=\"object\"]\n",
    "cont_variables"
   ]
  },
  {
   "cell_type": "code",
   "execution_count": 11,
   "metadata": {},
   "outputs": [
    {
     "data": {
      "text/html": [
       "<div>\n",
       "<style scoped>\n",
       "    .dataframe tbody tr th:only-of-type {\n",
       "        vertical-align: middle;\n",
       "    }\n",
       "\n",
       "    .dataframe tbody tr th {\n",
       "        vertical-align: top;\n",
       "    }\n",
       "\n",
       "    .dataframe thead th {\n",
       "        text-align: right;\n",
       "    }\n",
       "</style>\n",
       "<table border=\"1\" class=\"dataframe\">\n",
       "  <thead>\n",
       "    <tr style=\"text-align: right;\">\n",
       "      <th></th>\n",
       "      <th>age</th>\n",
       "      <th>duration</th>\n",
       "      <th>campaign</th>\n",
       "      <th>pdays</th>\n",
       "      <th>previous</th>\n",
       "      <th>emp.var.rate</th>\n",
       "      <th>cons.price.idx</th>\n",
       "      <th>cons.conf.idx</th>\n",
       "      <th>euribor3m</th>\n",
       "      <th>nr.employed</th>\n",
       "      <th>y</th>\n",
       "    </tr>\n",
       "  </thead>\n",
       "  <tbody>\n",
       "    <tr>\n",
       "      <th>count</th>\n",
       "      <td>41188.00000</td>\n",
       "      <td>41188.000000</td>\n",
       "      <td>41188.000000</td>\n",
       "      <td>41188.000000</td>\n",
       "      <td>41188.000000</td>\n",
       "      <td>41188.000000</td>\n",
       "      <td>41188.000000</td>\n",
       "      <td>41188.000000</td>\n",
       "      <td>41188.000000</td>\n",
       "      <td>41188.000000</td>\n",
       "      <td>41188.000000</td>\n",
       "    </tr>\n",
       "    <tr>\n",
       "      <th>mean</th>\n",
       "      <td>40.02406</td>\n",
       "      <td>258.285010</td>\n",
       "      <td>2.567593</td>\n",
       "      <td>962.475454</td>\n",
       "      <td>0.172963</td>\n",
       "      <td>0.081886</td>\n",
       "      <td>93.575664</td>\n",
       "      <td>-40.502600</td>\n",
       "      <td>3.621291</td>\n",
       "      <td>5167.035911</td>\n",
       "      <td>0.112654</td>\n",
       "    </tr>\n",
       "    <tr>\n",
       "      <th>std</th>\n",
       "      <td>10.42125</td>\n",
       "      <td>259.279249</td>\n",
       "      <td>2.770014</td>\n",
       "      <td>186.910907</td>\n",
       "      <td>0.494901</td>\n",
       "      <td>1.570960</td>\n",
       "      <td>0.578840</td>\n",
       "      <td>4.628198</td>\n",
       "      <td>1.734447</td>\n",
       "      <td>72.251528</td>\n",
       "      <td>0.316173</td>\n",
       "    </tr>\n",
       "    <tr>\n",
       "      <th>min</th>\n",
       "      <td>17.00000</td>\n",
       "      <td>0.000000</td>\n",
       "      <td>1.000000</td>\n",
       "      <td>0.000000</td>\n",
       "      <td>0.000000</td>\n",
       "      <td>-3.400000</td>\n",
       "      <td>92.201000</td>\n",
       "      <td>-50.800000</td>\n",
       "      <td>0.634000</td>\n",
       "      <td>4963.600000</td>\n",
       "      <td>0.000000</td>\n",
       "    </tr>\n",
       "    <tr>\n",
       "      <th>25%</th>\n",
       "      <td>32.00000</td>\n",
       "      <td>102.000000</td>\n",
       "      <td>1.000000</td>\n",
       "      <td>999.000000</td>\n",
       "      <td>0.000000</td>\n",
       "      <td>-1.800000</td>\n",
       "      <td>93.075000</td>\n",
       "      <td>-42.700000</td>\n",
       "      <td>1.344000</td>\n",
       "      <td>5099.100000</td>\n",
       "      <td>0.000000</td>\n",
       "    </tr>\n",
       "    <tr>\n",
       "      <th>50%</th>\n",
       "      <td>38.00000</td>\n",
       "      <td>180.000000</td>\n",
       "      <td>2.000000</td>\n",
       "      <td>999.000000</td>\n",
       "      <td>0.000000</td>\n",
       "      <td>1.100000</td>\n",
       "      <td>93.749000</td>\n",
       "      <td>-41.800000</td>\n",
       "      <td>4.857000</td>\n",
       "      <td>5191.000000</td>\n",
       "      <td>0.000000</td>\n",
       "    </tr>\n",
       "    <tr>\n",
       "      <th>75%</th>\n",
       "      <td>47.00000</td>\n",
       "      <td>319.000000</td>\n",
       "      <td>3.000000</td>\n",
       "      <td>999.000000</td>\n",
       "      <td>0.000000</td>\n",
       "      <td>1.400000</td>\n",
       "      <td>93.994000</td>\n",
       "      <td>-36.400000</td>\n",
       "      <td>4.961000</td>\n",
       "      <td>5228.100000</td>\n",
       "      <td>0.000000</td>\n",
       "    </tr>\n",
       "    <tr>\n",
       "      <th>max</th>\n",
       "      <td>98.00000</td>\n",
       "      <td>4918.000000</td>\n",
       "      <td>56.000000</td>\n",
       "      <td>999.000000</td>\n",
       "      <td>7.000000</td>\n",
       "      <td>1.400000</td>\n",
       "      <td>94.767000</td>\n",
       "      <td>-26.900000</td>\n",
       "      <td>5.045000</td>\n",
       "      <td>5228.100000</td>\n",
       "      <td>1.000000</td>\n",
       "    </tr>\n",
       "  </tbody>\n",
       "</table>\n",
       "</div>"
      ],
      "text/plain": [
       "               age      duration      campaign         pdays      previous  \\\n",
       "count  41188.00000  41188.000000  41188.000000  41188.000000  41188.000000   \n",
       "mean      40.02406    258.285010      2.567593    962.475454      0.172963   \n",
       "std       10.42125    259.279249      2.770014    186.910907      0.494901   \n",
       "min       17.00000      0.000000      1.000000      0.000000      0.000000   \n",
       "25%       32.00000    102.000000      1.000000    999.000000      0.000000   \n",
       "50%       38.00000    180.000000      2.000000    999.000000      0.000000   \n",
       "75%       47.00000    319.000000      3.000000    999.000000      0.000000   \n",
       "max       98.00000   4918.000000     56.000000    999.000000      7.000000   \n",
       "\n",
       "       emp.var.rate  cons.price.idx  cons.conf.idx     euribor3m  \\\n",
       "count  41188.000000    41188.000000   41188.000000  41188.000000   \n",
       "mean       0.081886       93.575664     -40.502600      3.621291   \n",
       "std        1.570960        0.578840       4.628198      1.734447   \n",
       "min       -3.400000       92.201000     -50.800000      0.634000   \n",
       "25%       -1.800000       93.075000     -42.700000      1.344000   \n",
       "50%        1.100000       93.749000     -41.800000      4.857000   \n",
       "75%        1.400000       93.994000     -36.400000      4.961000   \n",
       "max        1.400000       94.767000     -26.900000      5.045000   \n",
       "\n",
       "        nr.employed             y  \n",
       "count  41188.000000  41188.000000  \n",
       "mean    5167.035911      0.112654  \n",
       "std       72.251528      0.316173  \n",
       "min     4963.600000      0.000000  \n",
       "25%     5099.100000      0.000000  \n",
       "50%     5191.000000      0.000000  \n",
       "75%     5228.100000      0.000000  \n",
       "max     5228.100000      1.000000  "
      ]
     },
     "execution_count": 11,
     "metadata": {},
     "output_type": "execute_result"
    }
   ],
   "source": [
    "df[cont_variables].describe()"
   ]
  },
  {
   "cell_type": "markdown",
   "metadata": {},
   "source": [
    "#### Observations:\n",
    " - there is no explicit missing (null values) among continious variables\n",
    " - but for the column pdays 999 means client was not previously contacted, \n",
    "so it might be reasonable to make a new column indicating the presence of this feature"
   ]
  },
  {
   "cell_type": "code",
   "execution_count": 12,
   "metadata": {},
   "outputs": [
    {
     "data": {
      "text/html": [
       "<div>\n",
       "<style scoped>\n",
       "    .dataframe tbody tr th:only-of-type {\n",
       "        vertical-align: middle;\n",
       "    }\n",
       "\n",
       "    .dataframe tbody tr th {\n",
       "        vertical-align: top;\n",
       "    }\n",
       "\n",
       "    .dataframe thead tr th {\n",
       "        text-align: left;\n",
       "    }\n",
       "\n",
       "    .dataframe thead tr:last-of-type th {\n",
       "        text-align: right;\n",
       "    }\n",
       "</style>\n",
       "<table border=\"1\" class=\"dataframe\">\n",
       "  <thead>\n",
       "    <tr>\n",
       "      <th></th>\n",
       "      <th colspan=\"2\" halign=\"left\">y</th>\n",
       "    </tr>\n",
       "    <tr>\n",
       "      <th></th>\n",
       "      <th>mean</th>\n",
       "      <th>count</th>\n",
       "    </tr>\n",
       "    <tr>\n",
       "      <th>pdays</th>\n",
       "      <th></th>\n",
       "      <th></th>\n",
       "    </tr>\n",
       "  </thead>\n",
       "  <tbody>\n",
       "    <tr>\n",
       "      <th>False</th>\n",
       "      <td>0.638284</td>\n",
       "      <td>1515</td>\n",
       "    </tr>\n",
       "    <tr>\n",
       "      <th>True</th>\n",
       "      <td>0.092582</td>\n",
       "      <td>39673</td>\n",
       "    </tr>\n",
       "  </tbody>\n",
       "</table>\n",
       "</div>"
      ],
      "text/plain": [
       "              y       \n",
       "           mean  count\n",
       "pdays                 \n",
       "False  0.638284   1515\n",
       "True   0.092582  39673"
      ]
     },
     "execution_count": 12,
     "metadata": {},
     "output_type": "execute_result"
    }
   ],
   "source": [
    "df.groupby(df[\"pdays\"]==999).agg({\"y\": [\"mean\", \"count\"]})"
   ]
  },
  {
   "cell_type": "markdown",
   "metadata": {},
   "source": [
    "#### Observation:\n",
    "- when the variable \"pdays\" is equal to 999 (no previous contacts), it is more likely to have y=0"
   ]
  },
  {
   "cell_type": "markdown",
   "metadata": {},
   "source": [
    "### Ordinal or continious variables"
   ]
  },
  {
   "cell_type": "code",
   "execution_count": 13,
   "metadata": {},
   "outputs": [
    {
     "name": "stdout",
     "output_type": "stream",
     "text": [
      "Column emp.var.rate, Number of unique values: 10, \n",
      "Column campaign, Number of unique values: 42, \n",
      "Column cons.price.idx, Number of unique values: 26, \n",
      "Column age, Number of unique values: 78, \n",
      "Column duration, Number of unique values: 1544, \n",
      "Column cons.conf.idx, Number of unique values: 26, \n",
      "Column nr.employed, Number of unique values: 11, \n",
      "Column previous, Number of unique values: 8, \n",
      "Column euribor3m, Number of unique values: 316, \n",
      "Column pdays, Number of unique values: 27, \n"
     ]
    }
   ],
   "source": [
    "cat_col = {}\n",
    "for col in set(cont_variables)-set([\"y\"]):\n",
    "    n_unique = df[col].nunique()\n",
    "    print(\"Column %s, Number of unique values: %d, \" % (col, n_unique))\n",
    "    if n_unique<50:\n",
    "        cat_col[col]=n_unique"
   ]
  },
  {
   "cell_type": "code",
   "execution_count": 14,
   "metadata": {},
   "outputs": [
    {
     "data": {
      "text/plain": [
       "{'emp.var.rate': 10,\n",
       " 'campaign': 42,\n",
       " 'cons.price.idx': 26,\n",
       " 'cons.conf.idx': 26,\n",
       " 'nr.employed': 11,\n",
       " 'previous': 8,\n",
       " 'pdays': 27}"
      ]
     },
     "execution_count": 14,
     "metadata": {},
     "output_type": "execute_result"
    }
   ],
   "source": [
    "cat_col "
   ]
  },
  {
   "cell_type": "markdown",
   "metadata": {},
   "source": [
    "#### Conclusion:\n",
    "Considering number of unique variants and data description, \"campaign\" is a categorical variable.\n",
    "At the same time, due to a small number of unique values, some other columns might be treated in the same way."
   ]
  },
  {
   "cell_type": "code",
   "execution_count": 15,
   "metadata": {},
   "outputs": [],
   "source": [
    "cat_col = [\"campaign\", \"nr.employed\"]"
   ]
  },
  {
   "cell_type": "code",
   "execution_count": 16,
   "metadata": {},
   "outputs": [
    {
     "data": {
      "text/plain": [
       "['emp.var.rate',\n",
       " 'cons.price.idx',\n",
       " 'age',\n",
       " 'duration',\n",
       " 'cons.conf.idx',\n",
       " 'previous',\n",
       " 'euribor3m',\n",
       " 'pdays']"
      ]
     },
     "execution_count": 16,
     "metadata": {},
     "output_type": "execute_result"
    }
   ],
   "source": [
    "trully_cont_col = list(set(cont_variables) - set(cat_col)- set([\"y\"]))\n",
    "trully_cont_col"
   ]
  },
  {
   "cell_type": "markdown",
   "metadata": {},
   "source": [
    "#### Which features might be strong indicators"
   ]
  },
  {
   "cell_type": "code",
   "execution_count": 17,
   "metadata": {},
   "outputs": [
    {
     "data": {
      "text/html": [
       "<div>\n",
       "<style scoped>\n",
       "    .dataframe tbody tr th:only-of-type {\n",
       "        vertical-align: middle;\n",
       "    }\n",
       "\n",
       "    .dataframe tbody tr th {\n",
       "        vertical-align: top;\n",
       "    }\n",
       "\n",
       "    .dataframe thead th {\n",
       "        text-align: right;\n",
       "    }\n",
       "</style>\n",
       "<table border=\"1\" class=\"dataframe\">\n",
       "  <thead>\n",
       "    <tr style=\"text-align: right;\">\n",
       "      <th></th>\n",
       "      <th>emp.var.rate</th>\n",
       "      <th>cons.price.idx</th>\n",
       "      <th>age</th>\n",
       "      <th>duration</th>\n",
       "      <th>cons.conf.idx</th>\n",
       "      <th>previous</th>\n",
       "      <th>euribor3m</th>\n",
       "      <th>pdays</th>\n",
       "    </tr>\n",
       "    <tr>\n",
       "      <th>y</th>\n",
       "      <th></th>\n",
       "      <th></th>\n",
       "      <th></th>\n",
       "      <th></th>\n",
       "      <th></th>\n",
       "      <th></th>\n",
       "      <th></th>\n",
       "      <th></th>\n",
       "    </tr>\n",
       "  </thead>\n",
       "  <tbody>\n",
       "    <tr>\n",
       "      <th>0</th>\n",
       "      <td>0.248875</td>\n",
       "      <td>93.603757</td>\n",
       "      <td>39.911185</td>\n",
       "      <td>220.844807</td>\n",
       "      <td>-40.593097</td>\n",
       "      <td>0.132374</td>\n",
       "      <td>3.811491</td>\n",
       "      <td>984.113878</td>\n",
       "    </tr>\n",
       "    <tr>\n",
       "      <th>1</th>\n",
       "      <td>-1.233448</td>\n",
       "      <td>93.354386</td>\n",
       "      <td>40.913147</td>\n",
       "      <td>553.191164</td>\n",
       "      <td>-39.789784</td>\n",
       "      <td>0.492672</td>\n",
       "      <td>2.123135</td>\n",
       "      <td>792.035560</td>\n",
       "    </tr>\n",
       "  </tbody>\n",
       "</table>\n",
       "</div>"
      ],
      "text/plain": [
       "   emp.var.rate  cons.price.idx        age    duration  cons.conf.idx  \\\n",
       "y                                                                       \n",
       "0      0.248875       93.603757  39.911185  220.844807     -40.593097   \n",
       "1     -1.233448       93.354386  40.913147  553.191164     -39.789784   \n",
       "\n",
       "   previous  euribor3m       pdays  \n",
       "y                                   \n",
       "0  0.132374   3.811491  984.113878  \n",
       "1  0.492672   2.123135  792.035560  "
      ]
     },
     "execution_count": 17,
     "metadata": {},
     "output_type": "execute_result"
    }
   ],
   "source": [
    "df[trully_cont_col+[\"y\"]].groupby(\"y\").mean()"
   ]
  },
  {
   "cell_type": "markdown",
   "metadata": {},
   "source": [
    "#### Observations:\n",
    "- Several features stand out: duration and emp.var.rate"
   ]
  },
  {
   "cell_type": "markdown",
   "metadata": {},
   "source": [
    "### Shape of the features and how they relate to the target variable"
   ]
  },
  {
   "cell_type": "code",
   "execution_count": 18,
   "metadata": {},
   "outputs": [
    {
     "data": {
      "image/png": "[encoded data removed]",
      "text/plain": [
       "<Figure size 432x288 with 1 Axes>"
      ]
     },
     "metadata": {
      "needs_background": "light"
     },
     "output_type": "display_data"
    },
    {
     "data": {
      "image/png": "[encoded data removed]",
      "text/plain": [
       "<Figure size 432x288 with 1 Axes>"
      ]
     },
     "metadata": {
      "needs_background": "light"
     },
     "output_type": "display_data"
    },
    {
     "data": {
      "image/png": "[encoded data removed]",
      "text/plain": [
       "<Figure size 432x288 with 1 Axes>"
      ]
     },
     "metadata": {
      "needs_background": "light"
     },
     "output_type": "display_data"
    },
    {
     "data": {
      "image/png": "[encoded data removed]",
      "text/plain": [
       "<Figure size 432x288 with 1 Axes>"
      ]
     },
     "metadata": {
      "needs_background": "light"
     },
     "output_type": "display_data"
    },
    {
     "data": {
      "image/png": "[encoded data removed]",
      "text/plain": [
       "<Figure size 432x288 with 1 Axes>"
      ]
     },
     "metadata": {
      "needs_background": "light"
     },
     "output_type": "display_data"
    },
    {
     "data": {
      "image/png": "[encoded data removed]",
      "text/plain": [
       "<Figure size 432x288 with 1 Axes>"
      ]
     },
     "metadata": {
      "needs_background": "light"
     },
     "output_type": "display_data"
    },
    {
     "data": {
      "image/png": "[encoded data removed]",
      "text/plain": [
       "<Figure size 432x288 with 1 Axes>"
      ]
     },
     "metadata": {
      "needs_background": "light"
     },
     "output_type": "display_data"
    },
    {
     "data": {
      "image/png": "[encoded data removed]",
      "text/plain": [
       "<Figure size 432x288 with 1 Axes>"
      ]
     },
     "metadata": {
      "needs_background": "light"
     },
     "output_type": "display_data"
    }
   ],
   "source": [
    "n_bins =40\n",
    "for col in trully_cont_col:\n",
    "    subscribed = df[df[\"y\"] == 1][col].values\n",
    "    not_subscribed = df[df[\"y\"] == 0][col].values\n",
    "    xmin = min(min(subscribed), min(not_subscribed))\n",
    "    xmax = max(max(subscribed), max(not_subscribed))\n",
    "    width = (xmax-xmin)/n_bins\n",
    "    sns.distplot(subscribed, color = \"red\", kde = False, bins = np.arange(xmin, xmax, width), label = \"Subscribed\")\n",
    "    sns.distplot(not_subscribed, color = \"green\", kde = False, bins = np.arange(xmin, xmax, width), label = \"Not subscribed\")\n",
    "    plt.legend()\n",
    "    plt.title(\"Overlaid histograms for column: %s\" % col)\n",
    "    plt.show()\n",
    "    "
   ]
  },
  {
   "cell_type": "markdown",
   "metadata": {},
   "source": [
    "#### Observation:\n",
    "\"euribor3m\" can be potentially transformed into 4-categorical  variable:\n",
    "    ([<1.2], [1.2, 2], [3.8, 4.2, [>4.5]]"
   ]
  },
  {
   "cell_type": "code",
   "execution_count": 19,
   "metadata": {},
   "outputs": [
    {
     "data": {
      "text/plain": [
       "4    24131\n",
       "2     9238\n",
       "1     4260\n",
       "3     3559\n",
       "Name: new_euribor3m, dtype: int64"
      ]
     },
     "execution_count": 19,
     "metadata": {},
     "output_type": "execute_result"
    }
   ],
   "source": [
    "df[\"new_euribor3m\"] = df[\"euribor3m\"].apply(lambda x: 1 if x<1.2 else\n",
    "                                            (2 if (x>1.2 and x<2) else\n",
    "                                            (3 if (x>3.8 and x<4.2) else 4)))\n",
    "\n",
    "cat_col.append(\"new_euribor3m\")\n",
    "df[\"new_euribor3m\"].value_counts()                                            "
   ]
  },
  {
   "cell_type": "code",
   "execution_count": 20,
   "metadata": {},
   "outputs": [
    {
     "data": {
      "text/plain": [
       "<Figure size 432x288 with 0 Axes>"
      ]
     },
     "metadata": {},
     "output_type": "display_data"
    },
    {
     "data": {
      "image/png": "[encoded data removed]",
      "text/plain": [
       "<Figure size 720x360 with 1 Axes>"
      ]
     },
     "metadata": {
      "needs_background": "light"
     },
     "output_type": "display_data"
    },
    {
     "data": {
      "image/png": "[encoded data removed]",
      "text/plain": [
       "<Figure size 720x360 with 1 Axes>"
      ]
     },
     "metadata": {
      "needs_background": "light"
     },
     "output_type": "display_data"
    },
    {
     "data": {
      "image/png": "[encoded data removed]",
      "text/plain": [
       "<Figure size 720x360 with 1 Axes>"
      ]
     },
     "metadata": {
      "needs_background": "light"
     },
     "output_type": "display_data"
    }
   ],
   "source": [
    "for i, col in enumerate(cat_col):\n",
    "    plt.figure(i)\n",
    "    sns.catplot(x=col, y=\"y\", data =df, kind= \"point\", aspect =2);"
   ]
  },
  {
   "cell_type": "code",
   "execution_count": 21,
   "metadata": {},
   "outputs": [
    {
     "data": {
      "text/plain": [
       "36548"
      ]
     },
     "execution_count": 21,
     "metadata": {},
     "output_type": "execute_result"
    }
   ],
   "source": [
    "len(df[df[\"y\"]==0][\"campaign\"].values)"
   ]
  },
  {
   "cell_type": "markdown",
   "metadata": {},
   "source": [
    "### Inefficient campaigns which has only y=0"
   ]
  },
  {
   "cell_type": "code",
   "execution_count": 22,
   "metadata": {},
   "outputs": [
    {
     "name": "stdout",
     "output_type": "stream",
     "text": [
      "Total number of unique campaigns /Number of contacts performed during this campaign and for this client): 42\n",
      "Number of inefficient sets of contacts 25\n"
     ]
    }
   ],
   "source": [
    "gr = df.groupby([\"campaign\", \"y\"])[[\"age\"]].count().reset_index(\"y\")\n",
    "zero_campaigns = set(gr.index) - set(gr[gr[\"y\"]==1].index)\n",
    "print(\"Total number of unique campaigns /Number of contacts performed during this campaign and for this client):\", df[\"campaign\"].nunique())\n",
    "print(\"Number of inefficient sets of contacts\", len(zero_campaigns))"
   ]
  },
  {
   "cell_type": "code",
   "execution_count": 23,
   "metadata": {},
   "outputs": [
    {
     "data": {
      "image/png": "[encoded data removed]",
      "text/plain": [
       "<Figure size 360x360 with 1 Axes>"
      ]
     },
     "metadata": {
      "needs_background": "light"
     },
     "output_type": "display_data"
    }
   ],
   "source": [
    "df2 = df.set_index(\"campaign\").loc[zero_campaigns, :].reset_index()\n",
    "sns.catplot(x=\"campaign\", kind=\"count\", data=df2);"
   ]
  },
  {
   "cell_type": "code",
   "execution_count": 24,
   "metadata": {},
   "outputs": [
    {
     "data": {
      "text/plain": [
       "(30, 22)"
      ]
     },
     "execution_count": 24,
     "metadata": {},
     "output_type": "execute_result"
    }
   ],
   "source": [
    "df[df[\"campaign\"]==20].shape"
   ]
  },
  {
   "cell_type": "code",
   "execution_count": 48,
   "metadata": {},
   "outputs": [
    {
     "data": {
      "image/png": "[encoded data removed]",
      "text/plain": [
       "<Figure size 720x360 with 1 Axes>"
      ]
     },
     "metadata": {
      "needs_background": "light"
     },
     "output_type": "display_data"
    }
   ],
   "source": [
    "sns.catplot(x=\"campaign\", y=\"y\", data =df, kind= \"bar\", aspect=2);"
   ]
  },
  {
   "cell_type": "code",
   "execution_count": 63,
   "metadata": {},
   "outputs": [],
   "source": [
    "df[\"campaign_7\"] = np.where(df[\"campaign\"]<=7, \"less_7\", \"more_7\")"
   ]
  },
  {
   "cell_type": "code",
   "execution_count": 49,
   "metadata": {},
   "outputs": [
    {
     "data": {
      "text/plain": [
       "0    15\n",
       "1     1\n",
       "Name: y, dtype: int64"
      ]
     },
     "execution_count": 49,
     "metadata": {},
     "output_type": "execute_result"
    }
   ],
   "source": [
    "df[df[\"campaign\"]==23][\"y\"].value_counts()"
   ]
  },
  {
   "cell_type": "code",
   "execution_count": 50,
   "metadata": {},
   "outputs": [
    {
     "data": {
      "text/plain": [
       "(0.0625, 0.25)"
      ]
     },
     "execution_count": 50,
     "metadata": {},
     "output_type": "execute_result"
    }
   ],
   "source": [
    "df[df[\"campaign\"]==23][\"y\"].mean(), df[df[\"campaign\"]==23][\"y\"].std()"
   ]
  },
  {
   "cell_type": "markdown",
   "metadata": {},
   "source": [
    "#### Observations:\n",
    "y-axis corresponds to percent of people subscribed to a service \n",
    "As it can be seen from the data, campaigns >25 were not efficient at all\n",
    "\n",
    "Increase in euribor leads to decrease in subsription"
   ]
  },
  {
   "cell_type": "markdown",
   "metadata": {},
   "source": [
    "###  Correlation"
   ]
  },
  {
   "cell_type": "code",
   "execution_count": 25,
   "metadata": {},
   "outputs": [
    {
     "data": {
      "text/html": [
       "<style  type=\"text/css\" >\n",
       "    #T_d9766054_027f_11eb_aa70_c869cd8c677erow0_col0 {\n",
       "            background-color:  #b40426;\n",
       "            color:  #f1f1f1;\n",
       "        }    #T_d9766054_027f_11eb_aa70_c869cd8c677erow0_col1 {\n",
       "            background-color:  #eb7d62;\n",
       "            color:  #000000;\n",
       "        }    #T_d9766054_027f_11eb_aa70_c869cd8c677erow0_col2 {\n",
       "            background-color:  #445acc;\n",
       "            color:  #f1f1f1;\n",
       "        }    #T_d9766054_027f_11eb_aa70_c869cd8c677erow0_col3 {\n",
       "            background-color:  #3f53c6;\n",
       "            color:  #f1f1f1;\n",
       "        }    #T_d9766054_027f_11eb_aa70_c869cd8c677erow0_col4 {\n",
       "            background-color:  #92b4fe;\n",
       "            color:  #000000;\n",
       "        }    #T_d9766054_027f_11eb_aa70_c869cd8c677erow0_col5 {\n",
       "            background-color:  #5a78e4;\n",
       "            color:  #000000;\n",
       "        }    #T_d9766054_027f_11eb_aa70_c869cd8c677erow0_col6 {\n",
       "            background-color:  #ba162b;\n",
       "            color:  #f1f1f1;\n",
       "        }    #T_d9766054_027f_11eb_aa70_c869cd8c677erow0_col7 {\n",
       "            background-color:  #e7d7ce;\n",
       "            color:  #000000;\n",
       "        }    #T_d9766054_027f_11eb_aa70_c869cd8c677erow1_col0 {\n",
       "            background-color:  #e57058;\n",
       "            color:  #000000;\n",
       "        }    #T_d9766054_027f_11eb_aa70_c869cd8c677erow1_col1 {\n",
       "            background-color:  #b40426;\n",
       "            color:  #f1f1f1;\n",
       "        }    #T_d9766054_027f_11eb_aa70_c869cd8c677erow1_col2 {\n",
       "            background-color:  #445acc;\n",
       "            color:  #f1f1f1;\n",
       "        }    #T_d9766054_027f_11eb_aa70_c869cd8c677erow1_col3 {\n",
       "            background-color:  #4961d2;\n",
       "            color:  #f1f1f1;\n",
       "        }    #T_d9766054_027f_11eb_aa70_c869cd8c677erow1_col4 {\n",
       "            background-color:  #6687ed;\n",
       "            color:  #000000;\n",
       "        }    #T_d9766054_027f_11eb_aa70_c869cd8c677erow1_col5 {\n",
       "            background-color:  #89acfd;\n",
       "            color:  #000000;\n",
       "        }    #T_d9766054_027f_11eb_aa70_c869cd8c677erow1_col6 {\n",
       "            background-color:  #f08a6c;\n",
       "            color:  #000000;\n",
       "        }    #T_d9766054_027f_11eb_aa70_c869cd8c677erow1_col7 {\n",
       "            background-color:  #c6d6f1;\n",
       "            color:  #000000;\n",
       "        }    #T_d9766054_027f_11eb_aa70_c869cd8c677erow2_col0 {\n",
       "            background-color:  #9dbdff;\n",
       "            color:  #000000;\n",
       "        }    #T_d9766054_027f_11eb_aa70_c869cd8c677erow2_col1 {\n",
       "            background-color:  #7093f3;\n",
       "            color:  #000000;\n",
       "        }    #T_d9766054_027f_11eb_aa70_c869cd8c677erow2_col2 {\n",
       "            background-color:  #b40426;\n",
       "            color:  #f1f1f1;\n",
       "        }    #T_d9766054_027f_11eb_aa70_c869cd8c677erow2_col3 {\n",
       "            background-color:  #485fd1;\n",
       "            color:  #f1f1f1;\n",
       "        }    #T_d9766054_027f_11eb_aa70_c869cd8c677erow2_col4 {\n",
       "            background-color:  #7b9ff9;\n",
       "            color:  #000000;\n",
       "        }    #T_d9766054_027f_11eb_aa70_c869cd8c677erow2_col5 {\n",
       "            background-color:  #bbd1f8;\n",
       "            color:  #000000;\n",
       "        }    #T_d9766054_027f_11eb_aa70_c869cd8c677erow2_col6 {\n",
       "            background-color:  #a5c3fe;\n",
       "            color:  #000000;\n",
       "        }    #T_d9766054_027f_11eb_aa70_c869cd8c677erow2_col7 {\n",
       "            background-color:  #afcafc;\n",
       "            color:  #000000;\n",
       "        }    #T_d9766054_027f_11eb_aa70_c869cd8c677erow3_col0 {\n",
       "            background-color:  #96b7ff;\n",
       "            color:  #000000;\n",
       "        }    #T_d9766054_027f_11eb_aa70_c869cd8c677erow3_col1 {\n",
       "            background-color:  #7295f4;\n",
       "            color:  #000000;\n",
       "        }    #T_d9766054_027f_11eb_aa70_c869cd8c677erow3_col2 {\n",
       "            background-color:  #445acc;\n",
       "            color:  #f1f1f1;\n",
       "        }    #T_d9766054_027f_11eb_aa70_c869cd8c677erow3_col3 {\n",
       "            background-color:  #b40426;\n",
       "            color:  #f1f1f1;\n",
       "        }    #T_d9766054_027f_11eb_aa70_c869cd8c677erow3_col4 {\n",
       "            background-color:  #516ddb;\n",
       "            color:  #000000;\n",
       "        }    #T_d9766054_027f_11eb_aa70_c869cd8c677erow3_col5 {\n",
       "            background-color:  #bbd1f8;\n",
       "            color:  #000000;\n",
       "        }    #T_d9766054_027f_11eb_aa70_c869cd8c677erow3_col6 {\n",
       "            background-color:  #9bbcff;\n",
       "            color:  #000000;\n",
       "        }    #T_d9766054_027f_11eb_aa70_c869cd8c677erow3_col7 {\n",
       "            background-color:  #adc9fd;\n",
       "            color:  #000000;\n",
       "        }    #T_d9766054_027f_11eb_aa70_c869cd8c677erow4_col0 {\n",
       "            background-color:  #cbd8ee;\n",
       "            color:  #000000;\n",
       "        }    #T_d9766054_027f_11eb_aa70_c869cd8c677erow4_col1 {\n",
       "            background-color:  #81a4fb;\n",
       "            color:  #000000;\n",
       "        }    #T_d9766054_027f_11eb_aa70_c869cd8c677erow4_col2 {\n",
       "            background-color:  #6c8ff1;\n",
       "            color:  #000000;\n",
       "        }    #T_d9766054_027f_11eb_aa70_c869cd8c677erow4_col3 {\n",
       "            background-color:  #455cce;\n",
       "            color:  #f1f1f1;\n",
       "        }    #T_d9766054_027f_11eb_aa70_c869cd8c677erow4_col4 {\n",
       "            background-color:  #b40426;\n",
       "            color:  #f1f1f1;\n",
       "        }    #T_d9766054_027f_11eb_aa70_c869cd8c677erow4_col5 {\n",
       "            background-color:  #abc8fd;\n",
       "            color:  #000000;\n",
       "        }    #T_d9766054_027f_11eb_aa70_c869cd8c677erow4_col6 {\n",
       "            background-color:  #dddcdc;\n",
       "            color:  #000000;\n",
       "        }    #T_d9766054_027f_11eb_aa70_c869cd8c677erow4_col7 {\n",
       "            background-color:  #a3c2fe;\n",
       "            color:  #000000;\n",
       "        }    #T_d9766054_027f_11eb_aa70_c869cd8c677erow5_col0 {\n",
       "            background-color:  #3b4cc0;\n",
       "            color:  #f1f1f1;\n",
       "        }    #T_d9766054_027f_11eb_aa70_c869cd8c677erow5_col1 {\n",
       "            background-color:  #3b4cc0;\n",
       "            color:  #f1f1f1;\n",
       "        }    #T_d9766054_027f_11eb_aa70_c869cd8c677erow5_col2 {\n",
       "            background-color:  #4b64d5;\n",
       "            color:  #f1f1f1;\n",
       "        }    #T_d9766054_027f_11eb_aa70_c869cd8c677erow5_col3 {\n",
       "            background-color:  #4e68d8;\n",
       "            color:  #000000;\n",
       "        }    #T_d9766054_027f_11eb_aa70_c869cd8c677erow5_col4 {\n",
       "            background-color:  #455cce;\n",
       "            color:  #f1f1f1;\n",
       "        }    #T_d9766054_027f_11eb_aa70_c869cd8c677erow5_col5 {\n",
       "            background-color:  #b40426;\n",
       "            color:  #f1f1f1;\n",
       "        }    #T_d9766054_027f_11eb_aa70_c869cd8c677erow5_col6 {\n",
       "            background-color:  #3b4cc0;\n",
       "            color:  #f1f1f1;\n",
       "        }    #T_d9766054_027f_11eb_aa70_c869cd8c677erow5_col7 {\n",
       "            background-color:  #3b4cc0;\n",
       "            color:  #f1f1f1;\n",
       "        }    #T_d9766054_027f_11eb_aa70_c869cd8c677erow6_col0 {\n",
       "            background-color:  #bb1b2c;\n",
       "            color:  #f1f1f1;\n",
       "        }    #T_d9766054_027f_11eb_aa70_c869cd8c677erow6_col1 {\n",
       "            background-color:  #f59d7e;\n",
       "            color:  #000000;\n",
       "        }    #T_d9766054_027f_11eb_aa70_c869cd8c677erow6_col2 {\n",
       "            background-color:  #485fd1;\n",
       "            color:  #f1f1f1;\n",
       "        }    #T_d9766054_027f_11eb_aa70_c869cd8c677erow6_col3 {\n",
       "            background-color:  #3e51c5;\n",
       "            color:  #f1f1f1;\n",
       "        }    #T_d9766054_027f_11eb_aa70_c869cd8c677erow6_col4 {\n",
       "            background-color:  #abc8fd;\n",
       "            color:  #000000;\n",
       "        }    #T_d9766054_027f_11eb_aa70_c869cd8c677erow6_col5 {\n",
       "            background-color:  #5470de;\n",
       "            color:  #000000;\n",
       "        }    #T_d9766054_027f_11eb_aa70_c869cd8c677erow6_col6 {\n",
       "            background-color:  #b40426;\n",
       "            color:  #f1f1f1;\n",
       "        }    #T_d9766054_027f_11eb_aa70_c869cd8c677erow6_col7 {\n",
       "            background-color:  #ead4c8;\n",
       "            color:  #000000;\n",
       "        }    #T_d9766054_027f_11eb_aa70_c869cd8c677erow7_col0 {\n",
       "            background-color:  #d9dce1;\n",
       "            color:  #000000;\n",
       "        }    #T_d9766054_027f_11eb_aa70_c869cd8c677erow7_col1 {\n",
       "            background-color:  #88abfd;\n",
       "            color:  #000000;\n",
       "        }    #T_d9766054_027f_11eb_aa70_c869cd8c677erow7_col2 {\n",
       "            background-color:  #3b4cc0;\n",
       "            color:  #f1f1f1;\n",
       "        }    #T_d9766054_027f_11eb_aa70_c869cd8c677erow7_col3 {\n",
       "            background-color:  #3b4cc0;\n",
       "            color:  #f1f1f1;\n",
       "        }    #T_d9766054_027f_11eb_aa70_c869cd8c677erow7_col4 {\n",
       "            background-color:  #3b4cc0;\n",
       "            color:  #f1f1f1;\n",
       "        }    #T_d9766054_027f_11eb_aa70_c869cd8c677erow7_col5 {\n",
       "            background-color:  #3b4cc0;\n",
       "            color:  #f1f1f1;\n",
       "        }    #T_d9766054_027f_11eb_aa70_c869cd8c677erow7_col6 {\n",
       "            background-color:  #e1dad6;\n",
       "            color:  #000000;\n",
       "        }    #T_d9766054_027f_11eb_aa70_c869cd8c677erow7_col7 {\n",
       "            background-color:  #b40426;\n",
       "            color:  #f1f1f1;\n",
       "        }</style><table id=\"T_d9766054_027f_11eb_aa70_c869cd8c677e\" ><thead>    <tr>        <th class=\"blank level0\" ></th>        <th class=\"col_heading level0 col0\" >emp.var.rate</th>        <th class=\"col_heading level0 col1\" >cons.price.idx</th>        <th class=\"col_heading level0 col2\" >age</th>        <th class=\"col_heading level0 col3\" >duration</th>        <th class=\"col_heading level0 col4\" >cons.conf.idx</th>        <th class=\"col_heading level0 col5\" >previous</th>        <th class=\"col_heading level0 col6\" >euribor3m</th>        <th class=\"col_heading level0 col7\" >pdays</th>    </tr></thead><tbody>\n",
       "                <tr>\n",
       "                        <th id=\"T_d9766054_027f_11eb_aa70_c869cd8c677elevel0_row0\" class=\"row_heading level0 row0\" >emp.var.rate</th>\n",
       "                        <td id=\"T_d9766054_027f_11eb_aa70_c869cd8c677erow0_col0\" class=\"data row0 col0\" >1.00</td>\n",
       "                        <td id=\"T_d9766054_027f_11eb_aa70_c869cd8c677erow0_col1\" class=\"data row0 col1\" >0.78</td>\n",
       "                        <td id=\"T_d9766054_027f_11eb_aa70_c869cd8c677erow0_col2\" class=\"data row0 col2\" >-0.00</td>\n",
       "                        <td id=\"T_d9766054_027f_11eb_aa70_c869cd8c677erow0_col3\" class=\"data row0 col3\" >-0.03</td>\n",
       "                        <td id=\"T_d9766054_027f_11eb_aa70_c869cd8c677erow0_col4\" class=\"data row0 col4\" >0.20</td>\n",
       "                        <td id=\"T_d9766054_027f_11eb_aa70_c869cd8c677erow0_col5\" class=\"data row0 col5\" >-0.42</td>\n",
       "                        <td id=\"T_d9766054_027f_11eb_aa70_c869cd8c677erow0_col6\" class=\"data row0 col6\" >0.97</td>\n",
       "                        <td id=\"T_d9766054_027f_11eb_aa70_c869cd8c677erow0_col7\" class=\"data row0 col7\" >0.27</td>\n",
       "            </tr>\n",
       "            <tr>\n",
       "                        <th id=\"T_d9766054_027f_11eb_aa70_c869cd8c677elevel0_row1\" class=\"row_heading level0 row1\" >cons.price.idx</th>\n",
       "                        <td id=\"T_d9766054_027f_11eb_aa70_c869cd8c677erow1_col0\" class=\"data row1 col0\" >0.78</td>\n",
       "                        <td id=\"T_d9766054_027f_11eb_aa70_c869cd8c677erow1_col1\" class=\"data row1 col1\" >1.00</td>\n",
       "                        <td id=\"T_d9766054_027f_11eb_aa70_c869cd8c677erow1_col2\" class=\"data row1 col2\" >0.00</td>\n",
       "                        <td id=\"T_d9766054_027f_11eb_aa70_c869cd8c677erow1_col3\" class=\"data row1 col3\" >0.01</td>\n",
       "                        <td id=\"T_d9766054_027f_11eb_aa70_c869cd8c677erow1_col4\" class=\"data row1 col4\" >0.06</td>\n",
       "                        <td id=\"T_d9766054_027f_11eb_aa70_c869cd8c677erow1_col5\" class=\"data row1 col5\" >-0.20</td>\n",
       "                        <td id=\"T_d9766054_027f_11eb_aa70_c869cd8c677erow1_col6\" class=\"data row1 col6\" >0.69</td>\n",
       "                        <td id=\"T_d9766054_027f_11eb_aa70_c869cd8c677erow1_col7\" class=\"data row1 col7\" >0.08</td>\n",
       "            </tr>\n",
       "            <tr>\n",
       "                        <th id=\"T_d9766054_027f_11eb_aa70_c869cd8c677elevel0_row2\" class=\"row_heading level0 row2\" >age</th>\n",
       "                        <td id=\"T_d9766054_027f_11eb_aa70_c869cd8c677erow2_col0\" class=\"data row2 col0\" >-0.00</td>\n",
       "                        <td id=\"T_d9766054_027f_11eb_aa70_c869cd8c677erow2_col1\" class=\"data row2 col1\" >0.00</td>\n",
       "                        <td id=\"T_d9766054_027f_11eb_aa70_c869cd8c677erow2_col2\" class=\"data row2 col2\" >1.00</td>\n",
       "                        <td id=\"T_d9766054_027f_11eb_aa70_c869cd8c677erow2_col3\" class=\"data row2 col3\" >-0.00</td>\n",
       "                        <td id=\"T_d9766054_027f_11eb_aa70_c869cd8c677erow2_col4\" class=\"data row2 col4\" >0.13</td>\n",
       "                        <td id=\"T_d9766054_027f_11eb_aa70_c869cd8c677erow2_col5\" class=\"data row2 col5\" >0.02</td>\n",
       "                        <td id=\"T_d9766054_027f_11eb_aa70_c869cd8c677erow2_col6\" class=\"data row2 col6\" >0.01</td>\n",
       "                        <td id=\"T_d9766054_027f_11eb_aa70_c869cd8c677erow2_col7\" class=\"data row2 col7\" >-0.03</td>\n",
       "            </tr>\n",
       "            <tr>\n",
       "                        <th id=\"T_d9766054_027f_11eb_aa70_c869cd8c677elevel0_row3\" class=\"row_heading level0 row3\" >duration</th>\n",
       "                        <td id=\"T_d9766054_027f_11eb_aa70_c869cd8c677erow3_col0\" class=\"data row3 col0\" >-0.03</td>\n",
       "                        <td id=\"T_d9766054_027f_11eb_aa70_c869cd8c677erow3_col1\" class=\"data row3 col1\" >0.01</td>\n",
       "                        <td id=\"T_d9766054_027f_11eb_aa70_c869cd8c677erow3_col2\" class=\"data row3 col2\" >-0.00</td>\n",
       "                        <td id=\"T_d9766054_027f_11eb_aa70_c869cd8c677erow3_col3\" class=\"data row3 col3\" >1.00</td>\n",
       "                        <td id=\"T_d9766054_027f_11eb_aa70_c869cd8c677erow3_col4\" class=\"data row3 col4\" >-0.01</td>\n",
       "                        <td id=\"T_d9766054_027f_11eb_aa70_c869cd8c677erow3_col5\" class=\"data row3 col5\" >0.02</td>\n",
       "                        <td id=\"T_d9766054_027f_11eb_aa70_c869cd8c677erow3_col6\" class=\"data row3 col6\" >-0.03</td>\n",
       "                        <td id=\"T_d9766054_027f_11eb_aa70_c869cd8c677erow3_col7\" class=\"data row3 col7\" >-0.05</td>\n",
       "            </tr>\n",
       "            <tr>\n",
       "                        <th id=\"T_d9766054_027f_11eb_aa70_c869cd8c677elevel0_row4\" class=\"row_heading level0 row4\" >cons.conf.idx</th>\n",
       "                        <td id=\"T_d9766054_027f_11eb_aa70_c869cd8c677erow4_col0\" class=\"data row4 col0\" >0.20</td>\n",
       "                        <td id=\"T_d9766054_027f_11eb_aa70_c869cd8c677erow4_col1\" class=\"data row4 col1\" >0.06</td>\n",
       "                        <td id=\"T_d9766054_027f_11eb_aa70_c869cd8c677erow4_col2\" class=\"data row4 col2\" >0.13</td>\n",
       "                        <td id=\"T_d9766054_027f_11eb_aa70_c869cd8c677erow4_col3\" class=\"data row4 col3\" >-0.01</td>\n",
       "                        <td id=\"T_d9766054_027f_11eb_aa70_c869cd8c677erow4_col4\" class=\"data row4 col4\" >1.00</td>\n",
       "                        <td id=\"T_d9766054_027f_11eb_aa70_c869cd8c677erow4_col5\" class=\"data row4 col5\" >-0.05</td>\n",
       "                        <td id=\"T_d9766054_027f_11eb_aa70_c869cd8c677erow4_col6\" class=\"data row4 col6\" >0.28</td>\n",
       "                        <td id=\"T_d9766054_027f_11eb_aa70_c869cd8c677erow4_col7\" class=\"data row4 col7\" >-0.09</td>\n",
       "            </tr>\n",
       "            <tr>\n",
       "                        <th id=\"T_d9766054_027f_11eb_aa70_c869cd8c677elevel0_row5\" class=\"row_heading level0 row5\" >previous</th>\n",
       "                        <td id=\"T_d9766054_027f_11eb_aa70_c869cd8c677erow5_col0\" class=\"data row5 col0\" >-0.42</td>\n",
       "                        <td id=\"T_d9766054_027f_11eb_aa70_c869cd8c677erow5_col1\" class=\"data row5 col1\" >-0.20</td>\n",
       "                        <td id=\"T_d9766054_027f_11eb_aa70_c869cd8c677erow5_col2\" class=\"data row5 col2\" >0.02</td>\n",
       "                        <td id=\"T_d9766054_027f_11eb_aa70_c869cd8c677erow5_col3\" class=\"data row5 col3\" >0.02</td>\n",
       "                        <td id=\"T_d9766054_027f_11eb_aa70_c869cd8c677erow5_col4\" class=\"data row5 col4\" >-0.05</td>\n",
       "                        <td id=\"T_d9766054_027f_11eb_aa70_c869cd8c677erow5_col5\" class=\"data row5 col5\" >1.00</td>\n",
       "                        <td id=\"T_d9766054_027f_11eb_aa70_c869cd8c677erow5_col6\" class=\"data row5 col6\" >-0.45</td>\n",
       "                        <td id=\"T_d9766054_027f_11eb_aa70_c869cd8c677erow5_col7\" class=\"data row5 col7\" >-0.59</td>\n",
       "            </tr>\n",
       "            <tr>\n",
       "                        <th id=\"T_d9766054_027f_11eb_aa70_c869cd8c677elevel0_row6\" class=\"row_heading level0 row6\" >euribor3m</th>\n",
       "                        <td id=\"T_d9766054_027f_11eb_aa70_c869cd8c677erow6_col0\" class=\"data row6 col0\" >0.97</td>\n",
       "                        <td id=\"T_d9766054_027f_11eb_aa70_c869cd8c677erow6_col1\" class=\"data row6 col1\" >0.69</td>\n",
       "                        <td id=\"T_d9766054_027f_11eb_aa70_c869cd8c677erow6_col2\" class=\"data row6 col2\" >0.01</td>\n",
       "                        <td id=\"T_d9766054_027f_11eb_aa70_c869cd8c677erow6_col3\" class=\"data row6 col3\" >-0.03</td>\n",
       "                        <td id=\"T_d9766054_027f_11eb_aa70_c869cd8c677erow6_col4\" class=\"data row6 col4\" >0.28</td>\n",
       "                        <td id=\"T_d9766054_027f_11eb_aa70_c869cd8c677erow6_col5\" class=\"data row6 col5\" >-0.45</td>\n",
       "                        <td id=\"T_d9766054_027f_11eb_aa70_c869cd8c677erow6_col6\" class=\"data row6 col6\" >1.00</td>\n",
       "                        <td id=\"T_d9766054_027f_11eb_aa70_c869cd8c677erow6_col7\" class=\"data row6 col7\" >0.30</td>\n",
       "            </tr>\n",
       "            <tr>\n",
       "                        <th id=\"T_d9766054_027f_11eb_aa70_c869cd8c677elevel0_row7\" class=\"row_heading level0 row7\" >pdays</th>\n",
       "                        <td id=\"T_d9766054_027f_11eb_aa70_c869cd8c677erow7_col0\" class=\"data row7 col0\" >0.27</td>\n",
       "                        <td id=\"T_d9766054_027f_11eb_aa70_c869cd8c677erow7_col1\" class=\"data row7 col1\" >0.08</td>\n",
       "                        <td id=\"T_d9766054_027f_11eb_aa70_c869cd8c677erow7_col2\" class=\"data row7 col2\" >-0.03</td>\n",
       "                        <td id=\"T_d9766054_027f_11eb_aa70_c869cd8c677erow7_col3\" class=\"data row7 col3\" >-0.05</td>\n",
       "                        <td id=\"T_d9766054_027f_11eb_aa70_c869cd8c677erow7_col4\" class=\"data row7 col4\" >-0.09</td>\n",
       "                        <td id=\"T_d9766054_027f_11eb_aa70_c869cd8c677erow7_col5\" class=\"data row7 col5\" >-0.59</td>\n",
       "                        <td id=\"T_d9766054_027f_11eb_aa70_c869cd8c677erow7_col6\" class=\"data row7 col6\" >0.30</td>\n",
       "                        <td id=\"T_d9766054_027f_11eb_aa70_c869cd8c677erow7_col7\" class=\"data row7 col7\" >1.00</td>\n",
       "            </tr>\n",
       "    </tbody></table>"
      ],
      "text/plain": [
       "<pandas.io.formats.style.Styler at 0x116d849e8>"
      ]
     },
     "execution_count": 25,
     "metadata": {},
     "output_type": "execute_result"
    }
   ],
   "source": [
    "corr = df[trully_cont_col].corr()\n",
    "corr.style.background_gradient(cmap='coolwarm').set_precision(2)"
   ]
  },
  {
   "cell_type": "markdown",
   "metadata": {},
   "source": [
    "#### Observation\n",
    "There is a strong correlation between euribor3m and emp.var.rate"
   ]
  },
  {
   "cell_type": "code",
   "execution_count": 26,
   "metadata": {},
   "outputs": [
    {
     "data": {
      "image/png": "[encoded data removed]",
      "text/plain": [
       "<Figure size 432x288 with 1 Axes>"
      ]
     },
     "metadata": {
      "needs_background": "light"
     },
     "output_type": "display_data"
    }
   ],
   "source": [
    "plt.scatter(df[\"euribor3m\"], df[\"emp.var.rate\"])\n",
    "plt.xlabel(\"euribor3m\")\n",
    "plt.ylabel(\"emp.var.rate\");"
   ]
  },
  {
   "cell_type": "markdown",
   "metadata": {},
   "source": [
    "## Categorical variables"
   ]
  },
  {
   "cell_type": "code",
   "execution_count": 27,
   "metadata": {},
   "outputs": [],
   "source": [
    "text_cat_columns = ['job', 'marital', 'education', 'default', 'housing', 'loan', 'contact']"
   ]
  },
  {
   "cell_type": "code",
   "execution_count": 28,
   "metadata": {},
   "outputs": [
    {
     "name": "stdout",
     "output_type": "stream",
     "text": [
      "Number of raws in the dataset:  41188\n",
      "Column job, Number of groups: 12, Missing values: 0.8 %\n",
      "Column marital, Number of groups: 4, Missing values: 0.19 %\n",
      "Column education, Number of groups: 8, Missing values: 4.2 %\n",
      "Column default, Number of groups: 3, Missing values: 20.87 %\n",
      "Column housing, Number of groups: 3, Missing values: 2.4 %\n",
      "Column loan, Number of groups: 3, Missing values: 2.4 %\n",
      "Column contact, Number of groups: 2, Missing values: 0.0 %\n"
     ]
    }
   ],
   "source": [
    "print(\"Number of raws in the dataset: \", df.shape[0])\n",
    "for col in text_cat_columns:\n",
    "    print(\"Column {}, Number of groups: {}, Missing values: {} %\".format\n",
    "         (col, df[col].nunique(), round(df[df[col]==\"unknown\"].shape[0]*100/df.shape[0], 2)))"
   ]
  },
  {
   "cell_type": "markdown",
   "metadata": {},
   "source": [
    "### How many missing values inside rows"
   ]
  },
  {
   "cell_type": "code",
   "execution_count": 29,
   "metadata": {},
   "outputs": [
    {
     "name": "stdout",
     "output_type": "stream",
     "text": [
      "Max number of missing values inside rows: 5\n",
      "Number of rows with max number of missing values: 2\n"
     ]
    }
   ],
   "source": [
    "df[\"missing_rows\"] = df[text_cat_columns].isin(['unknown']).sum(axis=1)\n",
    "print(\"Max number of missing values inside rows:\", df[\"missing_rows\"].max())\n",
    "print(\"Number of rows with max number of missing values:\", df[df[\"missing_rows\"]== df[\"missing_rows\"].max()].shape[0])"
   ]
  },
  {
   "cell_type": "code",
   "execution_count": 30,
   "metadata": {},
   "outputs": [
    {
     "data": {
      "text/html": [
       "<div>\n",
       "<style scoped>\n",
       "    .dataframe tbody tr th:only-of-type {\n",
       "        vertical-align: middle;\n",
       "    }\n",
       "\n",
       "    .dataframe tbody tr th {\n",
       "        vertical-align: top;\n",
       "    }\n",
       "\n",
       "    .dataframe thead th {\n",
       "        text-align: right;\n",
       "    }\n",
       "</style>\n",
       "<table border=\"1\" class=\"dataframe\">\n",
       "  <thead>\n",
       "    <tr style=\"text-align: right;\">\n",
       "      <th></th>\n",
       "      <th>age</th>\n",
       "      <th>job</th>\n",
       "      <th>marital</th>\n",
       "      <th>education</th>\n",
       "      <th>default</th>\n",
       "      <th>housing</th>\n",
       "      <th>loan</th>\n",
       "      <th>contact</th>\n",
       "      <th>month</th>\n",
       "      <th>day_of_week</th>\n",
       "      <th>duration</th>\n",
       "      <th>campaign</th>\n",
       "      <th>pdays</th>\n",
       "      <th>previous</th>\n",
       "      <th>poutcome</th>\n",
       "      <th>emp.var.rate</th>\n",
       "      <th>cons.price.idx</th>\n",
       "      <th>cons.conf.idx</th>\n",
       "      <th>euribor3m</th>\n",
       "      <th>nr.employed</th>\n",
       "      <th>y</th>\n",
       "      <th>new_euribor3m</th>\n",
       "      <th>missing_rows</th>\n",
       "    </tr>\n",
       "  </thead>\n",
       "  <tbody>\n",
       "    <tr>\n",
       "      <th>2723</th>\n",
       "      <td>45</td>\n",
       "      <td>unknown</td>\n",
       "      <td>married</td>\n",
       "      <td>unknown</td>\n",
       "      <td>unknown</td>\n",
       "      <td>unknown</td>\n",
       "      <td>unknown</td>\n",
       "      <td>telephone</td>\n",
       "      <td>may</td>\n",
       "      <td>wed</td>\n",
       "      <td>179</td>\n",
       "      <td>1</td>\n",
       "      <td>999</td>\n",
       "      <td>0</td>\n",
       "      <td>nonexistent</td>\n",
       "      <td>1.1</td>\n",
       "      <td>93.994</td>\n",
       "      <td>-36.4</td>\n",
       "      <td>4.859</td>\n",
       "      <td>5191.0</td>\n",
       "      <td>0</td>\n",
       "      <td>4</td>\n",
       "      <td>5</td>\n",
       "    </tr>\n",
       "    <tr>\n",
       "      <th>21556</th>\n",
       "      <td>44</td>\n",
       "      <td>unknown</td>\n",
       "      <td>married</td>\n",
       "      <td>unknown</td>\n",
       "      <td>unknown</td>\n",
       "      <td>unknown</td>\n",
       "      <td>unknown</td>\n",
       "      <td>cellular</td>\n",
       "      <td>aug</td>\n",
       "      <td>tue</td>\n",
       "      <td>163</td>\n",
       "      <td>1</td>\n",
       "      <td>999</td>\n",
       "      <td>0</td>\n",
       "      <td>nonexistent</td>\n",
       "      <td>1.4</td>\n",
       "      <td>93.444</td>\n",
       "      <td>-36.1</td>\n",
       "      <td>4.963</td>\n",
       "      <td>5228.1</td>\n",
       "      <td>0</td>\n",
       "      <td>4</td>\n",
       "      <td>5</td>\n",
       "    </tr>\n",
       "  </tbody>\n",
       "</table>\n",
       "</div>"
      ],
      "text/plain": [
       "       age      job  marital education  default  housing     loan    contact  \\\n",
       "2723    45  unknown  married   unknown  unknown  unknown  unknown  telephone   \n",
       "21556   44  unknown  married   unknown  unknown  unknown  unknown   cellular   \n",
       "\n",
       "      month day_of_week  duration  campaign  pdays  previous     poutcome  \\\n",
       "2723    may         wed       179         1    999         0  nonexistent   \n",
       "21556   aug         tue       163         1    999         0  nonexistent   \n",
       "\n",
       "       emp.var.rate  cons.price.idx  cons.conf.idx  euribor3m  nr.employed  y  \\\n",
       "2723            1.1          93.994          -36.4      4.859       5191.0  0   \n",
       "21556           1.4          93.444          -36.1      4.963       5228.1  0   \n",
       "\n",
       "       new_euribor3m  missing_rows  \n",
       "2723               4             5  \n",
       "21556              4             5  "
      ]
     },
     "execution_count": 30,
     "metadata": {},
     "output_type": "execute_result"
    }
   ],
   "source": [
    "df[df[\"missing_rows\"]== df[\"missing_rows\"].max()]"
   ]
  },
  {
   "cell_type": "markdown",
   "metadata": {},
   "source": [
    "### Distribution of missing values with respect to y"
   ]
  },
  {
   "cell_type": "markdown",
   "metadata": {},
   "source": [
    "#### checking possible scenarios of missing data\n",
    "- completely at random (MCAR)\n",
    "- missing at random (MAR)\n",
    "- not missing at random (MNAR)"
   ]
  },
  {
   "cell_type": "code",
   "execution_count": 31,
   "metadata": {},
   "outputs": [
    {
     "name": "stdout",
     "output_type": "stream",
     "text": [
      "\n",
      "Column: job\n"
     ]
    },
    {
     "data": {
      "text/html": [
       "<div>\n",
       "<style scoped>\n",
       "    .dataframe tbody tr th:only-of-type {\n",
       "        vertical-align: middle;\n",
       "    }\n",
       "\n",
       "    .dataframe tbody tr th {\n",
       "        vertical-align: top;\n",
       "    }\n",
       "\n",
       "    .dataframe thead th {\n",
       "        text-align: right;\n",
       "    }\n",
       "</style>\n",
       "<table border=\"1\" class=\"dataframe\">\n",
       "  <thead>\n",
       "    <tr style=\"text-align: right;\">\n",
       "      <th></th>\n",
       "      <th>y</th>\n",
       "    </tr>\n",
       "    <tr>\n",
       "      <th>job</th>\n",
       "      <th></th>\n",
       "    </tr>\n",
       "  </thead>\n",
       "  <tbody>\n",
       "    <tr>\n",
       "      <th>False</th>\n",
       "      <td>0.11</td>\n",
       "    </tr>\n",
       "    <tr>\n",
       "      <th>True</th>\n",
       "      <td>0.11</td>\n",
       "    </tr>\n",
       "  </tbody>\n",
       "</table>\n",
       "</div>"
      ],
      "text/plain": [
       "          y\n",
       "job        \n",
       "False  0.11\n",
       "True   0.11"
      ]
     },
     "metadata": {},
     "output_type": "display_data"
    },
    {
     "name": "stdout",
     "output_type": "stream",
     "text": [
      "Most frequent category in column job for y=0: admin., for y=1: admin.\n",
      "\n",
      "Column: marital\n"
     ]
    },
    {
     "data": {
      "text/html": [
       "<div>\n",
       "<style scoped>\n",
       "    .dataframe tbody tr th:only-of-type {\n",
       "        vertical-align: middle;\n",
       "    }\n",
       "\n",
       "    .dataframe tbody tr th {\n",
       "        vertical-align: top;\n",
       "    }\n",
       "\n",
       "    .dataframe thead th {\n",
       "        text-align: right;\n",
       "    }\n",
       "</style>\n",
       "<table border=\"1\" class=\"dataframe\">\n",
       "  <thead>\n",
       "    <tr style=\"text-align: right;\">\n",
       "      <th></th>\n",
       "      <th>y</th>\n",
       "    </tr>\n",
       "    <tr>\n",
       "      <th>marital</th>\n",
       "      <th></th>\n",
       "    </tr>\n",
       "  </thead>\n",
       "  <tbody>\n",
       "    <tr>\n",
       "      <th>False</th>\n",
       "      <td>0.11</td>\n",
       "    </tr>\n",
       "    <tr>\n",
       "      <th>True</th>\n",
       "      <td>0.15</td>\n",
       "    </tr>\n",
       "  </tbody>\n",
       "</table>\n",
       "</div>"
      ],
      "text/plain": [
       "            y\n",
       "marital      \n",
       "False    0.11\n",
       "True     0.15"
      ]
     },
     "metadata": {},
     "output_type": "display_data"
    },
    {
     "name": "stdout",
     "output_type": "stream",
     "text": [
      "Most frequent category in column marital for y=0: divorced, for y=1: divorced\n",
      "\n",
      "Column: education\n"
     ]
    },
    {
     "data": {
      "text/html": [
       "<div>\n",
       "<style scoped>\n",
       "    .dataframe tbody tr th:only-of-type {\n",
       "        vertical-align: middle;\n",
       "    }\n",
       "\n",
       "    .dataframe tbody tr th {\n",
       "        vertical-align: top;\n",
       "    }\n",
       "\n",
       "    .dataframe thead th {\n",
       "        text-align: right;\n",
       "    }\n",
       "</style>\n",
       "<table border=\"1\" class=\"dataframe\">\n",
       "  <thead>\n",
       "    <tr style=\"text-align: right;\">\n",
       "      <th></th>\n",
       "      <th>y</th>\n",
       "    </tr>\n",
       "    <tr>\n",
       "      <th>education</th>\n",
       "      <th></th>\n",
       "    </tr>\n",
       "  </thead>\n",
       "  <tbody>\n",
       "    <tr>\n",
       "      <th>False</th>\n",
       "      <td>0.11</td>\n",
       "    </tr>\n",
       "    <tr>\n",
       "      <th>True</th>\n",
       "      <td>0.15</td>\n",
       "    </tr>\n",
       "  </tbody>\n",
       "</table>\n",
       "</div>"
      ],
      "text/plain": [
       "              y\n",
       "education      \n",
       "False      0.11\n",
       "True       0.15"
      ]
     },
     "metadata": {},
     "output_type": "display_data"
    },
    {
     "name": "stdout",
     "output_type": "stream",
     "text": [
      "Most frequent category in column education for y=0: basic.4y, for y=1: basic.4y\n",
      "\n",
      "Column: default\n"
     ]
    },
    {
     "data": {
      "text/html": [
       "<div>\n",
       "<style scoped>\n",
       "    .dataframe tbody tr th:only-of-type {\n",
       "        vertical-align: middle;\n",
       "    }\n",
       "\n",
       "    .dataframe tbody tr th {\n",
       "        vertical-align: top;\n",
       "    }\n",
       "\n",
       "    .dataframe thead th {\n",
       "        text-align: right;\n",
       "    }\n",
       "</style>\n",
       "<table border=\"1\" class=\"dataframe\">\n",
       "  <thead>\n",
       "    <tr style=\"text-align: right;\">\n",
       "      <th></th>\n",
       "      <th>y</th>\n",
       "    </tr>\n",
       "    <tr>\n",
       "      <th>default</th>\n",
       "      <th></th>\n",
       "    </tr>\n",
       "  </thead>\n",
       "  <tbody>\n",
       "    <tr>\n",
       "      <th>False</th>\n",
       "      <td>0.13</td>\n",
       "    </tr>\n",
       "    <tr>\n",
       "      <th>True</th>\n",
       "      <td>0.05</td>\n",
       "    </tr>\n",
       "  </tbody>\n",
       "</table>\n",
       "</div>"
      ],
      "text/plain": [
       "            y\n",
       "default      \n",
       "False    0.13\n",
       "True     0.05"
      ]
     },
     "metadata": {},
     "output_type": "display_data"
    },
    {
     "name": "stdout",
     "output_type": "stream",
     "text": [
      "Most frequent category in column default for y=0: no, for y=1: no\n",
      "\n",
      "Column: housing\n"
     ]
    },
    {
     "data": {
      "text/html": [
       "<div>\n",
       "<style scoped>\n",
       "    .dataframe tbody tr th:only-of-type {\n",
       "        vertical-align: middle;\n",
       "    }\n",
       "\n",
       "    .dataframe tbody tr th {\n",
       "        vertical-align: top;\n",
       "    }\n",
       "\n",
       "    .dataframe thead th {\n",
       "        text-align: right;\n",
       "    }\n",
       "</style>\n",
       "<table border=\"1\" class=\"dataframe\">\n",
       "  <thead>\n",
       "    <tr style=\"text-align: right;\">\n",
       "      <th></th>\n",
       "      <th>y</th>\n",
       "    </tr>\n",
       "    <tr>\n",
       "      <th>housing</th>\n",
       "      <th></th>\n",
       "    </tr>\n",
       "  </thead>\n",
       "  <tbody>\n",
       "    <tr>\n",
       "      <th>False</th>\n",
       "      <td>0.11</td>\n",
       "    </tr>\n",
       "    <tr>\n",
       "      <th>True</th>\n",
       "      <td>0.11</td>\n",
       "    </tr>\n",
       "  </tbody>\n",
       "</table>\n",
       "</div>"
      ],
      "text/plain": [
       "            y\n",
       "housing      \n",
       "False    0.11\n",
       "True     0.11"
      ]
     },
     "metadata": {},
     "output_type": "display_data"
    },
    {
     "name": "stdout",
     "output_type": "stream",
     "text": [
      "Most frequent category in column housing for y=0: no, for y=1: no\n",
      "\n",
      "Column: loan\n"
     ]
    },
    {
     "data": {
      "text/html": [
       "<div>\n",
       "<style scoped>\n",
       "    .dataframe tbody tr th:only-of-type {\n",
       "        vertical-align: middle;\n",
       "    }\n",
       "\n",
       "    .dataframe tbody tr th {\n",
       "        vertical-align: top;\n",
       "    }\n",
       "\n",
       "    .dataframe thead th {\n",
       "        text-align: right;\n",
       "    }\n",
       "</style>\n",
       "<table border=\"1\" class=\"dataframe\">\n",
       "  <thead>\n",
       "    <tr style=\"text-align: right;\">\n",
       "      <th></th>\n",
       "      <th>y</th>\n",
       "    </tr>\n",
       "    <tr>\n",
       "      <th>loan</th>\n",
       "      <th></th>\n",
       "    </tr>\n",
       "  </thead>\n",
       "  <tbody>\n",
       "    <tr>\n",
       "      <th>False</th>\n",
       "      <td>0.11</td>\n",
       "    </tr>\n",
       "    <tr>\n",
       "      <th>True</th>\n",
       "      <td>0.11</td>\n",
       "    </tr>\n",
       "  </tbody>\n",
       "</table>\n",
       "</div>"
      ],
      "text/plain": [
       "          y\n",
       "loan       \n",
       "False  0.11\n",
       "True   0.11"
      ]
     },
     "metadata": {},
     "output_type": "display_data"
    },
    {
     "name": "stdout",
     "output_type": "stream",
     "text": [
      "Most frequent category in column loan for y=0: no, for y=1: no\n",
      "\n",
      "Column: contact\n"
     ]
    },
    {
     "data": {
      "text/html": [
       "<div>\n",
       "<style scoped>\n",
       "    .dataframe tbody tr th:only-of-type {\n",
       "        vertical-align: middle;\n",
       "    }\n",
       "\n",
       "    .dataframe tbody tr th {\n",
       "        vertical-align: top;\n",
       "    }\n",
       "\n",
       "    .dataframe thead th {\n",
       "        text-align: right;\n",
       "    }\n",
       "</style>\n",
       "<table border=\"1\" class=\"dataframe\">\n",
       "  <thead>\n",
       "    <tr style=\"text-align: right;\">\n",
       "      <th></th>\n",
       "      <th>y</th>\n",
       "    </tr>\n",
       "    <tr>\n",
       "      <th>contact</th>\n",
       "      <th></th>\n",
       "    </tr>\n",
       "  </thead>\n",
       "  <tbody>\n",
       "    <tr>\n",
       "      <th>False</th>\n",
       "      <td>0.11</td>\n",
       "    </tr>\n",
       "  </tbody>\n",
       "</table>\n",
       "</div>"
      ],
      "text/plain": [
       "            y\n",
       "contact      \n",
       "False    0.11"
      ]
     },
     "metadata": {},
     "output_type": "display_data"
    },
    {
     "name": "stdout",
     "output_type": "stream",
     "text": [
      "Most frequent category in column contact for y=0: cellular, for y=1: cellular\n"
     ]
    }
   ],
   "source": [
    "for col in text_cat_columns:\n",
    "    print(\"\\nColumn:\", col)\n",
    "    display(round(df.groupby(df[col]==\"unknown\")[[\"y\"]].mean(),2))\n",
    "    gr = df.groupby([\"y\", col])[[\"age\"]].count()\n",
    "    print(\"Most frequent category in column %s for y=0: %s, for y=1: %s\" % (col,\n",
    "                                                                            gr.reset_index(col).loc[0, col].values[0], \n",
    "                                                                            gr.reset_index(col).loc[1, col].values[0]))"
   ]
  },
  {
   "cell_type": "code",
   "execution_count": 32,
   "metadata": {},
   "outputs": [
    {
     "data": {
      "text/plain": [
       "0    36548\n",
       "1     4640\n",
       "Name: y, dtype: int64"
      ]
     },
     "execution_count": 32,
     "metadata": {},
     "output_type": "execute_result"
    }
   ],
   "source": [
    "df[\"y\"].value_counts()"
   ]
  },
  {
   "cell_type": "code",
   "execution_count": 33,
   "metadata": {},
   "outputs": [
    {
     "data": {
      "text/html": [
       "<div>\n",
       "<style scoped>\n",
       "    .dataframe tbody tr th:only-of-type {\n",
       "        vertical-align: middle;\n",
       "    }\n",
       "\n",
       "    .dataframe tbody tr th {\n",
       "        vertical-align: top;\n",
       "    }\n",
       "\n",
       "    .dataframe thead th {\n",
       "        text-align: right;\n",
       "    }\n",
       "</style>\n",
       "<table border=\"1\" class=\"dataframe\">\n",
       "  <thead>\n",
       "    <tr style=\"text-align: right;\">\n",
       "      <th></th>\n",
       "      <th></th>\n",
       "      <th>age</th>\n",
       "    </tr>\n",
       "    <tr>\n",
       "      <th>default</th>\n",
       "      <th>y</th>\n",
       "      <th></th>\n",
       "    </tr>\n",
       "  </thead>\n",
       "  <tbody>\n",
       "    <tr>\n",
       "      <th rowspan=\"2\" valign=\"top\">no</th>\n",
       "      <th>0</th>\n",
       "      <td>28391</td>\n",
       "    </tr>\n",
       "    <tr>\n",
       "      <th>1</th>\n",
       "      <td>4197</td>\n",
       "    </tr>\n",
       "    <tr>\n",
       "      <th rowspan=\"2\" valign=\"top\">unknown</th>\n",
       "      <th>0</th>\n",
       "      <td>8154</td>\n",
       "    </tr>\n",
       "    <tr>\n",
       "      <th>1</th>\n",
       "      <td>443</td>\n",
       "    </tr>\n",
       "    <tr>\n",
       "      <th>yes</th>\n",
       "      <th>0</th>\n",
       "      <td>3</td>\n",
       "    </tr>\n",
       "  </tbody>\n",
       "</table>\n",
       "</div>"
      ],
      "text/plain": [
       "             age\n",
       "default y       \n",
       "no      0  28391\n",
       "        1   4197\n",
       "unknown 0   8154\n",
       "        1    443\n",
       "yes     0      3"
      ]
     },
     "execution_count": 33,
     "metadata": {},
     "output_type": "execute_result"
    }
   ],
   "source": [
    "df.groupby([\"default\", \"y\"])[[\"age\"]].count()"
   ]
  },
  {
   "cell_type": "code",
   "execution_count": 34,
   "metadata": {},
   "outputs": [
    {
     "data": {
      "text/plain": [
       "<Figure size 432x288 with 0 Axes>"
      ]
     },
     "metadata": {},
     "output_type": "display_data"
    },
    {
     "data": {
      "image/png": "[encoded data removed]",
      "text/plain": [
       "<Figure size 720x360 with 1 Axes>"
      ]
     },
     "metadata": {
      "needs_background": "light"
     },
     "output_type": "display_data"
    },
    {
     "data": {
      "image/png": "[encoded data removed]",
      "text/plain": [
       "<Figure size 720x360 with 1 Axes>"
      ]
     },
     "metadata": {
      "needs_background": "light"
     },
     "output_type": "display_data"
    },
    {
     "data": {
      "image/png": "[encoded data removed]",
      "text/plain": [
       "<Figure size 720x360 with 1 Axes>"
      ]
     },
     "metadata": {
      "needs_background": "light"
     },
     "output_type": "display_data"
    },
    {
     "data": {
      "image/png": "[encoded data removed]",
      "text/plain": [
       "<Figure size 720x360 with 1 Axes>"
      ]
     },
     "metadata": {
      "needs_background": "light"
     },
     "output_type": "display_data"
    },
    {
     "data": {
      "image/png": "[encoded data removed]",
      "text/plain": [
       "<Figure size 720x360 with 1 Axes>"
      ]
     },
     "metadata": {
      "needs_background": "light"
     },
     "output_type": "display_data"
    },
    {
     "data": {
      "image/png": "[encoded data removed]",
      "text/plain": [
       "<Figure size 720x360 with 1 Axes>"
      ]
     },
     "metadata": {
      "needs_background": "light"
     },
     "output_type": "display_data"
    },
    {
     "data": {
      "image/png": "[encoded data removed]",
      "text/plain": [
       "<Figure size 720x360 with 1 Axes>"
      ]
     },
     "metadata": {
      "needs_background": "light"
     },
     "output_type": "display_data"
    }
   ],
   "source": [
    "for i, col in enumerate(text_cat_columns):\n",
    "    plt.figure(i)\n",
    "    sns.catplot(x=col, y=\"y\", data =df, kind= \"point\", aspect=2)"
   ]
  },
  {
   "cell_type": "markdown",
   "metadata": {},
   "source": [
    "## Main findings and conclusion"
   ]
  },
  {
   "cell_type": "markdown",
   "metadata": {},
   "source": [
    "1. Target varaibles are highly disproportional (36,5K for y=0 vs 4,6K for y=1)\n",
    "\n",
    "There are two main risks associated with such disproportion:\n",
    "- It may happen that it will be more effecient for the model just to assigns y=0 for all the samples then investigate the inner relation between avillable features.\n",
    "- Ordinary train/validation/test spliting is performed ranomly, therefore it is possible to get training set containing only zeros\n",
    "\n",
    "To overcome the situation of uneven datasets, Stratified train/test splitting can be used. In this approach, additional condition is introduced to preserve the same ratio between values of target variables.\n",
    "To help the model not to get stuck on only one value of target, resampling approach can be applied and the number of minor target is synthetically increased by taking more samples with y=1 when forming a training set\n",
    "\n",
    "2. Some numeric columns can be treated as categorical, and some can be transfromed into categories by splitting into groups. However, careful encoding is be required in order not to generate too much features. \n",
    "\n",
    "Transformation of numerical variables into categorical ones is matter of dispute. Decision on whether to use continuous or categorical variables actually refers to the importantance of usage of the detailed information about the variation of values in the predictor [https://www.theanalysisfactor.com/3-situations-when-it-makes-sense-to-categorize-a-continuous-predictor-in-a-regression-model/]. However, further transformation categories in binary dumny columns can help to capture some nonlinear patterns in the data. To my mind, the final decisionof whether to use or not to use this technique requires some testing on the particular data\n",
    "\n",
    "3. Distributions of continious variables are almost similar with respect to target variables\n",
    "\n",
    "4. There is a strong correlation between euribor3m and emp.var.rate variables\n",
    "\n",
    "euribor3m is euribor 3 month rate daily indicator. Euribor (The Euro Interbank Offered Rate) is an interest rate based on the average interest rates at which a panel of European banks lend money to one another.\n",
    "emp.var.rate is employment variation rate quarterly indicator (numeric)\n",
    "As it can be seen from the scatter plot of emp.var.rate vs euribor3m, the more money assoisiated with euribor3m, more positive employment variation is.\n",
    "\n",
    "5. Filling missing values is reasonable for some categorical variables\n",
    "\n",
    "There are many availble strategies for dealing with missing values:\n",
    "- dropping rows or columns containing missing information.\n",
    "In the current project, max 5 missing values can be found within a row. Therefore there is no need to drop any data\n",
    "- filling with values\n",
    "\n",
    "For categorical features, it can be forward or backward filling when the values of previous or subsequent row is taken\n",
    "It can be also the most frequent categorical value or value randomly taken from the list of all available categories.\n",
    "In some cases, separate predictive models can be specially trained to estimate missing information"
   ]
  },
  {
   "cell_type": "markdown",
   "metadata": {},
   "source": [
    "## Ideas for maximization of the efficiency of marketing campaigns"
   ]
  },
  {
   "cell_type": "markdown",
   "metadata": {},
   "source": [
    "1. The first idea of optimisation of campaigns might be clusterisation of the data and analysing campaign efficiency whithin these groups\n",
    "\n",
    "3. The second approach might be applying some machine learning model and analysis of features estimated to be the most responsible for the final prediction\n",
    "\n",
    "4. The next approach can combine the two previous ones, i.e. training of a machine learning model for each of the groups and analysis of the most important features"
   ]
  },
  {
   "cell_type": "code",
   "execution_count": null,
   "metadata": {},
   "outputs": [],
   "source": []
  }
 ],
 "metadata": {
  "kernelspec": {
   "display_name": "myspark",
   "language": "python",
   "name": "myspark"
  },
  "language_info": {
   "codemirror_mode": {
    "name": "ipython",
    "version": 3
   },
   "file_extension": ".py",
   "mimetype": "text/x-python",
   "name": "python",
   "nbconvert_exporter": "python",
   "pygments_lexer": "ipython3",
   "version": "3.6.10"
  }
 },
 "nbformat": 4,
 "nbformat_minor": 4
}
