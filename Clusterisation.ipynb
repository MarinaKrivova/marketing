{
 "cells": [
  {
   "cell_type": "markdown",
   "metadata": {},
   "source": [
    "## Predictive model - Classification"
   ]
  },
  {
   "cell_type": "markdown",
   "metadata": {},
   "source": [
    "In this notebook, data clusters are examined"
   ]
  },
  {
   "cell_type": "markdown",
   "metadata": {},
   "source": [
    "Dataset: http://archive.ics.uci.edu/ml/datasets/Bank+Marketing"
   ]
  },
  {
   "cell_type": "markdown",
   "metadata": {},
   "source": [
    "### Attribute Information:\n",
    "\n",
    "#### bank client data:\n",
    "\n",
    "1.  **age** (numeric)\n",
    "2.  **job** : type of job (categorical: 'admin.','bluecollar','entrepreneur','housemaid','management','retired','selfemployed','services','student','technician','unemployed','unknown')\n",
    "3.  **marital** : marital status (categorical: 'divorced','married','single','unknown'; note: 'divorced' means divorced or widowed)\n",
    "4.  **education** (categorical: 'basic.4y','basic.6y','basic.9y','high.school','illiterate','professional.course','university.degree','unknown')\n",
    "5.  **default**: has credit in default? (categorical: 'no','yes','unknown')\n",
    "6.  **housing**: has housing loan? (categorical: 'no','yes','unknown')\n",
    "7.  **loan**: has personal loan? (categorical: 'no','yes','unknown')\n",
    "\n",
    "#### related with the last contact of the current campaign:\n",
    "8.  **contact**: contact communication type (categorical: 'cellular','telephone')\n",
    "9.  **month**: last contact month of year (categorical: 'jan', 'feb', 'mar', ..., 'nov', 'dec')\n",
    "10.  **day_of_week**: last contact day of the week (categorical: 'mon','tue','wed','thu','fri')\n",
    "11.  **duration**: last contact duration, in seconds (numeric). Important note: this attribute highly affects the output target (e.g., if duration=0 then y='no'). Yet, the duration is not known before a call is performed. Also, after the end of the call y is obviously known. Thus, this input should only be included for benchmark purposes and should be discarded if the intention is to have a realistic predictive model.\n",
    "\n",
    "#### other attributes:\n",
    "12.  **campaign**: number of contacts performed during this campaign and for this client (numeric, includes last contact)\n",
    "13.  **pdays**: number of days that passed by after the client was last contacted from a previous campaign (numeric; 999 means client was not previously contacted)\n",
    "14.  **previous**: number of contacts performed before this campaign and for this client (numeric)\n",
    "15.  **poutcome**: outcome of the previous marketing campaign (categorical: 'failure','nonexistent','success')\n",
    "\n",
    "#### social and economic context attributes\n",
    "16.  **emp.var.rate**: employment variation rate  quarterly indicator (numeric)\n",
    "17.  **cons.price.idx**: consumer price index  monthly indicator (numeric)\n",
    "18.  **cons.conf.idx**: consumer confidence index  monthly indicator (numeric)\n",
    "19.  **euribor3m**: euribor 3 month rate  daily indicator (numeric)\n",
    "20.  **nr.employed**: number of employees  quarterly indicator (numeric)\n",
    "21.  **y**  has the client subscribed a term deposit? (binary: 'yes','no')"
   ]
  },
  {
   "cell_type": "code",
   "execution_count": 1,
   "metadata": {},
   "outputs": [],
   "source": [
    "# import all the libraries\n",
    "\n",
    "import warnings\n",
    "warnings.filterwarnings(\"ignore\")\n",
    "\n",
    "import numpy as np\n",
    "import pandas as pd \n",
    "\n",
    "import random\n",
    "random.seed(123)\n",
    "\n",
    "from IPython.display import display\n",
    "import random\n",
    "import time\n",
    "\n",
    "pd.options.display.max_columns = None\n",
    "import os\n",
    "\n",
    "import seaborn as sns\n",
    "import matplotlib.pyplot as plt\n",
    "%matplotlib inline"
   ]
  },
  {
   "cell_type": "code",
   "execution_count": 2,
   "metadata": {},
   "outputs": [
    {
     "data": {
      "text/html": [
       "<div>\n",
       "<style scoped>\n",
       "    .dataframe tbody tr th:only-of-type {\n",
       "        vertical-align: middle;\n",
       "    }\n",
       "\n",
       "    .dataframe tbody tr th {\n",
       "        vertical-align: top;\n",
       "    }\n",
       "\n",
       "    .dataframe thead th {\n",
       "        text-align: right;\n",
       "    }\n",
       "</style>\n",
       "<table border=\"1\" class=\"dataframe\">\n",
       "  <thead>\n",
       "    <tr style=\"text-align: right;\">\n",
       "      <th></th>\n",
       "      <th>age</th>\n",
       "      <th>job</th>\n",
       "      <th>marital</th>\n",
       "      <th>education</th>\n",
       "      <th>default</th>\n",
       "      <th>housing</th>\n",
       "      <th>loan</th>\n",
       "      <th>contact</th>\n",
       "      <th>month</th>\n",
       "      <th>day_of_week</th>\n",
       "      <th>duration</th>\n",
       "      <th>campaign</th>\n",
       "      <th>pdays</th>\n",
       "      <th>previous</th>\n",
       "      <th>poutcome</th>\n",
       "      <th>emp.var.rate</th>\n",
       "      <th>cons.price.idx</th>\n",
       "      <th>cons.conf.idx</th>\n",
       "      <th>euribor3m</th>\n",
       "      <th>nr.employed</th>\n",
       "      <th>y</th>\n",
       "    </tr>\n",
       "  </thead>\n",
       "  <tbody>\n",
       "    <tr>\n",
       "      <th>0</th>\n",
       "      <td>56</td>\n",
       "      <td>housemaid</td>\n",
       "      <td>married</td>\n",
       "      <td>basic.4y</td>\n",
       "      <td>no</td>\n",
       "      <td>no</td>\n",
       "      <td>no</td>\n",
       "      <td>telephone</td>\n",
       "      <td>may</td>\n",
       "      <td>mon</td>\n",
       "      <td>261</td>\n",
       "      <td>1</td>\n",
       "      <td>999</td>\n",
       "      <td>0</td>\n",
       "      <td>nonexistent</td>\n",
       "      <td>1.1</td>\n",
       "      <td>93.994</td>\n",
       "      <td>-36.4</td>\n",
       "      <td>4.857</td>\n",
       "      <td>5191.0</td>\n",
       "      <td>no</td>\n",
       "    </tr>\n",
       "    <tr>\n",
       "      <th>1</th>\n",
       "      <td>57</td>\n",
       "      <td>services</td>\n",
       "      <td>married</td>\n",
       "      <td>high.school</td>\n",
       "      <td>unknown</td>\n",
       "      <td>no</td>\n",
       "      <td>no</td>\n",
       "      <td>telephone</td>\n",
       "      <td>may</td>\n",
       "      <td>mon</td>\n",
       "      <td>149</td>\n",
       "      <td>1</td>\n",
       "      <td>999</td>\n",
       "      <td>0</td>\n",
       "      <td>nonexistent</td>\n",
       "      <td>1.1</td>\n",
       "      <td>93.994</td>\n",
       "      <td>-36.4</td>\n",
       "      <td>4.857</td>\n",
       "      <td>5191.0</td>\n",
       "      <td>no</td>\n",
       "    </tr>\n",
       "    <tr>\n",
       "      <th>2</th>\n",
       "      <td>37</td>\n",
       "      <td>services</td>\n",
       "      <td>married</td>\n",
       "      <td>high.school</td>\n",
       "      <td>no</td>\n",
       "      <td>yes</td>\n",
       "      <td>no</td>\n",
       "      <td>telephone</td>\n",
       "      <td>may</td>\n",
       "      <td>mon</td>\n",
       "      <td>226</td>\n",
       "      <td>1</td>\n",
       "      <td>999</td>\n",
       "      <td>0</td>\n",
       "      <td>nonexistent</td>\n",
       "      <td>1.1</td>\n",
       "      <td>93.994</td>\n",
       "      <td>-36.4</td>\n",
       "      <td>4.857</td>\n",
       "      <td>5191.0</td>\n",
       "      <td>no</td>\n",
       "    </tr>\n",
       "    <tr>\n",
       "      <th>3</th>\n",
       "      <td>40</td>\n",
       "      <td>admin.</td>\n",
       "      <td>married</td>\n",
       "      <td>basic.6y</td>\n",
       "      <td>no</td>\n",
       "      <td>no</td>\n",
       "      <td>no</td>\n",
       "      <td>telephone</td>\n",
       "      <td>may</td>\n",
       "      <td>mon</td>\n",
       "      <td>151</td>\n",
       "      <td>1</td>\n",
       "      <td>999</td>\n",
       "      <td>0</td>\n",
       "      <td>nonexistent</td>\n",
       "      <td>1.1</td>\n",
       "      <td>93.994</td>\n",
       "      <td>-36.4</td>\n",
       "      <td>4.857</td>\n",
       "      <td>5191.0</td>\n",
       "      <td>no</td>\n",
       "    </tr>\n",
       "    <tr>\n",
       "      <th>4</th>\n",
       "      <td>56</td>\n",
       "      <td>services</td>\n",
       "      <td>married</td>\n",
       "      <td>high.school</td>\n",
       "      <td>no</td>\n",
       "      <td>no</td>\n",
       "      <td>yes</td>\n",
       "      <td>telephone</td>\n",
       "      <td>may</td>\n",
       "      <td>mon</td>\n",
       "      <td>307</td>\n",
       "      <td>1</td>\n",
       "      <td>999</td>\n",
       "      <td>0</td>\n",
       "      <td>nonexistent</td>\n",
       "      <td>1.1</td>\n",
       "      <td>93.994</td>\n",
       "      <td>-36.4</td>\n",
       "      <td>4.857</td>\n",
       "      <td>5191.0</td>\n",
       "      <td>no</td>\n",
       "    </tr>\n",
       "  </tbody>\n",
       "</table>\n",
       "</div>"
      ],
      "text/plain": [
       "   age        job  marital    education  default housing loan    contact  \\\n",
       "0   56  housemaid  married     basic.4y       no      no   no  telephone   \n",
       "1   57   services  married  high.school  unknown      no   no  telephone   \n",
       "2   37   services  married  high.school       no     yes   no  telephone   \n",
       "3   40     admin.  married     basic.6y       no      no   no  telephone   \n",
       "4   56   services  married  high.school       no      no  yes  telephone   \n",
       "\n",
       "  month day_of_week  duration  campaign  pdays  previous     poutcome  \\\n",
       "0   may         mon       261         1    999         0  nonexistent   \n",
       "1   may         mon       149         1    999         0  nonexistent   \n",
       "2   may         mon       226         1    999         0  nonexistent   \n",
       "3   may         mon       151         1    999         0  nonexistent   \n",
       "4   may         mon       307         1    999         0  nonexistent   \n",
       "\n",
       "   emp.var.rate  cons.price.idx  cons.conf.idx  euribor3m  nr.employed   y  \n",
       "0           1.1          93.994          -36.4      4.857       5191.0  no  \n",
       "1           1.1          93.994          -36.4      4.857       5191.0  no  \n",
       "2           1.1          93.994          -36.4      4.857       5191.0  no  \n",
       "3           1.1          93.994          -36.4      4.857       5191.0  no  \n",
       "4           1.1          93.994          -36.4      4.857       5191.0  no  "
      ]
     },
     "execution_count": 2,
     "metadata": {},
     "output_type": "execute_result"
    }
   ],
   "source": [
    "df = pd.read_csv(\"bank-additional/bank-additional-full.csv\", sep =\";\")\n",
    "df.head()"
   ]
  },
  {
   "cell_type": "markdown",
   "metadata": {},
   "source": [
    "## Data Preprocessing"
   ]
  },
  {
   "cell_type": "code",
   "execution_count": 3,
   "metadata": {},
   "outputs": [],
   "source": [
    "map_dict= {\"no\":0, \"yes\":1}\n",
    "df[\"y\"] = df[\"y\"].map(map_dict)"
   ]
  },
  {
   "cell_type": "markdown",
   "metadata": {},
   "source": [
    "### Filling missing values"
   ]
  },
  {
   "cell_type": "code",
   "execution_count": 4,
   "metadata": {},
   "outputs": [],
   "source": [
    "text_cat_columns = ['job', 'marital', 'education', 'default', 'housing', 'loan', 'contact']"
   ]
  },
  {
   "cell_type": "code",
   "execution_count": 5,
   "metadata": {},
   "outputs": [
    {
     "name": "stdout",
     "output_type": "stream",
     "text": [
      "job 330\n",
      "marital 80\n",
      "education 1731\n",
      "default 8597\n",
      "housing 990\n",
      "loan 990\n",
      "contact 0\n"
     ]
    }
   ],
   "source": [
    "cat_values_dict = {}\n",
    "for col in text_cat_columns:\n",
    "#     print(\"Column: %s, Number of unique values: %d\"% (col, df[col].nunique()))\n",
    "    cat_values_dict[col] = list(set(df[col].unique())-set([\"unknown\"]))\n",
    "\n",
    "# filling with random values from lists of availbale categories\n",
    "\n",
    "for col in text_cat_columns:\n",
    "    n_missing = df[df[col]==\"unknown\"].shape[0]\n",
    "    missing_index = df[df[col]==\"unknown\"].index\n",
    "    print(col, n_missing)\n",
    "    fill_vallues = cat_values_dict[col]*n_missing\n",
    "    random.shuffle(fill_vallues)\n",
    "    df.loc[missing_index, col]= fill_vallues[:n_missing]"
   ]
  },
  {
   "cell_type": "code",
   "execution_count": 7,
   "metadata": {},
   "outputs": [
    {
     "name": "stdout",
     "output_type": "stream",
     "text": [
      "Original data: (41188, 21), Encoded data: (41188, 21)\n"
     ]
    }
   ],
   "source": [
    "# OHE - dummies columns\n",
    "df1 = pd.get_dummies(df)\n",
    "print(\"Original data: {}, Encoded data: {}\".format(df.shape, df2.shape))"
   ]
  },
  {
   "cell_type": "code",
   "execution_count": 8,
   "metadata": {},
   "outputs": [],
   "source": [
    "# Scaling for continious variables\n",
    "from sklearn.preprocessing import StandardScaler\n",
    "\n",
    "numerical_columns = ['age', 'duration','campaign','pdays','previous','emp.var.rate','cons.price.idx',\n",
    "                     'cons.conf.idx','euribor3m','nr.employed']\n",
    "scaler = StandardScaler()\n",
    "scaled_features = scaler.fit_transform(df1[numerical_columns])\n",
    "\n",
    "features = df1.drop(\"y\", axis=1).columns"
   ]
  },
  {
   "cell_type": "markdown",
   "metadata": {},
   "source": [
    "## Choosing the right number of clusters"
   ]
  },
  {
   "cell_type": "code",
   "execution_count": 9,
   "metadata": {},
   "outputs": [],
   "source": [
    "from sklearn.cluster import KMeans"
   ]
  },
  {
   "cell_type": "code",
   "execution_count": 10,
   "metadata": {},
   "outputs": [
    {
     "name": "stdout",
     "output_type": "stream",
     "text": [
      "CPU times: user 1min 1s, sys: 4.15 s, total: 1min 5s\n",
      "Wall time: 1min 15s\n"
     ]
    }
   ],
   "source": [
    "%%time\n",
    "n_clusters = 20\n",
    "kmeans_kwargs = {\"init\": \"random\", \"max_iter\": 300, \"random_state\": 123}\n",
    "\n",
    "errors = []\n",
    "for i in range(2, n_clusters+1):\n",
    "    kmeans = KMeans(n_clusters=i, **kmeans_kwargs)\n",
    "    kmeans.fit(scaled_features)\n",
    "    errors.append(kmeans.inertia_) # inertia is a within-cluster sum-of-squares"
   ]
  },
  {
   "cell_type": "code",
   "execution_count": 11,
   "metadata": {},
   "outputs": [
    {
     "data": {
      "image/png": "[encoded data removed]",
      "text/plain": [
       "<Figure size 432x288 with 1 Axes>"
      ]
     },
     "metadata": {
      "needs_background": "light"
     },
     "output_type": "display_data"
    }
   ],
   "source": [
    "plt.plot(np.arange(2, n_clusters+1), errors)\n",
    "plt.xlabel(\"N clusters\")\n",
    "plt.xticks(np.arange(2, n_clusters+1))\n",
    "plt.ylabel(\"Sum of squared errors\");"
   ]
  },
  {
   "cell_type": "markdown",
   "metadata": {},
   "source": [
    "Considering elbow method,13 clusters seem to be optimal for the current dataset"
   ]
  },
  {
   "cell_type": "markdown",
   "metadata": {},
   "source": [
    "## Analysis of clusters"
   ]
  },
  {
   "cell_type": "markdown",
   "metadata": {},
   "source": [
    "### Approach A (13 clusters)"
   ]
  },
  {
   "cell_type": "code",
   "execution_count": 19,
   "metadata": {},
   "outputs": [],
   "source": [
    "kmeans = KMeans(n_clusters=13)\n",
    "kmeans.fit(scaled_features)\n",
    "df1[\"cluster\"] = kmeans.predict(scaled_features)"
   ]
  },
  {
   "cell_type": "code",
   "execution_count": 20,
   "metadata": {},
   "outputs": [
    {
     "data": {
      "text/plain": [
       "11    6037\n",
       "7     5465\n",
       "12    4837\n",
       "6     4454\n",
       "4     3771\n",
       "5     3485\n",
       "2     3468\n",
       "1     2534\n",
       "10    2458\n",
       "0     1702\n",
       "9     1307\n",
       "3     1124\n",
       "8      546\n",
       "Name: cluster, dtype: int64"
      ]
     },
     "execution_count": 20,
     "metadata": {},
     "output_type": "execute_result"
    }
   ],
   "source": [
    "df1[\"cluster\"].value_counts()"
   ]
  },
  {
   "cell_type": "code",
   "execution_count": 21,
   "metadata": {},
   "outputs": [
    {
     "data": {
      "text/html": [
       "<div>\n",
       "<style scoped>\n",
       "    .dataframe tbody tr th:only-of-type {\n",
       "        vertical-align: middle;\n",
       "    }\n",
       "\n",
       "    .dataframe tbody tr th {\n",
       "        vertical-align: top;\n",
       "    }\n",
       "\n",
       "    .dataframe thead th {\n",
       "        text-align: right;\n",
       "    }\n",
       "</style>\n",
       "<table border=\"1\" class=\"dataframe\">\n",
       "  <thead>\n",
       "    <tr style=\"text-align: right;\">\n",
       "      <th></th>\n",
       "      <th>age</th>\n",
       "      <th>duration</th>\n",
       "      <th>campaign</th>\n",
       "      <th>pdays</th>\n",
       "      <th>previous</th>\n",
       "      <th>emp.var.rate</th>\n",
       "      <th>cons.price.idx</th>\n",
       "      <th>cons.conf.idx</th>\n",
       "      <th>euribor3m</th>\n",
       "      <th>nr.employed</th>\n",
       "      <th>y</th>\n",
       "    </tr>\n",
       "    <tr>\n",
       "      <th>cluster</th>\n",
       "      <th></th>\n",
       "      <th></th>\n",
       "      <th></th>\n",
       "      <th></th>\n",
       "      <th></th>\n",
       "      <th></th>\n",
       "      <th></th>\n",
       "      <th></th>\n",
       "      <th></th>\n",
       "      <th></th>\n",
       "      <th></th>\n",
       "    </tr>\n",
       "  </thead>\n",
       "  <tbody>\n",
       "    <tr>\n",
       "      <th>9</th>\n",
       "      <td>42.091048</td>\n",
       "      <td>323.392502</td>\n",
       "      <td>1.815608</td>\n",
       "      <td>5.605968</td>\n",
       "      <td>1.592196</td>\n",
       "      <td>-2.102831</td>\n",
       "      <td>93.342254</td>\n",
       "      <td>-38.603826</td>\n",
       "      <td>1.014774</td>\n",
       "      <td>5031.151109</td>\n",
       "      <td>0.640398</td>\n",
       "    </tr>\n",
       "    <tr>\n",
       "      <th>8</th>\n",
       "      <td>40.778388</td>\n",
       "      <td>245.946886</td>\n",
       "      <td>2.203297</td>\n",
       "      <td>835.454212</td>\n",
       "      <td>0.483516</td>\n",
       "      <td>-1.800000</td>\n",
       "      <td>93.097330</td>\n",
       "      <td>-42.650549</td>\n",
       "      <td>1.162745</td>\n",
       "      <td>5055.390110</td>\n",
       "      <td>0.505495</td>\n",
       "    </tr>\n",
       "    <tr>\n",
       "      <th>3</th>\n",
       "      <td>44.542705</td>\n",
       "      <td>290.781139</td>\n",
       "      <td>1.689502</td>\n",
       "      <td>977.014235</td>\n",
       "      <td>0.411922</td>\n",
       "      <td>-2.464324</td>\n",
       "      <td>93.096257</td>\n",
       "      <td>-33.540214</td>\n",
       "      <td>1.063661</td>\n",
       "      <td>5014.172865</td>\n",
       "      <td>0.369217</td>\n",
       "    </tr>\n",
       "    <tr>\n",
       "      <th>10</th>\n",
       "      <td>40.362083</td>\n",
       "      <td>291.135476</td>\n",
       "      <td>1.961351</td>\n",
       "      <td>999.000000</td>\n",
       "      <td>0.238405</td>\n",
       "      <td>-1.800000</td>\n",
       "      <td>93.105711</td>\n",
       "      <td>-46.530431</td>\n",
       "      <td>1.377235</td>\n",
       "      <td>5094.980879</td>\n",
       "      <td>0.187144</td>\n",
       "    </tr>\n",
       "    <tr>\n",
       "      <th>12</th>\n",
       "      <td>37.578251</td>\n",
       "      <td>259.189787</td>\n",
       "      <td>2.256564</td>\n",
       "      <td>999.000000</td>\n",
       "      <td>0.000000</td>\n",
       "      <td>-2.041968</td>\n",
       "      <td>92.912626</td>\n",
       "      <td>-43.454352</td>\n",
       "      <td>1.206191</td>\n",
       "      <td>5086.164875</td>\n",
       "      <td>0.173868</td>\n",
       "    </tr>\n",
       "    <tr>\n",
       "      <th>1</th>\n",
       "      <td>38.702841</td>\n",
       "      <td>245.716654</td>\n",
       "      <td>2.107735</td>\n",
       "      <td>962.694159</td>\n",
       "      <td>1.198895</td>\n",
       "      <td>-1.991042</td>\n",
       "      <td>92.989655</td>\n",
       "      <td>-43.363496</td>\n",
       "      <td>1.181901</td>\n",
       "      <td>5079.385596</td>\n",
       "      <td>0.144830</td>\n",
       "    </tr>\n",
       "    <tr>\n",
       "      <th>5</th>\n",
       "      <td>40.806600</td>\n",
       "      <td>240.873458</td>\n",
       "      <td>1.896126</td>\n",
       "      <td>999.000000</td>\n",
       "      <td>0.193974</td>\n",
       "      <td>-0.246428</td>\n",
       "      <td>93.197941</td>\n",
       "      <td>-41.632166</td>\n",
       "      <td>3.938289</td>\n",
       "      <td>5185.587862</td>\n",
       "      <td>0.072023</td>\n",
       "    </tr>\n",
       "    <tr>\n",
       "      <th>0</th>\n",
       "      <td>40.146886</td>\n",
       "      <td>262.868978</td>\n",
       "      <td>2.675088</td>\n",
       "      <td>999.000000</td>\n",
       "      <td>0.003525</td>\n",
       "      <td>0.562632</td>\n",
       "      <td>93.751083</td>\n",
       "      <td>-40.686722</td>\n",
       "      <td>4.140522</td>\n",
       "      <td>5188.292362</td>\n",
       "      <td>0.070505</td>\n",
       "    </tr>\n",
       "    <tr>\n",
       "      <th>7</th>\n",
       "      <td>38.088564</td>\n",
       "      <td>273.918939</td>\n",
       "      <td>3.291125</td>\n",
       "      <td>999.000000</td>\n",
       "      <td>0.000000</td>\n",
       "      <td>1.400000</td>\n",
       "      <td>93.918000</td>\n",
       "      <td>-42.700000</td>\n",
       "      <td>4.961616</td>\n",
       "      <td>5228.100000</td>\n",
       "      <td>0.061116</td>\n",
       "    </tr>\n",
       "    <tr>\n",
       "      <th>6</th>\n",
       "      <td>40.599686</td>\n",
       "      <td>224.982712</td>\n",
       "      <td>2.874944</td>\n",
       "      <td>999.000000</td>\n",
       "      <td>0.000000</td>\n",
       "      <td>1.395173</td>\n",
       "      <td>93.442605</td>\n",
       "      <td>-36.094724</td>\n",
       "      <td>4.960209</td>\n",
       "      <td>5227.929479</td>\n",
       "      <td>0.051414</td>\n",
       "    </tr>\n",
       "    <tr>\n",
       "      <th>4</th>\n",
       "      <td>43.684169</td>\n",
       "      <td>252.613100</td>\n",
       "      <td>2.859984</td>\n",
       "      <td>999.000000</td>\n",
       "      <td>0.002652</td>\n",
       "      <td>1.024901</td>\n",
       "      <td>93.866605</td>\n",
       "      <td>-39.573429</td>\n",
       "      <td>4.644685</td>\n",
       "      <td>5205.872395</td>\n",
       "      <td>0.047998</td>\n",
       "    </tr>\n",
       "    <tr>\n",
       "      <th>2</th>\n",
       "      <td>39.685698</td>\n",
       "      <td>239.152249</td>\n",
       "      <td>3.260381</td>\n",
       "      <td>999.000000</td>\n",
       "      <td>0.000000</td>\n",
       "      <td>1.370502</td>\n",
       "      <td>94.461099</td>\n",
       "      <td>-41.780969</td>\n",
       "      <td>4.891916</td>\n",
       "      <td>5225.849567</td>\n",
       "      <td>0.043541</td>\n",
       "    </tr>\n",
       "    <tr>\n",
       "      <th>11</th>\n",
       "      <td>39.792778</td>\n",
       "      <td>264.140301</td>\n",
       "      <td>2.510850</td>\n",
       "      <td>999.000000</td>\n",
       "      <td>0.000000</td>\n",
       "      <td>1.099685</td>\n",
       "      <td>93.993763</td>\n",
       "      <td>-36.400497</td>\n",
       "      <td>4.857065</td>\n",
       "      <td>5190.985407</td>\n",
       "      <td>0.029485</td>\n",
       "    </tr>\n",
       "  </tbody>\n",
       "</table>\n",
       "</div>"
      ],
      "text/plain": [
       "               age    duration  campaign       pdays  previous  emp.var.rate  \\\n",
       "cluster                                                                        \n",
       "9        42.091048  323.392502  1.815608    5.605968  1.592196     -2.102831   \n",
       "8        40.778388  245.946886  2.203297  835.454212  0.483516     -1.800000   \n",
       "3        44.542705  290.781139  1.689502  977.014235  0.411922     -2.464324   \n",
       "10       40.362083  291.135476  1.961351  999.000000  0.238405     -1.800000   \n",
       "12       37.578251  259.189787  2.256564  999.000000  0.000000     -2.041968   \n",
       "1        38.702841  245.716654  2.107735  962.694159  1.198895     -1.991042   \n",
       "5        40.806600  240.873458  1.896126  999.000000  0.193974     -0.246428   \n",
       "0        40.146886  262.868978  2.675088  999.000000  0.003525      0.562632   \n",
       "7        38.088564  273.918939  3.291125  999.000000  0.000000      1.400000   \n",
       "6        40.599686  224.982712  2.874944  999.000000  0.000000      1.395173   \n",
       "4        43.684169  252.613100  2.859984  999.000000  0.002652      1.024901   \n",
       "2        39.685698  239.152249  3.260381  999.000000  0.000000      1.370502   \n",
       "11       39.792778  264.140301  2.510850  999.000000  0.000000      1.099685   \n",
       "\n",
       "         cons.price.idx  cons.conf.idx  euribor3m  nr.employed         y  \n",
       "cluster                                                                   \n",
       "9             93.342254     -38.603826   1.014774  5031.151109  0.640398  \n",
       "8             93.097330     -42.650549   1.162745  5055.390110  0.505495  \n",
       "3             93.096257     -33.540214   1.063661  5014.172865  0.369217  \n",
       "10            93.105711     -46.530431   1.377235  5094.980879  0.187144  \n",
       "12            92.912626     -43.454352   1.206191  5086.164875  0.173868  \n",
       "1             92.989655     -43.363496   1.181901  5079.385596  0.144830  \n",
       "5             93.197941     -41.632166   3.938289  5185.587862  0.072023  \n",
       "0             93.751083     -40.686722   4.140522  5188.292362  0.070505  \n",
       "7             93.918000     -42.700000   4.961616  5228.100000  0.061116  \n",
       "6             93.442605     -36.094724   4.960209  5227.929479  0.051414  \n",
       "4             93.866605     -39.573429   4.644685  5205.872395  0.047998  \n",
       "2             94.461099     -41.780969   4.891916  5225.849567  0.043541  \n",
       "11            93.993763     -36.400497   4.857065  5190.985407  0.029485  "
      ]
     },
     "execution_count": 21,
     "metadata": {},
     "output_type": "execute_result"
    }
   ],
   "source": [
    "df1.groupby(\"cluster\")[numerical_columns+[\"y\"]].mean().sort_values(\"y\", ascending=False)"
   ]
  },
  {
   "cell_type": "markdown",
   "metadata": {},
   "source": [
    "#### Observation:\n",
    "\n",
    "Clusterisation was performed without target valriable. But the cluster 1 appeared to have the highest amount of positivie outcomes. Mean y=0.64 points out prevalence of successful subscriptions.\n",
    "\n",
    "So the idea is to find out why the cluster 1 is different to other clusters, especially to the class with lowest y=1/y=0 ration.\n",
    "\n",
    "Considering very high difference between cluster 1 and other clusters with respect to the target, it also makes sense to try to find only 2-3 clusters and see if the tendency of outstanding of one cluster among others."
   ]
  },
  {
   "cell_type": "markdown",
   "metadata": {},
   "source": [
    "## Approach B (3 clusters)"
   ]
  },
  {
   "cell_type": "code",
   "execution_count": 31,
   "metadata": {},
   "outputs": [
    {
     "data": {
      "text/plain": [
       "cluster_3\n",
       "0    13413\n",
       "1    14177\n",
       "2    13598\n",
       "dtype: int64"
      ]
     },
     "metadata": {},
     "output_type": "display_data"
    },
    {
     "data": {
      "text/html": [
       "<div>\n",
       "<style scoped>\n",
       "    .dataframe tbody tr th:only-of-type {\n",
       "        vertical-align: middle;\n",
       "    }\n",
       "\n",
       "    .dataframe tbody tr th {\n",
       "        vertical-align: top;\n",
       "    }\n",
       "\n",
       "    .dataframe thead th {\n",
       "        text-align: right;\n",
       "    }\n",
       "</style>\n",
       "<table border=\"1\" class=\"dataframe\">\n",
       "  <thead>\n",
       "    <tr style=\"text-align: right;\">\n",
       "      <th></th>\n",
       "      <th>age</th>\n",
       "      <th>duration</th>\n",
       "      <th>campaign</th>\n",
       "      <th>pdays</th>\n",
       "      <th>previous</th>\n",
       "      <th>emp.var.rate</th>\n",
       "      <th>cons.price.idx</th>\n",
       "      <th>cons.conf.idx</th>\n",
       "      <th>euribor3m</th>\n",
       "      <th>nr.employed</th>\n",
       "      <th>y</th>\n",
       "    </tr>\n",
       "    <tr>\n",
       "      <th>cluster_3</th>\n",
       "      <th></th>\n",
       "      <th></th>\n",
       "      <th></th>\n",
       "      <th></th>\n",
       "      <th></th>\n",
       "      <th></th>\n",
       "      <th></th>\n",
       "      <th></th>\n",
       "      <th></th>\n",
       "      <th></th>\n",
       "      <th></th>\n",
       "    </tr>\n",
       "  </thead>\n",
       "  <tbody>\n",
       "    <tr>\n",
       "      <th>1</th>\n",
       "      <td>39.751005</td>\n",
       "      <td>267.850180</td>\n",
       "      <td>2.081752</td>\n",
       "      <td>892.886365</td>\n",
       "      <td>0.502504</td>\n",
       "      <td>-1.939254</td>\n",
       "      <td>93.033899</td>\n",
       "      <td>-42.608535</td>\n",
       "      <td>1.322846</td>\n",
       "      <td>5078.610672</td>\n",
       "      <td>0.234112</td>\n",
       "    </tr>\n",
       "    <tr>\n",
       "      <th>0</th>\n",
       "      <td>40.111235</td>\n",
       "      <td>254.575188</td>\n",
       "      <td>2.765899</td>\n",
       "      <td>999.000000</td>\n",
       "      <td>0.000000</td>\n",
       "      <td>1.107895</td>\n",
       "      <td>93.598950</td>\n",
       "      <td>-40.067345</td>\n",
       "      <td>4.796917</td>\n",
       "      <td>5221.810013</td>\n",
       "      <td>0.058003</td>\n",
       "    </tr>\n",
       "    <tr>\n",
       "      <th>2</th>\n",
       "      <td>40.222753</td>\n",
       "      <td>251.971908</td>\n",
       "      <td>2.878512</td>\n",
       "      <td>999.000000</td>\n",
       "      <td>0.000000</td>\n",
       "      <td>1.177033</td>\n",
       "      <td>94.117529</td>\n",
       "      <td>-38.736329</td>\n",
       "      <td>4.857971</td>\n",
       "      <td>5205.197375</td>\n",
       "      <td>0.039932</td>\n",
       "    </tr>\n",
       "  </tbody>\n",
       "</table>\n",
       "</div>"
      ],
      "text/plain": [
       "                 age    duration  campaign       pdays  previous  \\\n",
       "cluster_3                                                          \n",
       "1          39.751005  267.850180  2.081752  892.886365  0.502504   \n",
       "0          40.111235  254.575188  2.765899  999.000000  0.000000   \n",
       "2          40.222753  251.971908  2.878512  999.000000  0.000000   \n",
       "\n",
       "           emp.var.rate  cons.price.idx  cons.conf.idx  euribor3m  \\\n",
       "cluster_3                                                           \n",
       "1             -1.939254       93.033899     -42.608535   1.322846   \n",
       "0              1.107895       93.598950     -40.067345   4.796917   \n",
       "2              1.177033       94.117529     -38.736329   4.857971   \n",
       "\n",
       "           nr.employed         y  \n",
       "cluster_3                         \n",
       "1          5078.610672  0.234112  \n",
       "0          5221.810013  0.058003  \n",
       "2          5205.197375  0.039932  "
      ]
     },
     "execution_count": 31,
     "metadata": {},
     "output_type": "execute_result"
    }
   ],
   "source": [
    "kmeans = KMeans(n_clusters=3)\n",
    "kmeans.fit(scaled_features)\n",
    "df1[\"cluster_3\"] = kmeans.predict(scaled_features)\n",
    "# display(df1[\"cluster_3\"].value_counts())\n",
    "display(df1.groupby(\"cluster_3\").size()) # ordered by cluster_id\n",
    "df1.groupby(\"cluster_3\")[numerical_columns+[\"y\"]].mean().sort_values(\"y\", ascending=False)"
   ]
  },
  {
   "cell_type": "markdown",
   "metadata": {},
   "source": [
    "#### Conclusion:\n",
    "Though among three cluster, there is one that has much higher values of mean y, the proportion y=1/y=0 is not so promissing as it was for the previous case"
   ]
  },
  {
   "cell_type": "markdown",
   "metadata": {},
   "source": [
    "## Approach C (2 clusters)"
   ]
  },
  {
   "cell_type": "code",
   "execution_count": 29,
   "metadata": {},
   "outputs": [
    {
     "data": {
      "text/plain": [
       "cluster_2\n",
       "0    14226\n",
       "1    26962\n",
       "dtype: int64"
      ]
     },
     "metadata": {},
     "output_type": "display_data"
    },
    {
     "data": {
      "text/html": [
       "<div>\n",
       "<style scoped>\n",
       "    .dataframe tbody tr th:only-of-type {\n",
       "        vertical-align: middle;\n",
       "    }\n",
       "\n",
       "    .dataframe tbody tr th {\n",
       "        vertical-align: top;\n",
       "    }\n",
       "\n",
       "    .dataframe thead th {\n",
       "        text-align: right;\n",
       "    }\n",
       "</style>\n",
       "<table border=\"1\" class=\"dataframe\">\n",
       "  <thead>\n",
       "    <tr style=\"text-align: right;\">\n",
       "      <th></th>\n",
       "      <th>age</th>\n",
       "      <th>duration</th>\n",
       "      <th>campaign</th>\n",
       "      <th>pdays</th>\n",
       "      <th>previous</th>\n",
       "      <th>emp.var.rate</th>\n",
       "      <th>cons.price.idx</th>\n",
       "      <th>cons.conf.idx</th>\n",
       "      <th>euribor3m</th>\n",
       "      <th>nr.employed</th>\n",
       "      <th>y</th>\n",
       "    </tr>\n",
       "    <tr>\n",
       "      <th>cluster_2</th>\n",
       "      <th></th>\n",
       "      <th></th>\n",
       "      <th></th>\n",
       "      <th></th>\n",
       "      <th></th>\n",
       "      <th></th>\n",
       "      <th></th>\n",
       "      <th></th>\n",
       "      <th></th>\n",
       "      <th></th>\n",
       "      <th></th>\n",
       "    </tr>\n",
       "  </thead>\n",
       "  <tbody>\n",
       "    <tr>\n",
       "      <th>0</th>\n",
       "      <td>39.742865</td>\n",
       "      <td>267.454309</td>\n",
       "      <td>2.081189</td>\n",
       "      <td>893.251863</td>\n",
       "      <td>0.500773</td>\n",
       "      <td>-1.938894</td>\n",
       "      <td>93.036092</td>\n",
       "      <td>-42.606186</td>\n",
       "      <td>1.320938</td>\n",
       "      <td>5078.418002</td>\n",
       "      <td>0.233657</td>\n",
       "    </tr>\n",
       "    <tr>\n",
       "      <th>1</th>\n",
       "      <td>40.172428</td>\n",
       "      <td>253.446999</td>\n",
       "      <td>2.824234</td>\n",
       "      <td>999.000000</td>\n",
       "      <td>0.000000</td>\n",
       "      <td>1.148112</td>\n",
       "      <td>93.860360</td>\n",
       "      <td>-39.392682</td>\n",
       "      <td>4.835029</td>\n",
       "      <td>5213.793509</td>\n",
       "      <td>0.048809</td>\n",
       "    </tr>\n",
       "  </tbody>\n",
       "</table>\n",
       "</div>"
      ],
      "text/plain": [
       "                 age    duration  campaign       pdays  previous  \\\n",
       "cluster_2                                                          \n",
       "0          39.742865  267.454309  2.081189  893.251863  0.500773   \n",
       "1          40.172428  253.446999  2.824234  999.000000  0.000000   \n",
       "\n",
       "           emp.var.rate  cons.price.idx  cons.conf.idx  euribor3m  \\\n",
       "cluster_2                                                           \n",
       "0             -1.938894       93.036092     -42.606186   1.320938   \n",
       "1              1.148112       93.860360     -39.392682   4.835029   \n",
       "\n",
       "           nr.employed         y  \n",
       "cluster_2                         \n",
       "0          5078.418002  0.233657  \n",
       "1          5213.793509  0.048809  "
      ]
     },
     "execution_count": 29,
     "metadata": {},
     "output_type": "execute_result"
    }
   ],
   "source": [
    "kmeans = KMeans(n_clusters=2)\n",
    "kmeans.fit(scaled_features)\n",
    "df1[\"cluster_2\"] = kmeans.predict(scaled_features)\n",
    "display(df1.groupby(\"cluster_2\").size())\n",
    "df1.groupby(\"cluster_2\")[numerical_columns+[\"y\"]].mean().sort_values(\"y\", ascending=False)"
   ]
  },
  {
   "cell_type": "markdown",
   "metadata": {},
   "source": [
    "#### Observation:\n",
    "Comparing 2 and 3 clusteristation, it appear that going from 3 clusters to 2, on of them remains almost unchanged, while two others coalesce"
   ]
  },
  {
   "cell_type": "markdown",
   "metadata": {},
   "source": [
    "There are 1307 samples in the cluster 9 in approach A. How many of them ar present in cluster 1 from approach B?"
   ]
  },
  {
   "cell_type": "code",
   "execution_count": 43,
   "metadata": {},
   "outputs": [
    {
     "name": "stdout",
     "output_type": "stream",
     "text": [
      "1307\n"
     ]
    }
   ],
   "source": [
    "common_cases = set(df1[df1[\"cluster\"]==9].index) & set(df1[df1[\"cluster_3\"]==1].index)\n",
    "print(len(common_cases))"
   ]
  },
  {
   "cell_type": "markdown",
   "metadata": {},
   "source": [
    "Among those common elements how many have y=1"
   ]
  },
  {
   "cell_type": "code",
   "execution_count": 44,
   "metadata": {},
   "outputs": [
    {
     "data": {
      "text/plain": [
       "1    837\n",
       "0    470\n",
       "Name: y, dtype: int64"
      ]
     },
     "execution_count": 44,
     "metadata": {},
     "output_type": "execute_result"
    }
   ],
   "source": [
    "df1.loc[list(common_cases), \"y\"].value_counts()"
   ]
  },
  {
   "cell_type": "code",
   "execution_count": 45,
   "metadata": {},
   "outputs": [
    {
     "data": {
      "text/plain": [
       "1    837\n",
       "0    470\n",
       "Name: y, dtype: int64"
      ]
     },
     "execution_count": 45,
     "metadata": {},
     "output_type": "execute_result"
    }
   ],
   "source": [
    "df1[df1[\"cluster\"]==9][\"y\"].value_counts()"
   ]
  },
  {
   "cell_type": "markdown",
   "metadata": {},
   "source": [
    "### Going back to specific features of cluster 9 in the Approach A"
   ]
  },
  {
   "cell_type": "code",
   "execution_count": 47,
   "metadata": {},
   "outputs": [
    {
     "data": {
      "image/png": "[encoded data removed]",
      "text/plain": [
       "<Figure size 432x288 with 1 Axes>"
      ]
     },
     "metadata": {
      "needs_background": "light"
     },
     "output_type": "display_data"
    },
    {
     "data": {
      "image/png": "[encoded data removed]",
      "text/plain": [
       "<Figure size 432x288 with 1 Axes>"
      ]
     },
     "metadata": {
      "needs_background": "light"
     },
     "output_type": "display_data"
    },
    {
     "data": {
      "image/png": "[encoded data removed]",
      "text/plain": [
       "<Figure size 432x288 with 1 Axes>"
      ]
     },
     "metadata": {
      "needs_background": "light"
     },
     "output_type": "display_data"
    },
    {
     "data": {
      "image/png": "[encoded data removed]",
      "text/plain": [
       "<Figure size 432x288 with 1 Axes>"
      ]
     },
     "metadata": {
      "needs_background": "light"
     },
     "output_type": "display_data"
    },
    {
     "data": {
      "image/png": "[encoded data removed]",
      "text/plain": [
       "<Figure size 432x288 with 1 Axes>"
      ]
     },
     "metadata": {
      "needs_background": "light"
     },
     "output_type": "display_data"
    },
    {
     "data": {
      "image/png": "[encoded data removed]",
      "text/plain": [
       "<Figure size 432x288 with 1 Axes>"
      ]
     },
     "metadata": {
      "needs_background": "light"
     },
     "output_type": "display_data"
    },
    {
     "data": {
      "image/png": "[encoded data removed]",
      "text/plain": [
       "<Figure size 432x288 with 1 Axes>"
      ]
     },
     "metadata": {
      "needs_background": "light"
     },
     "output_type": "display_data"
    },
    {
     "data": {
      "image/png": "[encoded data removed]",
      "text/plain": [
       "<Figure size 432x288 with 1 Axes>"
      ]
     },
     "metadata": {
      "needs_background": "light"
     },
     "output_type": "display_data"
    },
    {
     "data": {
      "image/png": "[encoded data removed]",
      "text/plain": [
       "<Figure size 432x288 with 1 Axes>"
      ]
     },
     "metadata": {
      "needs_background": "light"
     },
     "output_type": "display_data"
    },
    {
     "data": {
      "image/png": "[encoded data removed]",
      "text/plain": [
       "<Figure size 432x288 with 1 Axes>"
      ]
     },
     "metadata": {
      "needs_background": "light"
     },
     "output_type": "display_data"
    }
   ],
   "source": [
    "df_1 = df1[df1[\"cluster\"]==9].copy()\n",
    "for i, col in enumerate(numerical_columns):\n",
    "    plt.figure(i)\n",
    "    sns.scatterplot(x= col, y=\"y\", data = df_1)"
   ]
  },
  {
   "cell_type": "code",
   "execution_count": 49,
   "metadata": {},
   "outputs": [
    {
     "data": {
      "text/plain": [
       "age               0.088147\n",
       "duration          0.232905\n",
       "campaign         -0.117335\n",
       "pdays            -0.018733\n",
       "previous          0.104628\n",
       "emp.var.rate     -0.058036\n",
       "cons.price.idx    0.151149\n",
       "cons.conf.idx     0.123554\n",
       "euribor3m        -0.264753\n",
       "nr.employed      -0.312123\n",
       "y                 1.000000\n",
       "Name: y, dtype: float64"
      ]
     },
     "execution_count": 49,
     "metadata": {},
     "output_type": "execute_result"
    }
   ],
   "source": [
    "df_1[numerical_columns+[\"y\"]].corr()[\"y\"]"
   ]
  },
  {
   "cell_type": "code",
   "execution_count": 48,
   "metadata": {},
   "outputs": [
    {
     "data": {
      "text/html": [
       "<div>\n",
       "<style scoped>\n",
       "    .dataframe tbody tr th:only-of-type {\n",
       "        vertical-align: middle;\n",
       "    }\n",
       "\n",
       "    .dataframe tbody tr th {\n",
       "        vertical-align: top;\n",
       "    }\n",
       "\n",
       "    .dataframe thead th {\n",
       "        text-align: right;\n",
       "    }\n",
       "</style>\n",
       "<table border=\"1\" class=\"dataframe\">\n",
       "  <thead>\n",
       "    <tr style=\"text-align: right;\">\n",
       "      <th></th>\n",
       "      <th>age</th>\n",
       "      <th>duration</th>\n",
       "      <th>campaign</th>\n",
       "      <th>pdays</th>\n",
       "      <th>previous</th>\n",
       "      <th>emp.var.rate</th>\n",
       "      <th>cons.price.idx</th>\n",
       "      <th>cons.conf.idx</th>\n",
       "      <th>euribor3m</th>\n",
       "      <th>nr.employed</th>\n",
       "      <th>y</th>\n",
       "    </tr>\n",
       "    <tr>\n",
       "      <th>cluster</th>\n",
       "      <th></th>\n",
       "      <th></th>\n",
       "      <th></th>\n",
       "      <th></th>\n",
       "      <th></th>\n",
       "      <th></th>\n",
       "      <th></th>\n",
       "      <th></th>\n",
       "      <th></th>\n",
       "      <th></th>\n",
       "      <th></th>\n",
       "    </tr>\n",
       "  </thead>\n",
       "  <tbody>\n",
       "    <tr>\n",
       "      <th>9</th>\n",
       "      <td>42.091048</td>\n",
       "      <td>323.392502</td>\n",
       "      <td>1.815608</td>\n",
       "      <td>5.605968</td>\n",
       "      <td>1.592196</td>\n",
       "      <td>-2.102831</td>\n",
       "      <td>93.342254</td>\n",
       "      <td>-38.603826</td>\n",
       "      <td>1.014774</td>\n",
       "      <td>5031.151109</td>\n",
       "      <td>0.640398</td>\n",
       "    </tr>\n",
       "    <tr>\n",
       "      <th>8</th>\n",
       "      <td>40.778388</td>\n",
       "      <td>245.946886</td>\n",
       "      <td>2.203297</td>\n",
       "      <td>835.454212</td>\n",
       "      <td>0.483516</td>\n",
       "      <td>-1.800000</td>\n",
       "      <td>93.097330</td>\n",
       "      <td>-42.650549</td>\n",
       "      <td>1.162745</td>\n",
       "      <td>5055.390110</td>\n",
       "      <td>0.505495</td>\n",
       "    </tr>\n",
       "    <tr>\n",
       "      <th>3</th>\n",
       "      <td>44.542705</td>\n",
       "      <td>290.781139</td>\n",
       "      <td>1.689502</td>\n",
       "      <td>977.014235</td>\n",
       "      <td>0.411922</td>\n",
       "      <td>-2.464324</td>\n",
       "      <td>93.096257</td>\n",
       "      <td>-33.540214</td>\n",
       "      <td>1.063661</td>\n",
       "      <td>5014.172865</td>\n",
       "      <td>0.369217</td>\n",
       "    </tr>\n",
       "    <tr>\n",
       "      <th>10</th>\n",
       "      <td>40.362083</td>\n",
       "      <td>291.135476</td>\n",
       "      <td>1.961351</td>\n",
       "      <td>999.000000</td>\n",
       "      <td>0.238405</td>\n",
       "      <td>-1.800000</td>\n",
       "      <td>93.105711</td>\n",
       "      <td>-46.530431</td>\n",
       "      <td>1.377235</td>\n",
       "      <td>5094.980879</td>\n",
       "      <td>0.187144</td>\n",
       "    </tr>\n",
       "    <tr>\n",
       "      <th>12</th>\n",
       "      <td>37.578251</td>\n",
       "      <td>259.189787</td>\n",
       "      <td>2.256564</td>\n",
       "      <td>999.000000</td>\n",
       "      <td>0.000000</td>\n",
       "      <td>-2.041968</td>\n",
       "      <td>92.912626</td>\n",
       "      <td>-43.454352</td>\n",
       "      <td>1.206191</td>\n",
       "      <td>5086.164875</td>\n",
       "      <td>0.173868</td>\n",
       "    </tr>\n",
       "    <tr>\n",
       "      <th>1</th>\n",
       "      <td>38.702841</td>\n",
       "      <td>245.716654</td>\n",
       "      <td>2.107735</td>\n",
       "      <td>962.694159</td>\n",
       "      <td>1.198895</td>\n",
       "      <td>-1.991042</td>\n",
       "      <td>92.989655</td>\n",
       "      <td>-43.363496</td>\n",
       "      <td>1.181901</td>\n",
       "      <td>5079.385596</td>\n",
       "      <td>0.144830</td>\n",
       "    </tr>\n",
       "    <tr>\n",
       "      <th>5</th>\n",
       "      <td>40.806600</td>\n",
       "      <td>240.873458</td>\n",
       "      <td>1.896126</td>\n",
       "      <td>999.000000</td>\n",
       "      <td>0.193974</td>\n",
       "      <td>-0.246428</td>\n",
       "      <td>93.197941</td>\n",
       "      <td>-41.632166</td>\n",
       "      <td>3.938289</td>\n",
       "      <td>5185.587862</td>\n",
       "      <td>0.072023</td>\n",
       "    </tr>\n",
       "    <tr>\n",
       "      <th>0</th>\n",
       "      <td>40.146886</td>\n",
       "      <td>262.868978</td>\n",
       "      <td>2.675088</td>\n",
       "      <td>999.000000</td>\n",
       "      <td>0.003525</td>\n",
       "      <td>0.562632</td>\n",
       "      <td>93.751083</td>\n",
       "      <td>-40.686722</td>\n",
       "      <td>4.140522</td>\n",
       "      <td>5188.292362</td>\n",
       "      <td>0.070505</td>\n",
       "    </tr>\n",
       "    <tr>\n",
       "      <th>7</th>\n",
       "      <td>38.088564</td>\n",
       "      <td>273.918939</td>\n",
       "      <td>3.291125</td>\n",
       "      <td>999.000000</td>\n",
       "      <td>0.000000</td>\n",
       "      <td>1.400000</td>\n",
       "      <td>93.918000</td>\n",
       "      <td>-42.700000</td>\n",
       "      <td>4.961616</td>\n",
       "      <td>5228.100000</td>\n",
       "      <td>0.061116</td>\n",
       "    </tr>\n",
       "    <tr>\n",
       "      <th>6</th>\n",
       "      <td>40.599686</td>\n",
       "      <td>224.982712</td>\n",
       "      <td>2.874944</td>\n",
       "      <td>999.000000</td>\n",
       "      <td>0.000000</td>\n",
       "      <td>1.395173</td>\n",
       "      <td>93.442605</td>\n",
       "      <td>-36.094724</td>\n",
       "      <td>4.960209</td>\n",
       "      <td>5227.929479</td>\n",
       "      <td>0.051414</td>\n",
       "    </tr>\n",
       "    <tr>\n",
       "      <th>4</th>\n",
       "      <td>43.684169</td>\n",
       "      <td>252.613100</td>\n",
       "      <td>2.859984</td>\n",
       "      <td>999.000000</td>\n",
       "      <td>0.002652</td>\n",
       "      <td>1.024901</td>\n",
       "      <td>93.866605</td>\n",
       "      <td>-39.573429</td>\n",
       "      <td>4.644685</td>\n",
       "      <td>5205.872395</td>\n",
       "      <td>0.047998</td>\n",
       "    </tr>\n",
       "    <tr>\n",
       "      <th>2</th>\n",
       "      <td>39.685698</td>\n",
       "      <td>239.152249</td>\n",
       "      <td>3.260381</td>\n",
       "      <td>999.000000</td>\n",
       "      <td>0.000000</td>\n",
       "      <td>1.370502</td>\n",
       "      <td>94.461099</td>\n",
       "      <td>-41.780969</td>\n",
       "      <td>4.891916</td>\n",
       "      <td>5225.849567</td>\n",
       "      <td>0.043541</td>\n",
       "    </tr>\n",
       "    <tr>\n",
       "      <th>11</th>\n",
       "      <td>39.792778</td>\n",
       "      <td>264.140301</td>\n",
       "      <td>2.510850</td>\n",
       "      <td>999.000000</td>\n",
       "      <td>0.000000</td>\n",
       "      <td>1.099685</td>\n",
       "      <td>93.993763</td>\n",
       "      <td>-36.400497</td>\n",
       "      <td>4.857065</td>\n",
       "      <td>5190.985407</td>\n",
       "      <td>0.029485</td>\n",
       "    </tr>\n",
       "  </tbody>\n",
       "</table>\n",
       "</div>"
      ],
      "text/plain": [
       "               age    duration  campaign       pdays  previous  emp.var.rate  \\\n",
       "cluster                                                                        \n",
       "9        42.091048  323.392502  1.815608    5.605968  1.592196     -2.102831   \n",
       "8        40.778388  245.946886  2.203297  835.454212  0.483516     -1.800000   \n",
       "3        44.542705  290.781139  1.689502  977.014235  0.411922     -2.464324   \n",
       "10       40.362083  291.135476  1.961351  999.000000  0.238405     -1.800000   \n",
       "12       37.578251  259.189787  2.256564  999.000000  0.000000     -2.041968   \n",
       "1        38.702841  245.716654  2.107735  962.694159  1.198895     -1.991042   \n",
       "5        40.806600  240.873458  1.896126  999.000000  0.193974     -0.246428   \n",
       "0        40.146886  262.868978  2.675088  999.000000  0.003525      0.562632   \n",
       "7        38.088564  273.918939  3.291125  999.000000  0.000000      1.400000   \n",
       "6        40.599686  224.982712  2.874944  999.000000  0.000000      1.395173   \n",
       "4        43.684169  252.613100  2.859984  999.000000  0.002652      1.024901   \n",
       "2        39.685698  239.152249  3.260381  999.000000  0.000000      1.370502   \n",
       "11       39.792778  264.140301  2.510850  999.000000  0.000000      1.099685   \n",
       "\n",
       "         cons.price.idx  cons.conf.idx  euribor3m  nr.employed         y  \n",
       "cluster                                                                   \n",
       "9             93.342254     -38.603826   1.014774  5031.151109  0.640398  \n",
       "8             93.097330     -42.650549   1.162745  5055.390110  0.505495  \n",
       "3             93.096257     -33.540214   1.063661  5014.172865  0.369217  \n",
       "10            93.105711     -46.530431   1.377235  5094.980879  0.187144  \n",
       "12            92.912626     -43.454352   1.206191  5086.164875  0.173868  \n",
       "1             92.989655     -43.363496   1.181901  5079.385596  0.144830  \n",
       "5             93.197941     -41.632166   3.938289  5185.587862  0.072023  \n",
       "0             93.751083     -40.686722   4.140522  5188.292362  0.070505  \n",
       "7             93.918000     -42.700000   4.961616  5228.100000  0.061116  \n",
       "6             93.442605     -36.094724   4.960209  5227.929479  0.051414  \n",
       "4             93.866605     -39.573429   4.644685  5205.872395  0.047998  \n",
       "2             94.461099     -41.780969   4.891916  5225.849567  0.043541  \n",
       "11            93.993763     -36.400497   4.857065  5190.985407  0.029485  "
      ]
     },
     "execution_count": 48,
     "metadata": {},
     "output_type": "execute_result"
    }
   ],
   "source": [
    "df1.groupby(\"cluster\")[numerical_columns+[\"y\"]].mean().sort_values(\"y\", ascending=False)"
   ]
  },
  {
   "cell_type": "code",
   "execution_count": 53,
   "metadata": {},
   "outputs": [
    {
     "data": {
      "text/html": [
       "<div>\n",
       "<style scoped>\n",
       "    .dataframe tbody tr th:only-of-type {\n",
       "        vertical-align: middle;\n",
       "    }\n",
       "\n",
       "    .dataframe tbody tr th {\n",
       "        vertical-align: top;\n",
       "    }\n",
       "\n",
       "    .dataframe thead tr th {\n",
       "        text-align: left;\n",
       "    }\n",
       "\n",
       "    .dataframe thead tr:last-of-type th {\n",
       "        text-align: right;\n",
       "    }\n",
       "</style>\n",
       "<table border=\"1\" class=\"dataframe\">\n",
       "  <thead>\n",
       "    <tr>\n",
       "      <th></th>\n",
       "      <th></th>\n",
       "      <th colspan=\"4\" halign=\"left\">pdays</th>\n",
       "    </tr>\n",
       "    <tr>\n",
       "      <th></th>\n",
       "      <th></th>\n",
       "      <th>count</th>\n",
       "      <th>mean</th>\n",
       "      <th>max</th>\n",
       "      <th>min</th>\n",
       "    </tr>\n",
       "    <tr>\n",
       "      <th>cluster</th>\n",
       "      <th>y</th>\n",
       "      <th></th>\n",
       "      <th></th>\n",
       "      <th></th>\n",
       "      <th></th>\n",
       "    </tr>\n",
       "  </thead>\n",
       "  <tbody>\n",
       "    <tr>\n",
       "      <th rowspan=\"2\" valign=\"top\">0</th>\n",
       "      <th>0</th>\n",
       "      <td>1582</td>\n",
       "      <td>999.000000</td>\n",
       "      <td>999</td>\n",
       "      <td>999</td>\n",
       "    </tr>\n",
       "    <tr>\n",
       "      <th>1</th>\n",
       "      <td>120</td>\n",
       "      <td>999.000000</td>\n",
       "      <td>999</td>\n",
       "      <td>999</td>\n",
       "    </tr>\n",
       "    <tr>\n",
       "      <th rowspan=\"2\" valign=\"top\">1</th>\n",
       "      <th>0</th>\n",
       "      <td>2167</td>\n",
       "      <td>979.357637</td>\n",
       "      <td>999</td>\n",
       "      <td>3</td>\n",
       "    </tr>\n",
       "    <tr>\n",
       "      <th>1</th>\n",
       "      <td>367</td>\n",
       "      <td>864.302452</td>\n",
       "      <td>999</td>\n",
       "      <td>3</td>\n",
       "    </tr>\n",
       "    <tr>\n",
       "      <th rowspan=\"2\" valign=\"top\">2</th>\n",
       "      <th>0</th>\n",
       "      <td>3317</td>\n",
       "      <td>999.000000</td>\n",
       "      <td>999</td>\n",
       "      <td>999</td>\n",
       "    </tr>\n",
       "    <tr>\n",
       "      <th>1</th>\n",
       "      <td>151</td>\n",
       "      <td>999.000000</td>\n",
       "      <td>999</td>\n",
       "      <td>999</td>\n",
       "    </tr>\n",
       "    <tr>\n",
       "      <th rowspan=\"2\" valign=\"top\">3</th>\n",
       "      <th>0</th>\n",
       "      <td>709</td>\n",
       "      <td>979.506347</td>\n",
       "      <td>999</td>\n",
       "      <td>6</td>\n",
       "    </tr>\n",
       "    <tr>\n",
       "      <th>1</th>\n",
       "      <td>415</td>\n",
       "      <td>972.756627</td>\n",
       "      <td>999</td>\n",
       "      <td>5</td>\n",
       "    </tr>\n",
       "    <tr>\n",
       "      <th rowspan=\"2\" valign=\"top\">4</th>\n",
       "      <th>0</th>\n",
       "      <td>3590</td>\n",
       "      <td>999.000000</td>\n",
       "      <td>999</td>\n",
       "      <td>999</td>\n",
       "    </tr>\n",
       "    <tr>\n",
       "      <th>1</th>\n",
       "      <td>181</td>\n",
       "      <td>999.000000</td>\n",
       "      <td>999</td>\n",
       "      <td>999</td>\n",
       "    </tr>\n",
       "    <tr>\n",
       "      <th rowspan=\"2\" valign=\"top\">5</th>\n",
       "      <th>0</th>\n",
       "      <td>3234</td>\n",
       "      <td>999.000000</td>\n",
       "      <td>999</td>\n",
       "      <td>999</td>\n",
       "    </tr>\n",
       "    <tr>\n",
       "      <th>1</th>\n",
       "      <td>251</td>\n",
       "      <td>999.000000</td>\n",
       "      <td>999</td>\n",
       "      <td>999</td>\n",
       "    </tr>\n",
       "    <tr>\n",
       "      <th rowspan=\"2\" valign=\"top\">6</th>\n",
       "      <th>0</th>\n",
       "      <td>4225</td>\n",
       "      <td>999.000000</td>\n",
       "      <td>999</td>\n",
       "      <td>999</td>\n",
       "    </tr>\n",
       "    <tr>\n",
       "      <th>1</th>\n",
       "      <td>229</td>\n",
       "      <td>999.000000</td>\n",
       "      <td>999</td>\n",
       "      <td>999</td>\n",
       "    </tr>\n",
       "    <tr>\n",
       "      <th rowspan=\"2\" valign=\"top\">7</th>\n",
       "      <th>0</th>\n",
       "      <td>5131</td>\n",
       "      <td>999.000000</td>\n",
       "      <td>999</td>\n",
       "      <td>999</td>\n",
       "    </tr>\n",
       "    <tr>\n",
       "      <th>1</th>\n",
       "      <td>334</td>\n",
       "      <td>999.000000</td>\n",
       "      <td>999</td>\n",
       "      <td>999</td>\n",
       "    </tr>\n",
       "    <tr>\n",
       "      <th rowspan=\"2\" valign=\"top\">8</th>\n",
       "      <th>0</th>\n",
       "      <td>270</td>\n",
       "      <td>921.892593</td>\n",
       "      <td>999</td>\n",
       "      <td>3</td>\n",
       "    </tr>\n",
       "    <tr>\n",
       "      <th>1</th>\n",
       "      <td>276</td>\n",
       "      <td>750.894928</td>\n",
       "      <td>999</td>\n",
       "      <td>3</td>\n",
       "    </tr>\n",
       "    <tr>\n",
       "      <th rowspan=\"2\" valign=\"top\">9</th>\n",
       "      <th>0</th>\n",
       "      <td>470</td>\n",
       "      <td>5.695745</td>\n",
       "      <td>22</td>\n",
       "      <td>0</td>\n",
       "    </tr>\n",
       "    <tr>\n",
       "      <th>1</th>\n",
       "      <td>837</td>\n",
       "      <td>5.555556</td>\n",
       "      <td>27</td>\n",
       "      <td>0</td>\n",
       "    </tr>\n",
       "    <tr>\n",
       "      <th rowspan=\"2\" valign=\"top\">10</th>\n",
       "      <th>0</th>\n",
       "      <td>1998</td>\n",
       "      <td>999.000000</td>\n",
       "      <td>999</td>\n",
       "      <td>999</td>\n",
       "    </tr>\n",
       "    <tr>\n",
       "      <th>1</th>\n",
       "      <td>460</td>\n",
       "      <td>999.000000</td>\n",
       "      <td>999</td>\n",
       "      <td>999</td>\n",
       "    </tr>\n",
       "    <tr>\n",
       "      <th rowspan=\"2\" valign=\"top\">11</th>\n",
       "      <th>0</th>\n",
       "      <td>5859</td>\n",
       "      <td>999.000000</td>\n",
       "      <td>999</td>\n",
       "      <td>999</td>\n",
       "    </tr>\n",
       "    <tr>\n",
       "      <th>1</th>\n",
       "      <td>178</td>\n",
       "      <td>999.000000</td>\n",
       "      <td>999</td>\n",
       "      <td>999</td>\n",
       "    </tr>\n",
       "    <tr>\n",
       "      <th rowspan=\"2\" valign=\"top\">12</th>\n",
       "      <th>0</th>\n",
       "      <td>3996</td>\n",
       "      <td>999.000000</td>\n",
       "      <td>999</td>\n",
       "      <td>999</td>\n",
       "    </tr>\n",
       "    <tr>\n",
       "      <th>1</th>\n",
       "      <td>841</td>\n",
       "      <td>999.000000</td>\n",
       "      <td>999</td>\n",
       "      <td>999</td>\n",
       "    </tr>\n",
       "  </tbody>\n",
       "</table>\n",
       "</div>"
      ],
      "text/plain": [
       "          pdays                      \n",
       "          count        mean  max  min\n",
       "cluster y                            \n",
       "0       0  1582  999.000000  999  999\n",
       "        1   120  999.000000  999  999\n",
       "1       0  2167  979.357637  999    3\n",
       "        1   367  864.302452  999    3\n",
       "2       0  3317  999.000000  999  999\n",
       "        1   151  999.000000  999  999\n",
       "3       0   709  979.506347  999    6\n",
       "        1   415  972.756627  999    5\n",
       "4       0  3590  999.000000  999  999\n",
       "        1   181  999.000000  999  999\n",
       "5       0  3234  999.000000  999  999\n",
       "        1   251  999.000000  999  999\n",
       "6       0  4225  999.000000  999  999\n",
       "        1   229  999.000000  999  999\n",
       "7       0  5131  999.000000  999  999\n",
       "        1   334  999.000000  999  999\n",
       "8       0   270  921.892593  999    3\n",
       "        1   276  750.894928  999    3\n",
       "9       0   470    5.695745   22    0\n",
       "        1   837    5.555556   27    0\n",
       "10      0  1998  999.000000  999  999\n",
       "        1   460  999.000000  999  999\n",
       "11      0  5859  999.000000  999  999\n",
       "        1   178  999.000000  999  999\n",
       "12      0  3996  999.000000  999  999\n",
       "        1   841  999.000000  999  999"
      ]
     },
     "execution_count": 53,
     "metadata": {},
     "output_type": "execute_result"
    }
   ],
   "source": [
    "df1.groupby([\"cluster\",\"y\"])[[\"pdays\"]].agg([\"count\",\"mean\", \"max\", \"min\"])"
   ]
  },
  {
   "cell_type": "markdown",
   "metadata": {},
   "source": [
    "#### Conclusion:\n",
    "No confident conclusion can be drawn from the obrained results"
   ]
  },
  {
   "cell_type": "markdown",
   "metadata": {},
   "source": [
    "### The last approach: Change OHE encoding to LabelEnconding and perform clusterisation"
   ]
  },
  {
   "cell_type": "code",
   "execution_count": 93,
   "metadata": {},
   "outputs": [],
   "source": [
    "# OHE in binary column\n",
    "df2 = df.copy()\n",
    "map_yes_no_dict = {\"yes\": 1, \"no\":0}\n",
    "map_phone_dict = {\"cellular\": 1, \"telephone\":0}\n",
    "for col in ['default', 'housing','loan']:\n",
    "    df2[col] = df2[col].apply(lambda x: map_yes_no_dict[x])\n",
    "df2['contact'] = df2['contact'].map(map_phone_dict) "
   ]
  },
  {
   "cell_type": "code",
   "execution_count": 96,
   "metadata": {},
   "outputs": [],
   "source": [
    "# label encoding for text features\n",
    "text_cat_columns = [col for col in df2.columns if df2[col].dtype==\"object\"]\n",
    "\n",
    "from sklearn.preprocessing import LabelEncoder\n",
    "encoder = LabelEncoder()\n",
    "\n",
    "df2[text_cat_columns] = df2[text_cat_columns].apply(encoder.fit_transform)"
   ]
  },
  {
   "cell_type": "code",
   "execution_count": 97,
   "metadata": {},
   "outputs": [],
   "source": [
    "# Scaling for continious variables\n",
    "\n",
    "numerical_columns = ['age', 'duration','campaign','pdays','previous','emp.var.rate','cons.price.idx',\n",
    "                     'cons.conf.idx','euribor3m','nr.employed']\n",
    "\n",
    "scaler = StandardScaler()\n",
    "df2[numerical_columns] = StandardScaler().fit_transform(df2[numerical_columns])"
   ]
  },
  {
   "cell_type": "code",
   "execution_count": 105,
   "metadata": {},
   "outputs": [],
   "source": [
    "df2_features = df2.drop(\"y\", axis=1)"
   ]
  },
  {
   "cell_type": "code",
   "execution_count": null,
   "metadata": {},
   "outputs": [],
   "source": [
    "%%time\n",
    "n_clusters = 20\n",
    "kmeans_kwargs = {\"init\": \"random\", \"max_iter\": 300, \"random_state\": 123}\n",
    "\n",
    "errors = []\n",
    "for i in range(2, n_clusters+1):\n",
    "    kmeans = KMeans(n_clusters=i, **kmeans_kwargs)\n",
    "    kmeans.fit(df2_features)\n",
    "    errors.append(kmeans.inertia_)"
   ]
  },
  {
   "cell_type": "code",
   "execution_count": 107,
   "metadata": {},
   "outputs": [
    {
     "data": {
      "image/png": "[encoded data removed]",
      "text/plain": [
       "<Figure size 432x288 with 1 Axes>"
      ]
     },
     "metadata": {
      "needs_background": "light"
     },
     "output_type": "display_data"
    }
   ],
   "source": [
    "plt.plot(np.arange(2, n_clusters+1), errors)\n",
    "plt.xlabel(\"N clusters\")\n",
    "plt.xticks(np.arange(2, n_clusters+1))\n",
    "plt.ylabel(\"Sum of squared errors\");"
   ]
  },
  {
   "cell_type": "markdown",
   "metadata": {},
   "source": [
    "There is not so evident which number of clusters to use as the plot is very smooth\n",
    "Therefore it make sense to try silhouette from sklearn"
   ]
  },
  {
   "cell_type": "code",
   "execution_count": 121,
   "metadata": {},
   "outputs": [],
   "source": [
    "from sklearn.metrics import silhouette_samples, silhouette_score\n",
    "import matplotlib.cm as cm"
   ]
  },
  {
   "cell_type": "code",
   "execution_count": 132,
   "metadata": {},
   "outputs": [
    {
     "name": "stdout",
     "output_type": "stream",
     "text": [
      "For n_clusters = 2 The average silhouette_score is : 0.291\n",
      "For n_clusters = 3 The average silhouette_score is : 0.206\n",
      "For n_clusters = 4 The average silhouette_score is : 0.172\n",
      "For n_clusters = 5 The average silhouette_score is : 0.177\n",
      "For n_clusters = 6 The average silhouette_score is : 0.166\n",
      "For n_clusters = 7 The average silhouette_score is : 0.186\n",
      "For n_clusters = 8 The average silhouette_score is : 0.158\n",
      "For n_clusters = 9 The average silhouette_score is : 0.182\n",
      "For n_clusters = 10 The average silhouette_score is : 0.177\n",
      "For n_clusters = 11 The average silhouette_score is : 0.175\n",
      "For n_clusters = 12 The average silhouette_score is : 0.186\n",
      "For n_clusters = 13 The average silhouette_score is : 0.18\n",
      "For n_clusters = 14 The average silhouette_score is : 0.183\n",
      "For n_clusters = 15 The average silhouette_score is : 0.175\n",
      "For n_clusters = 16 The average silhouette_score is : 0.175\n",
      "For n_clusters = 17 The average silhouette_score is : 0.168\n",
      "For n_clusters = 18 The average silhouette_score is : 0.166\n",
      "For n_clusters = 19 The average silhouette_score is : 0.178\n",
      "For n_clusters = 20 The average silhouette_score is : 0.166\n",
      "CPU times: user 15min 25s, sys: 4min 41s, total: 20min 7s\n",
      "Wall time: 22min 38s\n"
     ]
    }
   ],
   "source": [
    "%%time\n",
    "n_clusters = 20\n",
    "sil_scores = [] # aim to high silhouette_scores\n",
    "for i in range(2, n_clusters+1):\n",
    "    kmeans = KMeans(n_clusters=i, random_state=123)\n",
    "    kmeans.fit(df2_features)\n",
    "    cluster_labels = kmeans.fit_predict(df2_features)\n",
    "    silhouette_avg = silhouette_score(df2_features, cluster_labels)\n",
    "    sil_scores.append(silhouette_avg)\n",
    "    print(\"For n_clusters =\", i,\n",
    "          \"The average silhouette_score is :\", round(silhouette_avg, 3))"
   ]
  },
  {
   "cell_type": "code",
   "execution_count": 133,
   "metadata": {},
   "outputs": [
    {
     "data": {
      "image/png": "[encoded data removed]",
      "text/plain": [
       "<Figure size 432x288 with 1 Axes>"
      ]
     },
     "metadata": {
      "needs_background": "light"
     },
     "output_type": "display_data"
    }
   ],
   "source": [
    "plt.plot(np.arange(2, n_clusters+1), sil_scores)\n",
    "plt.xlabel(\"N clusters\")\n",
    "plt.xticks(np.arange(2, n_clusters+1))\n",
    "plt.ylabel(\"Sum of squared errors\");"
   ]
  },
  {
   "cell_type": "markdown",
   "metadata": {},
   "source": [
    "The highest silhouette_score is for 2 cluster, so let's see what it is inside"
   ]
  },
  {
   "cell_type": "code",
   "execution_count": 134,
   "metadata": {},
   "outputs": [],
   "source": [
    "kmeans = KMeans(n_clusters=2, random_state=123)\n",
    "kmeans.fit(df2_features)\n",
    "df2[\"cluster\"] = kmeans.predict(df2_features)"
   ]
  },
  {
   "cell_type": "code",
   "execution_count": 135,
   "metadata": {},
   "outputs": [
    {
     "data": {
      "text/html": [
       "<div>\n",
       "<style scoped>\n",
       "    .dataframe tbody tr th:only-of-type {\n",
       "        vertical-align: middle;\n",
       "    }\n",
       "\n",
       "    .dataframe tbody tr th {\n",
       "        vertical-align: top;\n",
       "    }\n",
       "\n",
       "    .dataframe thead th {\n",
       "        text-align: right;\n",
       "    }\n",
       "</style>\n",
       "<table border=\"1\" class=\"dataframe\">\n",
       "  <thead>\n",
       "    <tr style=\"text-align: right;\">\n",
       "      <th></th>\n",
       "      <th>age</th>\n",
       "      <th>duration</th>\n",
       "      <th>campaign</th>\n",
       "      <th>pdays</th>\n",
       "      <th>previous</th>\n",
       "      <th>emp.var.rate</th>\n",
       "      <th>cons.price.idx</th>\n",
       "      <th>cons.conf.idx</th>\n",
       "      <th>euribor3m</th>\n",
       "      <th>nr.employed</th>\n",
       "      <th>y</th>\n",
       "    </tr>\n",
       "    <tr>\n",
       "      <th>cluster</th>\n",
       "      <th></th>\n",
       "      <th></th>\n",
       "      <th></th>\n",
       "      <th></th>\n",
       "      <th></th>\n",
       "      <th></th>\n",
       "      <th></th>\n",
       "      <th></th>\n",
       "      <th></th>\n",
       "      <th></th>\n",
       "      <th></th>\n",
       "    </tr>\n",
       "  </thead>\n",
       "  <tbody>\n",
       "    <tr>\n",
       "      <th>0</th>\n",
       "      <td>0.045966</td>\n",
       "      <td>-0.002671</td>\n",
       "      <td>-0.006041</td>\n",
       "      <td>-0.051103</td>\n",
       "      <td>0.046740</td>\n",
       "      <td>-0.044703</td>\n",
       "      <td>-0.036808</td>\n",
       "      <td>0.071815</td>\n",
       "      <td>-0.048630</td>\n",
       "      <td>-0.065992</td>\n",
       "      <td>0.130667</td>\n",
       "    </tr>\n",
       "    <tr>\n",
       "      <th>1</th>\n",
       "      <td>-0.028978</td>\n",
       "      <td>0.001684</td>\n",
       "      <td>0.003808</td>\n",
       "      <td>0.032217</td>\n",
       "      <td>-0.029466</td>\n",
       "      <td>0.028182</td>\n",
       "      <td>0.023205</td>\n",
       "      <td>-0.045274</td>\n",
       "      <td>0.030658</td>\n",
       "      <td>0.041604</td>\n",
       "      <td>0.101298</td>\n",
       "    </tr>\n",
       "  </tbody>\n",
       "</table>\n",
       "</div>"
      ],
      "text/plain": [
       "              age  duration  campaign     pdays  previous  emp.var.rate  \\\n",
       "cluster                                                                   \n",
       "0        0.045966 -0.002671 -0.006041 -0.051103  0.046740     -0.044703   \n",
       "1       -0.028978  0.001684  0.003808  0.032217 -0.029466      0.028182   \n",
       "\n",
       "         cons.price.idx  cons.conf.idx  euribor3m  nr.employed         y  \n",
       "cluster                                                                   \n",
       "0             -0.036808       0.071815  -0.048630    -0.065992  0.130667  \n",
       "1              0.023205      -0.045274   0.030658     0.041604  0.101298  "
      ]
     },
     "execution_count": 135,
     "metadata": {},
     "output_type": "execute_result"
    }
   ],
   "source": [
    "df2.groupby(\"cluster\")[numerical_columns+[\"y\"]].mean().sort_values(\"y\", ascending=False)"
   ]
  },
  {
   "cell_type": "code",
   "execution_count": null,
   "metadata": {},
   "outputs": [],
   "source": []
  }
 ],
 "metadata": {
  "kernelspec": {
   "display_name": "myspark",
   "language": "python",
   "name": "myspark"
  },
  "language_info": {
   "codemirror_mode": {
    "name": "ipython",
    "version": 3
   },
   "file_extension": ".py",
   "mimetype": "text/x-python",
   "name": "python",
   "nbconvert_exporter": "python",
   "pygments_lexer": "ipython3",
   "version": "3.6.10"
  }
 },
 "nbformat": 4,
 "nbformat_minor": 4
}
