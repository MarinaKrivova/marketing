{
 "cells": [
  {
   "cell_type": "markdown",
   "metadata": {},
   "source": [
    "## Exploratory Data Analysis - Part 2"
   ]
  },
  {
   "cell_type": "markdown",
   "metadata": {},
   "source": [
    "Campaigns with less than 7 contacts to clients were almost 2 times more efficient than campaign with a higher number of contacts\n",
    "\n",
    "What could be the underlying reason?"
   ]
  },
  {
   "cell_type": "markdown",
   "metadata": {},
   "source": [
    "Dataset: http://archive.ics.uci.edu/ml/datasets/Bank+Marketing"
   ]
  },
  {
   "cell_type": "markdown",
   "metadata": {},
   "source": [
    "### Attribute Information:\n",
    "\n",
    "Input variables:\n",
    "#### bank client data:\n",
    "\n",
    "1.  **age** (numeric)\n",
    "2.  **job** : type of job (categorical: 'admin.','bluecollar','entrepreneur','housemaid','management','retired','selfemployed','services','student','technician','unemployed','unknown')\n",
    "3.  **marital** : marital status (categorical: 'divorced','married','single','unknown'; note: 'divorced' means divorced or widowed)\n",
    "4.  **education** (categorical: 'basic.4y','basic.6y','basic.9y','high.school','illiterate','professional.course','university.degree','unknown')\n",
    "5.  **default**: has credit in default? (categorical: 'no','yes','unknown')\n",
    "6.  **housing**: has housing loan? (categorical: 'no','yes','unknown')\n",
    "7.  **loan**: has personal loan? (categorical: 'no','yes','unknown')\n",
    "\n",
    "#### related with the last contact of the current campaign:\n",
    "8.  **contact**: contact communication type (categorical: 'cellular','telephone')\n",
    "9.  **month**: last contact month of year (categorical: 'jan', 'feb', 'mar', ..., 'nov', 'dec')\n",
    "10.  **day_of_week**: last contact day of the week (categorical: 'mon','tue','wed','thu','fri')\n",
    "11.  **duration**: last contact duration, in seconds (numeric). Important note: this attribute highly affects the output target (e.g., if duration=0 then y='no'). Yet, the duration is not known before a call is performed. Also, after the end of the call y is obviously known. Thus, this input should only be included for benchmark purposes and should be discarded if the intention is to have a realistic predictive model.\n",
    "\n",
    "#### other attributes:\n",
    "12.  **campaign**: number of contacts performed during this campaign and for this client (numeric, includes last contact)\n",
    "13.  **pdays**: number of days that passed by after the client was last contacted from a previous campaign (numeric; 999 means client was not previously contacted)\n",
    "14.  **previous**: number of contacts performed before this campaign and for this client (numeric)\n",
    "15.  **poutcome**: outcome of the previous marketing campaign (categorical: 'failure','nonexistent','success')\n",
    "\n",
    "#### social and economic context attributes\n",
    "16.  **emp.var.rate**: employment variation rate  quarterly indicator (numeric)\n",
    "17.  **cons.price.idx**: consumer price index  monthly indicator (numeric)\n",
    "18.  **cons.conf.idx**: consumer confidence index  monthly indicator (numeric)\n",
    "19.  **euribor3m**: euribor 3 month rate  daily indicator (numeric)\n",
    "20.  **nr.employed**: number of employees  quarterly indicator (numeric)\n",
    "\n",
    "Output variable (desired target):\n",
    "21.  **y**  has the client subscribed a term deposit? (binary: 'yes','no')"
   ]
  },
  {
   "cell_type": "code",
   "execution_count": 1,
   "metadata": {},
   "outputs": [],
   "source": [
    "# import all the libraries\n",
    "\n",
    "import warnings\n",
    "warnings.filterwarnings(\"ignore\")\n",
    "\n",
    "import numpy as np\n",
    "import pandas as pd \n",
    "\n",
    "import pods\n",
    "import zipfile\n",
    "SEED = 123\n",
    "\n",
    "from IPython.display import display\n",
    "import random\n",
    "import time\n",
    "\n",
    "pd.options.display.max_columns = None\n",
    "import os\n",
    "\n",
    "import seaborn as sns\n",
    "import matplotlib.pyplot as plt\n",
    "%matplotlib inline"
   ]
  },
  {
   "cell_type": "markdown",
   "metadata": {},
   "source": [
    "### Loading the data"
   ]
  },
  {
   "cell_type": "code",
   "execution_count": 2,
   "metadata": {},
   "outputs": [
    {
     "data": {
      "text/html": [
       "<div>\n",
       "<style scoped>\n",
       "    .dataframe tbody tr th:only-of-type {\n",
       "        vertical-align: middle;\n",
       "    }\n",
       "\n",
       "    .dataframe tbody tr th {\n",
       "        vertical-align: top;\n",
       "    }\n",
       "\n",
       "    .dataframe thead th {\n",
       "        text-align: right;\n",
       "    }\n",
       "</style>\n",
       "<table border=\"1\" class=\"dataframe\">\n",
       "  <thead>\n",
       "    <tr style=\"text-align: right;\">\n",
       "      <th></th>\n",
       "      <th>age</th>\n",
       "      <th>job</th>\n",
       "      <th>marital</th>\n",
       "      <th>education</th>\n",
       "      <th>default</th>\n",
       "      <th>housing</th>\n",
       "      <th>loan</th>\n",
       "      <th>contact</th>\n",
       "      <th>month</th>\n",
       "      <th>day_of_week</th>\n",
       "      <th>duration</th>\n",
       "      <th>campaign</th>\n",
       "      <th>pdays</th>\n",
       "      <th>previous</th>\n",
       "      <th>poutcome</th>\n",
       "      <th>emp.var.rate</th>\n",
       "      <th>cons.price.idx</th>\n",
       "      <th>cons.conf.idx</th>\n",
       "      <th>euribor3m</th>\n",
       "      <th>nr.employed</th>\n",
       "      <th>y</th>\n",
       "    </tr>\n",
       "  </thead>\n",
       "  <tbody>\n",
       "    <tr>\n",
       "      <th>0</th>\n",
       "      <td>56</td>\n",
       "      <td>housemaid</td>\n",
       "      <td>married</td>\n",
       "      <td>basic.4y</td>\n",
       "      <td>no</td>\n",
       "      <td>no</td>\n",
       "      <td>no</td>\n",
       "      <td>telephone</td>\n",
       "      <td>may</td>\n",
       "      <td>mon</td>\n",
       "      <td>261</td>\n",
       "      <td>1</td>\n",
       "      <td>999</td>\n",
       "      <td>0</td>\n",
       "      <td>nonexistent</td>\n",
       "      <td>1.1</td>\n",
       "      <td>93.994</td>\n",
       "      <td>-36.4</td>\n",
       "      <td>4.857</td>\n",
       "      <td>5191.0</td>\n",
       "      <td>no</td>\n",
       "    </tr>\n",
       "    <tr>\n",
       "      <th>1</th>\n",
       "      <td>57</td>\n",
       "      <td>services</td>\n",
       "      <td>married</td>\n",
       "      <td>high.school</td>\n",
       "      <td>unknown</td>\n",
       "      <td>no</td>\n",
       "      <td>no</td>\n",
       "      <td>telephone</td>\n",
       "      <td>may</td>\n",
       "      <td>mon</td>\n",
       "      <td>149</td>\n",
       "      <td>1</td>\n",
       "      <td>999</td>\n",
       "      <td>0</td>\n",
       "      <td>nonexistent</td>\n",
       "      <td>1.1</td>\n",
       "      <td>93.994</td>\n",
       "      <td>-36.4</td>\n",
       "      <td>4.857</td>\n",
       "      <td>5191.0</td>\n",
       "      <td>no</td>\n",
       "    </tr>\n",
       "    <tr>\n",
       "      <th>2</th>\n",
       "      <td>37</td>\n",
       "      <td>services</td>\n",
       "      <td>married</td>\n",
       "      <td>high.school</td>\n",
       "      <td>no</td>\n",
       "      <td>yes</td>\n",
       "      <td>no</td>\n",
       "      <td>telephone</td>\n",
       "      <td>may</td>\n",
       "      <td>mon</td>\n",
       "      <td>226</td>\n",
       "      <td>1</td>\n",
       "      <td>999</td>\n",
       "      <td>0</td>\n",
       "      <td>nonexistent</td>\n",
       "      <td>1.1</td>\n",
       "      <td>93.994</td>\n",
       "      <td>-36.4</td>\n",
       "      <td>4.857</td>\n",
       "      <td>5191.0</td>\n",
       "      <td>no</td>\n",
       "    </tr>\n",
       "    <tr>\n",
       "      <th>3</th>\n",
       "      <td>40</td>\n",
       "      <td>admin.</td>\n",
       "      <td>married</td>\n",
       "      <td>basic.6y</td>\n",
       "      <td>no</td>\n",
       "      <td>no</td>\n",
       "      <td>no</td>\n",
       "      <td>telephone</td>\n",
       "      <td>may</td>\n",
       "      <td>mon</td>\n",
       "      <td>151</td>\n",
       "      <td>1</td>\n",
       "      <td>999</td>\n",
       "      <td>0</td>\n",
       "      <td>nonexistent</td>\n",
       "      <td>1.1</td>\n",
       "      <td>93.994</td>\n",
       "      <td>-36.4</td>\n",
       "      <td>4.857</td>\n",
       "      <td>5191.0</td>\n",
       "      <td>no</td>\n",
       "    </tr>\n",
       "    <tr>\n",
       "      <th>4</th>\n",
       "      <td>56</td>\n",
       "      <td>services</td>\n",
       "      <td>married</td>\n",
       "      <td>high.school</td>\n",
       "      <td>no</td>\n",
       "      <td>no</td>\n",
       "      <td>yes</td>\n",
       "      <td>telephone</td>\n",
       "      <td>may</td>\n",
       "      <td>mon</td>\n",
       "      <td>307</td>\n",
       "      <td>1</td>\n",
       "      <td>999</td>\n",
       "      <td>0</td>\n",
       "      <td>nonexistent</td>\n",
       "      <td>1.1</td>\n",
       "      <td>93.994</td>\n",
       "      <td>-36.4</td>\n",
       "      <td>4.857</td>\n",
       "      <td>5191.0</td>\n",
       "      <td>no</td>\n",
       "    </tr>\n",
       "  </tbody>\n",
       "</table>\n",
       "</div>"
      ],
      "text/plain": [
       "   age        job  marital    education  default housing loan    contact  \\\n",
       "0   56  housemaid  married     basic.4y       no      no   no  telephone   \n",
       "1   57   services  married  high.school  unknown      no   no  telephone   \n",
       "2   37   services  married  high.school       no     yes   no  telephone   \n",
       "3   40     admin.  married     basic.6y       no      no   no  telephone   \n",
       "4   56   services  married  high.school       no      no  yes  telephone   \n",
       "\n",
       "  month day_of_week  duration  campaign  pdays  previous     poutcome  \\\n",
       "0   may         mon       261         1    999         0  nonexistent   \n",
       "1   may         mon       149         1    999         0  nonexistent   \n",
       "2   may         mon       226         1    999         0  nonexistent   \n",
       "3   may         mon       151         1    999         0  nonexistent   \n",
       "4   may         mon       307         1    999         0  nonexistent   \n",
       "\n",
       "   emp.var.rate  cons.price.idx  cons.conf.idx  euribor3m  nr.employed   y  \n",
       "0           1.1          93.994          -36.4      4.857       5191.0  no  \n",
       "1           1.1          93.994          -36.4      4.857       5191.0  no  \n",
       "2           1.1          93.994          -36.4      4.857       5191.0  no  \n",
       "3           1.1          93.994          -36.4      4.857       5191.0  no  \n",
       "4           1.1          93.994          -36.4      4.857       5191.0  no  "
      ]
     },
     "execution_count": 2,
     "metadata": {},
     "output_type": "execute_result"
    }
   ],
   "source": [
    "df = pd.read_csv(\"bank-additional/bank-additional-full.csv\", sep =\";\")\n",
    "df.head()"
   ]
  },
  {
   "cell_type": "code",
   "execution_count": 3,
   "metadata": {},
   "outputs": [],
   "source": [
    "map_dict= {\"no\":0, \"yes\":1}\n",
    "df[\"y\"] = df[\"y\"].map(map_dict)"
   ]
  },
  {
   "cell_type": "code",
   "execution_count": 4,
   "metadata": {},
   "outputs": [
    {
     "data": {
      "image/png": "[encoded data removed]",
      "text/plain": [
       "<Figure size 720x360 with 1 Axes>"
      ]
     },
     "metadata": {
      "needs_background": "light"
     },
     "output_type": "display_data"
    }
   ],
   "source": [
    "sns.catplot(x=\"campaign\", y=\"y\", data =df, kind= \"point\", aspect =2);"
   ]
  },
  {
   "cell_type": "code",
   "execution_count": 5,
   "metadata": {},
   "outputs": [
    {
     "data": {
      "text/plain": [
       "36548"
      ]
     },
     "execution_count": 5,
     "metadata": {},
     "output_type": "execute_result"
    }
   ],
   "source": [
    "len(df[df[\"y\"]==0][\"campaign\"].values)"
   ]
  },
  {
   "cell_type": "markdown",
   "metadata": {},
   "source": [
    "### Inefficient campaigns which resulted only in y=0"
   ]
  },
  {
   "cell_type": "code",
   "execution_count": 6,
   "metadata": {},
   "outputs": [
    {
     "name": "stdout",
     "output_type": "stream",
     "text": [
      "Total number of unique campaigns /Number of contacts performed during this campaign and for this client): 42\n",
      "Number of inefficient sets of contacts 25\n"
     ]
    }
   ],
   "source": [
    "gr = df.groupby([\"campaign\", \"y\"])[[\"age\"]].count().reset_index(\"y\")\n",
    "zero_campaigns = set(gr.index) - set(gr[gr[\"y\"]==1].index)\n",
    "print(\"Total number of unique campaigns /Number of contacts performed during this campaign and for this client):\", df[\"campaign\"].nunique())\n",
    "print(\"Number of inefficient sets of contacts\", len(zero_campaigns))"
   ]
  },
  {
   "cell_type": "code",
   "execution_count": 7,
   "metadata": {},
   "outputs": [
    {
     "data": {
      "image/png": "[encoded data removed]",
      "text/plain": [
       "<Figure size 360x360 with 1 Axes>"
      ]
     },
     "metadata": {
      "needs_background": "light"
     },
     "output_type": "display_data"
    }
   ],
   "source": [
    "df2 = df.set_index(\"campaign\").loc[zero_campaigns, :].reset_index()\n",
    "sns.catplot(x=\"campaign\", kind=\"count\", data=df2);"
   ]
  },
  {
   "cell_type": "code",
   "execution_count": 8,
   "metadata": {},
   "outputs": [
    {
     "data": {
      "text/plain": [
       "(30, 21)"
      ]
     },
     "execution_count": 8,
     "metadata": {},
     "output_type": "execute_result"
    }
   ],
   "source": [
    "df[df[\"campaign\"]==20].shape"
   ]
  },
  {
   "cell_type": "code",
   "execution_count": 9,
   "metadata": {},
   "outputs": [
    {
     "data": {
      "image/png": "[encoded data removed]",
      "text/plain": [
       "<Figure size 720x360 with 1 Axes>"
      ]
     },
     "metadata": {
      "needs_background": "light"
     },
     "output_type": "display_data"
    }
   ],
   "source": [
    "sns.catplot(x=\"campaign\", y=\"y\", data =df, kind= \"bar\", aspect=2);"
   ]
  },
  {
   "cell_type": "code",
   "execution_count": 10,
   "metadata": {},
   "outputs": [
    {
     "data": {
      "text/plain": [
       "0    15\n",
       "1     1\n",
       "Name: y, dtype: int64"
      ]
     },
     "execution_count": 10,
     "metadata": {},
     "output_type": "execute_result"
    }
   ],
   "source": [
    "df[df[\"campaign\"]==23][\"y\"].value_counts()"
   ]
  },
  {
   "cell_type": "code",
   "execution_count": 11,
   "metadata": {},
   "outputs": [
    {
     "data": {
      "text/plain": [
       "(0.0625, 0.25)"
      ]
     },
     "execution_count": 11,
     "metadata": {},
     "output_type": "execute_result"
    }
   ],
   "source": [
    "df[df[\"campaign\"]==23][\"y\"].mean(), df[df[\"campaign\"]==23][\"y\"].std()"
   ]
  },
  {
   "cell_type": "code",
   "execution_count": 12,
   "metadata": {},
   "outputs": [
    {
     "data": {
      "text/plain": [
       "Index(['age', 'job', 'marital', 'education', 'default', 'housing', 'loan',\n",
       "       'contact', 'month', 'day_of_week', 'duration', 'campaign', 'pdays',\n",
       "       'previous', 'poutcome', 'emp.var.rate', 'cons.price.idx',\n",
       "       'cons.conf.idx', 'euribor3m', 'nr.employed', 'y', 'campaign_7'],\n",
       "      dtype='object')"
      ]
     },
     "execution_count": 12,
     "metadata": {},
     "output_type": "execute_result"
    }
   ],
   "source": [
    "df[\"campaign_7\"] = np.where(df[\"campaign\"]<=7, 1, 0)\n",
    "df.columns"
   ]
  },
  {
   "cell_type": "code",
   "execution_count": 13,
   "metadata": {},
   "outputs": [],
   "source": [
    "columns_to_show = list(set(df.columns) -set([\"y\", \"campaign_7\", \"campaign\"]))"
   ]
  },
  {
   "cell_type": "code",
   "execution_count": 14,
   "metadata": {},
   "outputs": [
    {
     "data": {
      "text/plain": [
       "age              -0.002869\n",
       "duration          0.064966\n",
       "campaign         -0.755382\n",
       "pdays            -0.036425\n",
       "previous          0.058759\n",
       "emp.var.rate     -0.115566\n",
       "cons.price.idx   -0.095750\n",
       "cons.conf.idx     0.000583\n",
       "euribor3m        -0.105781\n",
       "nr.employed      -0.111337\n",
       "y                 0.048069\n",
       "campaign_7        1.000000\n",
       "Name: campaign_7, dtype: float64"
      ]
     },
     "execution_count": 14,
     "metadata": {},
     "output_type": "execute_result"
    }
   ],
   "source": [
    "df.corr()[\"campaign_7\"]"
   ]
  },
  {
   "cell_type": "code",
   "execution_count": 15,
   "metadata": {},
   "outputs": [
    {
     "data": {
      "text/html": [
       "<div>\n",
       "<style scoped>\n",
       "    .dataframe tbody tr th:only-of-type {\n",
       "        vertical-align: middle;\n",
       "    }\n",
       "\n",
       "    .dataframe tbody tr th {\n",
       "        vertical-align: top;\n",
       "    }\n",
       "\n",
       "    .dataframe thead th {\n",
       "        text-align: right;\n",
       "    }\n",
       "</style>\n",
       "<table border=\"1\" class=\"dataframe\">\n",
       "  <thead>\n",
       "    <tr style=\"text-align: right;\">\n",
       "      <th></th>\n",
       "      <th>age</th>\n",
       "      <th>duration</th>\n",
       "      <th>campaign</th>\n",
       "      <th>pdays</th>\n",
       "      <th>previous</th>\n",
       "      <th>emp.var.rate</th>\n",
       "      <th>cons.price.idx</th>\n",
       "      <th>cons.conf.idx</th>\n",
       "      <th>euribor3m</th>\n",
       "      <th>nr.employed</th>\n",
       "      <th>y</th>\n",
       "      <th>campaign_7</th>\n",
       "    </tr>\n",
       "    <tr>\n",
       "      <th>campaign_7</th>\n",
       "      <th></th>\n",
       "      <th></th>\n",
       "      <th></th>\n",
       "      <th></th>\n",
       "      <th></th>\n",
       "      <th></th>\n",
       "      <th></th>\n",
       "      <th></th>\n",
       "      <th></th>\n",
       "      <th></th>\n",
       "      <th></th>\n",
       "      <th></th>\n",
       "    </tr>\n",
       "  </thead>\n",
       "  <tbody>\n",
       "    <tr>\n",
       "      <th>0</th>\n",
       "      <td>40.164885</td>\n",
       "      <td>178.959482</td>\n",
       "      <td>12.421497</td>\n",
       "      <td>994.537423</td>\n",
       "      <td>0.036016</td>\n",
       "      <td>0.936860</td>\n",
       "      <td>93.836674</td>\n",
       "      <td>-40.515307</td>\n",
       "      <td>4.485324</td>\n",
       "      <td>5204.919021</td>\n",
       "      <td>0.041080</td>\n",
       "      <td>0.0</td>\n",
       "    </tr>\n",
       "    <tr>\n",
       "      <th>1</th>\n",
       "      <td>40.017711</td>\n",
       "      <td>261.861714</td>\n",
       "      <td>2.123290</td>\n",
       "      <td>961.029814</td>\n",
       "      <td>0.179138</td>\n",
       "      <td>0.043336</td>\n",
       "      <td>93.563896</td>\n",
       "      <td>-40.502027</td>\n",
       "      <td>3.582332</td>\n",
       "      <td>5165.327802</td>\n",
       "      <td>0.115881</td>\n",
       "      <td>1.0</td>\n",
       "    </tr>\n",
       "  </tbody>\n",
       "</table>\n",
       "</div>"
      ],
      "text/plain": [
       "                  age    duration   campaign       pdays  previous  \\\n",
       "campaign_7                                                           \n",
       "0           40.164885  178.959482  12.421497  994.537423  0.036016   \n",
       "1           40.017711  261.861714   2.123290  961.029814  0.179138   \n",
       "\n",
       "            emp.var.rate  cons.price.idx  cons.conf.idx  euribor3m  \\\n",
       "campaign_7                                                           \n",
       "0               0.936860       93.836674     -40.515307   4.485324   \n",
       "1               0.043336       93.563896     -40.502027   3.582332   \n",
       "\n",
       "            nr.employed         y  campaign_7  \n",
       "campaign_7                                     \n",
       "0           5204.919021  0.041080         0.0  \n",
       "1           5165.327802  0.115881         1.0  "
      ]
     },
     "execution_count": 15,
     "metadata": {},
     "output_type": "execute_result"
    }
   ],
   "source": [
    "cont_variables = [col for col in df.columns if df[col].dtype!=\"object\"]\n",
    "\n",
    "df.groupby(\"campaign_7\")[cont_variables].mean()"
   ]
  },
  {
   "cell_type": "code",
   "execution_count": 16,
   "metadata": {},
   "outputs": [
    {
     "data": {
      "text/plain": [
       "1    39411\n",
       "0     1777\n",
       "Name: campaign_7, dtype: int64"
      ]
     },
     "execution_count": 16,
     "metadata": {},
     "output_type": "execute_result"
    }
   ],
   "source": [
    "df[\"campaign_7\"].value_counts()"
   ]
  },
  {
   "cell_type": "code",
   "execution_count": 17,
   "metadata": {},
   "outputs": [],
   "source": [
    "# The highest difference can be seen for:\n",
    "col_to_check = [\"duration\", \"previous\", \"emp.var.rate\", \"euribor3m\"]"
   ]
  },
  {
   "cell_type": "code",
   "execution_count": 18,
   "metadata": {},
   "outputs": [
    {
     "data": {
      "image/png": "[encoded data removed]",
      "text/plain": [
       "<Figure size 432x288 with 1 Axes>"
      ]
     },
     "metadata": {
      "needs_background": "light"
     },
     "output_type": "display_data"
    },
    {
     "data": {
      "image/png": "[encoded data removed]",
      "text/plain": [
       "<Figure size 432x288 with 1 Axes>"
      ]
     },
     "metadata": {
      "needs_background": "light"
     },
     "output_type": "display_data"
    },
    {
     "data": {
      "image/png": "[encoded data removed]",
      "text/plain": [
       "<Figure size 432x288 with 1 Axes>"
      ]
     },
     "metadata": {
      "needs_background": "light"
     },
     "output_type": "display_data"
    },
    {
     "data": {
      "image/png": "[encoded data removed]",
      "text/plain": [
       "<Figure size 432x288 with 1 Axes>"
      ]
     },
     "metadata": {
      "needs_background": "light"
     },
     "output_type": "display_data"
    }
   ],
   "source": [
    "y_line = np.array([7]*df.shape[0])\n",
    "for i, col in enumerate(col_to_check):\n",
    "    plt.figure(i)\n",
    "    sns.scatterplot(x=col, y=\"campaign\", data= df)\n",
    "    plt.plot(df[col], y_line, color = \"r\")"
   ]
  },
  {
   "cell_type": "code",
   "execution_count": 19,
   "metadata": {},
   "outputs": [
    {
     "data": {
      "text/plain": [
       "duration\n",
       "False    0.111895\n",
       "True     0.633333\n",
       "Name: y, dtype: float64"
      ]
     },
     "execution_count": 19,
     "metadata": {},
     "output_type": "execute_result"
    }
   ],
   "source": [
    "df.groupby([df[\"duration\"]>2000])[\"y\"].mean()"
   ]
  },
  {
   "cell_type": "code",
   "execution_count": 20,
   "metadata": {},
   "outputs": [
    {
     "data": {
      "text/plain": [
       "1    38\n",
       "0    22\n",
       "Name: y, dtype: int64"
      ]
     },
     "execution_count": 20,
     "metadata": {},
     "output_type": "execute_result"
    }
   ],
   "source": [
    "df[df[\"duration\"]>2000][\"y\"].value_counts()"
   ]
  },
  {
   "cell_type": "code",
   "execution_count": 21,
   "metadata": {},
   "outputs": [
    {
     "data": {
      "text/plain": [
       "1    37\n",
       "0    22\n",
       "Name: y, dtype: int64"
      ]
     },
     "execution_count": 21,
     "metadata": {},
     "output_type": "execute_result"
    }
   ],
   "source": [
    "df[(df[\"duration\"]>2000)&(df[\"campaign_7\"]==1)][\"y\"].value_counts()"
   ]
  },
  {
   "cell_type": "code",
   "execution_count": 22,
   "metadata": {},
   "outputs": [
    {
     "data": {
      "image/png": "[encoded data removed]",
      "text/plain": [
       "<Figure size 360x360 with 1 Axes>"
      ]
     },
     "metadata": {
      "needs_background": "light"
     },
     "output_type": "display_data"
    }
   ],
   "source": [
    "df2 = df.set_index(\"campaign\").loc[zero_campaigns, :].reset_index()\n",
    "sns.catplot(x=\"campaign\", kind=\"count\", data=df2);"
   ]
  },
  {
   "cell_type": "code",
   "execution_count": 23,
   "metadata": {},
   "outputs": [
    {
     "data": {
      "image/png": "[encoded data removed]",
      "text/plain": [
       "<Figure size 432x288 with 1 Axes>"
      ]
     },
     "metadata": {
      "needs_background": "light"
     },
     "output_type": "display_data"
    }
   ],
   "source": [
    "sns.scatterplot(y=\"pdays\", x=\"campaign\", data = df);"
   ]
  },
  {
   "cell_type": "code",
   "execution_count": 24,
   "metadata": {},
   "outputs": [
    {
     "data": {
      "image/png": "[encoded data removed]",
      "text/plain": [
       "<Figure size 432x288 with 1 Axes>"
      ]
     },
     "metadata": {
      "needs_background": "light"
     },
     "output_type": "display_data"
    }
   ],
   "source": [
    "sns.scatterplot(y=\"previous\", x=\"campaign\", data = df);"
   ]
  },
  {
   "cell_type": "code",
   "execution_count": 25,
   "metadata": {},
   "outputs": [
    {
     "data": {
      "text/plain": [
       "age              -0.035347\n",
       "duration         -0.046574\n",
       "campaign          0.047824\n",
       "pdays             1.000000\n",
       "previous         -0.587798\n",
       "emp.var.rate      0.270275\n",
       "cons.price.idx    0.075916\n",
       "cons.conf.idx    -0.092688\n",
       "euribor3m         0.296914\n",
       "nr.employed       0.373349\n",
       "y                -0.327575\n",
       "campaign_7             NaN\n",
       "Name: pdays, dtype: float64"
      ]
     },
     "execution_count": 25,
     "metadata": {},
     "output_type": "execute_result"
    }
   ],
   "source": [
    "df[df[\"campaign\"]<=7][cont_variables].corr()[\"pdays\"]\n",
    "# corr.style.background_gradient(cmap='coolwarm').set_precision(2)"
   ]
  },
  {
   "cell_type": "markdown",
   "metadata": {},
   "source": [
    "## ML for finding an answer"
   ]
  },
  {
   "cell_type": "code",
   "execution_count": 26,
   "metadata": {},
   "outputs": [
    {
     "name": "stdout",
     "output_type": "stream",
     "text": [
      "Column: job, Number of unique values: 12\n",
      "Column: marital, Number of unique values: 4\n",
      "Column: education, Number of unique values: 8\n",
      "Column: default, Number of unique values: 3\n",
      "Column: housing, Number of unique values: 3\n",
      "Column: loan, Number of unique values: 3\n",
      "Column: contact, Number of unique values: 2\n",
      "job 330\n",
      "marital 80\n",
      "education 1731\n",
      "default 8597\n",
      "housing 990\n",
      "loan 990\n",
      "contact 0\n"
     ]
    }
   ],
   "source": [
    "# filling the missing values\n",
    "\n",
    "text_cat_columns = ['job', 'marital', 'education', 'default', 'housing', 'loan', 'contact']\n",
    "cat_values_dict = {}\n",
    "for col in text_cat_columns:\n",
    "    print(\"Column: %s, Number of unique values: %d\"% (col, df[col].nunique()))\n",
    "    cat_values_dict[col] = list(set(df[col].unique())-set([\"unknown\"]))\n",
    "\n",
    "for col in text_cat_columns:\n",
    "    n_missing = df[df[col]==\"unknown\"].shape[0]\n",
    "    missing_index = df[df[col]==\"unknown\"].index\n",
    "    print(col, n_missing)\n",
    "    fill_vallues = cat_values_dict[col]*n_missing\n",
    "    random.shuffle(fill_vallues)\n",
    "    df.loc[missing_index, col]= fill_vallues[:n_missing]"
   ]
  },
  {
   "cell_type": "code",
   "execution_count": 27,
   "metadata": {},
   "outputs": [
    {
     "data": {
      "text/plain": [
       "Index(['age', 'job', 'marital', 'education', 'default', 'housing', 'loan',\n",
       "       'contact', 'month', 'day_of_week', 'duration', 'campaign', 'pdays',\n",
       "       'previous', 'poutcome', 'emp.var.rate', 'cons.price.idx',\n",
       "       'cons.conf.idx', 'euribor3m', 'nr.employed', 'y', 'campaign_7'],\n",
       "      dtype='object')"
      ]
     },
     "execution_count": 27,
     "metadata": {},
     "output_type": "execute_result"
    }
   ],
   "source": [
    "df.columns"
   ]
  },
  {
   "cell_type": "code",
   "execution_count": 28,
   "metadata": {},
   "outputs": [],
   "source": [
    "df2 = df.drop([\"campaign\", \"y\"], axis=1).copy()"
   ]
  },
  {
   "cell_type": "code",
   "execution_count": 29,
   "metadata": {},
   "outputs": [
    {
     "data": {
      "text/plain": [
       "Index(['age', 'job', 'marital', 'education', 'default', 'housing', 'loan',\n",
       "       'contact', 'month', 'day_of_week', 'duration', 'pdays', 'previous',\n",
       "       'poutcome', 'emp.var.rate', 'cons.price.idx', 'cons.conf.idx',\n",
       "       'euribor3m', 'nr.employed', 'campaign_7'],\n",
       "      dtype='object')"
      ]
     },
     "execution_count": 29,
     "metadata": {},
     "output_type": "execute_result"
    }
   ],
   "source": [
    "df2.columns"
   ]
  },
  {
   "cell_type": "code",
   "execution_count": 30,
   "metadata": {},
   "outputs": [],
   "source": [
    "from sklearn.ensemble import RandomForestClassifier, GradientBoostingClassifier\n",
    "from sklearn.model_selection import GridSearchCV\n",
    "from sklearn.model_selection import train_test_split\n",
    "import time\n",
    "from sklearn.preprocessing import StandardScaler\n",
    "from sklearn.model_selection import StratifiedShuffleSplit"
   ]
  },
  {
   "cell_type": "code",
   "execution_count": 31,
   "metadata": {},
   "outputs": [
    {
     "data": {
      "text/plain": [
       "1    39411\n",
       "0     1777\n",
       "Name: campaign_7, dtype: int64"
      ]
     },
     "execution_count": 31,
     "metadata": {},
     "output_type": "execute_result"
    }
   ],
   "source": [
    "df2[\"campaign_7\"].value_counts()"
   ]
  },
  {
   "cell_type": "code",
   "execution_count": 32,
   "metadata": {},
   "outputs": [],
   "source": [
    "df2 =pd.get_dummies(df2)\n",
    "X = df2.drop(\"campaign_7\", axis=1)\n",
    "y = df2[\"campaign_7\"]"
   ]
  },
  {
   "cell_type": "code",
   "execution_count": 33,
   "metadata": {},
   "outputs": [
    {
     "data": {
      "text/plain": [
       "((32950, 56), (8238, 56))"
      ]
     },
     "execution_count": 33,
     "metadata": {},
     "output_type": "execute_result"
    }
   ],
   "source": [
    "# stratified spliting\n",
    "X_train, X_test, y_train, y_test = train_test_split(X, y, train_size =0.8, stratify =y, random_state =123)\n",
    "X_train.shape, X_test.shape"
   ]
  },
  {
   "cell_type": "code",
   "execution_count": 34,
   "metadata": {},
   "outputs": [],
   "source": [
    "# scaling\n",
    "scaler = StandardScaler()\n",
    "X_train = scaler.fit_transform(X_train)\n",
    "X_test = scaler.transform(X_test)\n",
    "\n",
    "splits = StratifiedShuffleSplit(n_splits=5, test_size=0.5, random_state=123)"
   ]
  },
  {
   "cell_type": "code",
   "execution_count": 35,
   "metadata": {},
   "outputs": [],
   "source": [
    "def results(my_cv_results):\n",
    "    print(\"Best Parameters: {}\\n\".format(my_cv_results.best_params_))\n",
    "    means = my_cv_results.cv_results_[\"mean_test_score\"]\n",
    "    stds = my_cv_results.cv_results_[\"std_test_score\"]\n",
    "    for mean, std, params in zip(means, stds, my_cv_results.cv_results_[\"params\"]):\n",
    "        print(\"{} +/- {} for {}\".format(round(mean, 3), round(std*2, 3), params))"
   ]
  },
  {
   "cell_type": "code",
   "execution_count": 36,
   "metadata": {},
   "outputs": [
    {
     "name": "stdout",
     "output_type": "stream",
     "text": [
      "Best Parameters: {'max_depth': 16, 'n_estimators': 50}\n",
      "\n",
      "0.957 +/- 0.0 for {'max_depth': 2, 'n_estimators': 5}\n",
      "0.957 +/- 0.0 for {'max_depth': 2, 'n_estimators': 50}\n",
      "0.957 +/- 0.0 for {'max_depth': 2, 'n_estimators': 250}\n",
      "0.957 +/- 0.0 for {'max_depth': 4, 'n_estimators': 5}\n",
      "0.957 +/- 0.0 for {'max_depth': 4, 'n_estimators': 50}\n",
      "0.957 +/- 0.0 for {'max_depth': 4, 'n_estimators': 250}\n",
      "0.958 +/- 0.001 for {'max_depth': 8, 'n_estimators': 5}\n",
      "0.958 +/- 0.0 for {'max_depth': 8, 'n_estimators': 50}\n",
      "0.958 +/- 0.001 for {'max_depth': 8, 'n_estimators': 250}\n",
      "0.955 +/- 0.001 for {'max_depth': 16, 'n_estimators': 5}\n",
      "0.958 +/- 0.001 for {'max_depth': 16, 'n_estimators': 50}\n",
      "0.958 +/- 0.001 for {'max_depth': 16, 'n_estimators': 250}\n",
      "0.952 +/- 0.001 for {'max_depth': None, 'n_estimators': 5}\n",
      "0.957 +/- 0.001 for {'max_depth': None, 'n_estimators': 50}\n",
      "0.957 +/- 0.001 for {'max_depth': None, 'n_estimators': 250}\n",
      "CPU times: user 2min 40s, sys: 5.64 s, total: 2min 46s\n",
      "Wall time: 3min 49s\n"
     ]
    }
   ],
   "source": [
    "%%time\n",
    "rf = RandomForestClassifier()\n",
    "parameters = {\"n_estimators\" : [5, 50, 250],\n",
    "             \"max_depth\": [2,4,8,16, None]}\n",
    "\n",
    "cv = GridSearchCV(rf, parameters, cv=splits) #by defult refit =True, so the best model is automatically retrained on the whole data\n",
    "cv.fit(X_train, y_train)\n",
    "\n",
    "results(cv)\n",
    "rf_best = cv.best_estimator_"
   ]
  },
  {
   "cell_type": "code",
   "execution_count": 37,
   "metadata": {},
   "outputs": [
    {
     "name": "stdout",
     "output_type": "stream",
     "text": [
      "Best Parameters: {'learning_rate': 0.1, 'max_depth': 3, 'n_estimators': 50}\n",
      "\n",
      "0.957 +/- 0.0 for {'learning_rate': 0.01, 'max_depth': 1, 'n_estimators': 5}\n",
      "0.957 +/- 0.0 for {'learning_rate': 0.01, 'max_depth': 1, 'n_estimators': 50}\n",
      "0.957 +/- 0.0 for {'learning_rate': 0.01, 'max_depth': 1, 'n_estimators': 250}\n",
      "0.957 +/- 0.0 for {'learning_rate': 0.01, 'max_depth': 3, 'n_estimators': 5}\n",
      "0.957 +/- 0.0 for {'learning_rate': 0.01, 'max_depth': 3, 'n_estimators': 50}\n",
      "0.958 +/- 0.001 for {'learning_rate': 0.01, 'max_depth': 3, 'n_estimators': 250}\n",
      "0.957 +/- 0.0 for {'learning_rate': 0.01, 'max_depth': 5, 'n_estimators': 5}\n",
      "0.957 +/- 0.0 for {'learning_rate': 0.01, 'max_depth': 5, 'n_estimators': 50}\n",
      "0.958 +/- 0.001 for {'learning_rate': 0.01, 'max_depth': 5, 'n_estimators': 250}\n",
      "0.957 +/- 0.0 for {'learning_rate': 0.01, 'max_depth': 7, 'n_estimators': 5}\n",
      "0.957 +/- 0.0 for {'learning_rate': 0.01, 'max_depth': 7, 'n_estimators': 50}\n",
      "0.958 +/- 0.002 for {'learning_rate': 0.01, 'max_depth': 7, 'n_estimators': 250}\n",
      "0.957 +/- 0.0 for {'learning_rate': 0.1, 'max_depth': 1, 'n_estimators': 5}\n",
      "0.957 +/- 0.0 for {'learning_rate': 0.1, 'max_depth': 1, 'n_estimators': 50}\n",
      "0.957 +/- 0.001 for {'learning_rate': 0.1, 'max_depth': 1, 'n_estimators': 250}\n",
      "0.957 +/- 0.0 for {'learning_rate': 0.1, 'max_depth': 3, 'n_estimators': 5}\n",
      "0.958 +/- 0.001 for {'learning_rate': 0.1, 'max_depth': 3, 'n_estimators': 50}\n",
      "0.958 +/- 0.001 for {'learning_rate': 0.1, 'max_depth': 3, 'n_estimators': 250}\n",
      "0.957 +/- 0.0 for {'learning_rate': 0.1, 'max_depth': 5, 'n_estimators': 5}\n",
      "0.958 +/- 0.001 for {'learning_rate': 0.1, 'max_depth': 5, 'n_estimators': 50}\n",
      "0.955 +/- 0.001 for {'learning_rate': 0.1, 'max_depth': 5, 'n_estimators': 250}\n",
      "0.957 +/- 0.001 for {'learning_rate': 0.1, 'max_depth': 7, 'n_estimators': 5}\n",
      "0.956 +/- 0.001 for {'learning_rate': 0.1, 'max_depth': 7, 'n_estimators': 50}\n",
      "0.955 +/- 0.002 for {'learning_rate': 0.1, 'max_depth': 7, 'n_estimators': 250}\n",
      "0.943 +/- 0.014 for {'learning_rate': 1, 'max_depth': 1, 'n_estimators': 5}\n",
      "0.943 +/- 0.014 for {'learning_rate': 1, 'max_depth': 1, 'n_estimators': 50}\n",
      "0.943 +/- 0.014 for {'learning_rate': 1, 'max_depth': 1, 'n_estimators': 250}\n",
      "0.956 +/- 0.002 for {'learning_rate': 1, 'max_depth': 3, 'n_estimators': 5}\n",
      "0.953 +/- 0.007 for {'learning_rate': 1, 'max_depth': 3, 'n_estimators': 50}\n",
      "0.951 +/- 0.007 for {'learning_rate': 1, 'max_depth': 3, 'n_estimators': 250}\n",
      "0.953 +/- 0.002 for {'learning_rate': 1, 'max_depth': 5, 'n_estimators': 5}\n",
      "0.944 +/- 0.005 for {'learning_rate': 1, 'max_depth': 5, 'n_estimators': 50}\n",
      "0.939 +/- 0.013 for {'learning_rate': 1, 'max_depth': 5, 'n_estimators': 250}\n",
      "0.945 +/- 0.007 for {'learning_rate': 1, 'max_depth': 7, 'n_estimators': 5}\n",
      "0.931 +/- 0.011 for {'learning_rate': 1, 'max_depth': 7, 'n_estimators': 50}\n",
      "0.92 +/- 0.016 for {'learning_rate': 1, 'max_depth': 7, 'n_estimators': 250}\n",
      "0.957 +/- 0.0 for {'learning_rate': 10, 'max_depth': 1, 'n_estimators': 5}\n",
      "0.957 +/- 0.0 for {'learning_rate': 10, 'max_depth': 1, 'n_estimators': 50}\n",
      "0.957 +/- 0.0 for {'learning_rate': 10, 'max_depth': 1, 'n_estimators': 250}\n",
      "0.318 +/- 0.4 for {'learning_rate': 10, 'max_depth': 3, 'n_estimators': 5}\n",
      "0.318 +/- 0.4 for {'learning_rate': 10, 'max_depth': 3, 'n_estimators': 50}\n",
      "0.318 +/- 0.4 for {'learning_rate': 10, 'max_depth': 3, 'n_estimators': 250}\n",
      "0.388 +/- 0.402 for {'learning_rate': 10, 'max_depth': 5, 'n_estimators': 5}\n",
      "0.388 +/- 0.402 for {'learning_rate': 10, 'max_depth': 5, 'n_estimators': 50}\n",
      "0.388 +/- 0.402 for {'learning_rate': 10, 'max_depth': 5, 'n_estimators': 250}\n",
      "0.415 +/- 0.292 for {'learning_rate': 10, 'max_depth': 7, 'n_estimators': 5}\n",
      "0.413 +/- 0.295 for {'learning_rate': 10, 'max_depth': 7, 'n_estimators': 50}\n",
      "0.413 +/- 0.289 for {'learning_rate': 10, 'max_depth': 7, 'n_estimators': 250}\n",
      "CPU times: user 57min 13s, sys: 43.7 s, total: 57min 57s\n",
      "Wall time: 1h 11min 4s\n"
     ]
    }
   ],
   "source": [
    "%%time\n",
    "gb = GradientBoostingClassifier()\n",
    "parameters = {\"n_estimators\" : [5, 50, 250],\n",
    "             \"max_depth\": [1, 3, 5, 7],\n",
    "             \"learning_rate\": [0.01, 0.1, 1, 10]}\n",
    "\n",
    "cv = GridSearchCV(gb, parameters, cv=splits)\n",
    "cv.fit(X_train, y_train)\n",
    "\n",
    "results(cv)\n",
    "gb_best = cv.best_estimator_"
   ]
  },
  {
   "cell_type": "code",
   "execution_count": 38,
   "metadata": {},
   "outputs": [],
   "source": [
    "from sklearn.metrics import precision_score, recall_score, f1_score"
   ]
  },
  {
   "cell_type": "code",
   "execution_count": 39,
   "metadata": {},
   "outputs": [
    {
     "data": {
      "text/html": [
       "<div>\n",
       "<style scoped>\n",
       "    .dataframe tbody tr th:only-of-type {\n",
       "        vertical-align: middle;\n",
       "    }\n",
       "\n",
       "    .dataframe tbody tr th {\n",
       "        vertical-align: top;\n",
       "    }\n",
       "\n",
       "    .dataframe thead th {\n",
       "        text-align: right;\n",
       "    }\n",
       "</style>\n",
       "<table border=\"1\" class=\"dataframe\">\n",
       "  <thead>\n",
       "    <tr style=\"text-align: right;\">\n",
       "      <th></th>\n",
       "      <th>precision</th>\n",
       "      <th>recall</th>\n",
       "      <th>f1_score</th>\n",
       "    </tr>\n",
       "  </thead>\n",
       "  <tbody>\n",
       "    <tr>\n",
       "      <th>RF</th>\n",
       "      <td>0.80563</td>\n",
       "      <td>0.538485</td>\n",
       "      <td>0.559716</td>\n",
       "    </tr>\n",
       "    <tr>\n",
       "      <th>GB</th>\n",
       "      <td>0.810641</td>\n",
       "      <td>0.548154</td>\n",
       "      <td>0.575267</td>\n",
       "    </tr>\n",
       "  </tbody>\n",
       "</table>\n",
       "</div>"
      ],
      "text/plain": [
       "   precision    recall  f1_score\n",
       "RF   0.80563  0.538485  0.559716\n",
       "GB  0.810641  0.548154  0.575267"
      ]
     },
     "execution_count": 39,
     "metadata": {},
     "output_type": "execute_result"
    }
   ],
   "source": [
    "model_names = [\"RF\", \"GB\"]\n",
    "results_df = pd.DataFrame(index= model_names, columns = [\"precision\", \"recall\", \"f1_score\"])\n",
    "models = [rf_best, gb_best]\n",
    "\n",
    "for i, model in enumerate(models):\n",
    "    y_pred = models[i].predict(X_test)\n",
    "    results_df.loc[model_names[i], \"precision\"] = precision_score(y_test, y_pred, average = \"macro\")\n",
    "    results_df.loc[model_names[i], \"recall\"] = recall_score(y_test, y_pred, average = \"macro\")\n",
    "    results_df.loc[model_names[i], \"f1_score\"] = f1_score(y_test, y_pred, average = \"macro\")\n",
    "results_df"
   ]
  },
  {
   "cell_type": "code",
   "execution_count": 40,
   "metadata": {},
   "outputs": [
    {
     "data": {
      "text/html": [
       "<div>\n",
       "<style scoped>\n",
       "    .dataframe tbody tr th:only-of-type {\n",
       "        vertical-align: middle;\n",
       "    }\n",
       "\n",
       "    .dataframe tbody tr th {\n",
       "        vertical-align: top;\n",
       "    }\n",
       "\n",
       "    .dataframe thead th {\n",
       "        text-align: right;\n",
       "    }\n",
       "</style>\n",
       "<table border=\"1\" class=\"dataframe\">\n",
       "  <thead>\n",
       "    <tr style=\"text-align: right;\">\n",
       "      <th></th>\n",
       "      <th>importance_RF</th>\n",
       "      <th>importance_GB</th>\n",
       "    </tr>\n",
       "  </thead>\n",
       "  <tbody>\n",
       "    <tr>\n",
       "      <th>age</th>\n",
       "      <td>0.124090</td>\n",
       "      <td>0.012916</td>\n",
       "    </tr>\n",
       "    <tr>\n",
       "      <th>duration</th>\n",
       "      <td>0.307571</td>\n",
       "      <td>0.559268</td>\n",
       "    </tr>\n",
       "    <tr>\n",
       "      <th>emp.var.rate</th>\n",
       "      <td>0.008669</td>\n",
       "      <td>0.003404</td>\n",
       "    </tr>\n",
       "    <tr>\n",
       "      <th>cons.price.idx</th>\n",
       "      <td>0.014092</td>\n",
       "      <td>0.011469</td>\n",
       "    </tr>\n",
       "    <tr>\n",
       "      <th>cons.conf.idx</th>\n",
       "      <td>0.009878</td>\n",
       "      <td>0.015280</td>\n",
       "    </tr>\n",
       "    <tr>\n",
       "      <th>euribor3m</th>\n",
       "      <td>0.084223</td>\n",
       "      <td>0.276710</td>\n",
       "    </tr>\n",
       "    <tr>\n",
       "      <th>nr.employed</th>\n",
       "      <td>0.011689</td>\n",
       "      <td>0.004507</td>\n",
       "    </tr>\n",
       "    <tr>\n",
       "      <th>job_admin.</th>\n",
       "      <td>0.015157</td>\n",
       "      <td>0.001006</td>\n",
       "    </tr>\n",
       "    <tr>\n",
       "      <th>job_blue-collar</th>\n",
       "      <td>0.014042</td>\n",
       "      <td>0.000146</td>\n",
       "    </tr>\n",
       "    <tr>\n",
       "      <th>job_housemaid</th>\n",
       "      <td>0.005542</td>\n",
       "      <td>0.001337</td>\n",
       "    </tr>\n",
       "    <tr>\n",
       "      <th>job_management</th>\n",
       "      <td>0.009168</td>\n",
       "      <td>0.001152</td>\n",
       "    </tr>\n",
       "    <tr>\n",
       "      <th>job_retired</th>\n",
       "      <td>0.006069</td>\n",
       "      <td>0.000341</td>\n",
       "    </tr>\n",
       "    <tr>\n",
       "      <th>job_unemployed</th>\n",
       "      <td>0.008624</td>\n",
       "      <td>0.000567</td>\n",
       "    </tr>\n",
       "    <tr>\n",
       "      <th>marital_divorced</th>\n",
       "      <td>0.013109</td>\n",
       "      <td>0.000728</td>\n",
       "    </tr>\n",
       "    <tr>\n",
       "      <th>education_basic.6y</th>\n",
       "      <td>0.010045</td>\n",
       "      <td>0.000944</td>\n",
       "    </tr>\n",
       "    <tr>\n",
       "      <th>education_basic.9y</th>\n",
       "      <td>0.012174</td>\n",
       "      <td>0.001302</td>\n",
       "    </tr>\n",
       "    <tr>\n",
       "      <th>education_high.school</th>\n",
       "      <td>0.016622</td>\n",
       "      <td>0.000169</td>\n",
       "    </tr>\n",
       "    <tr>\n",
       "      <th>education_university.degree</th>\n",
       "      <td>0.017163</td>\n",
       "      <td>0.001654</td>\n",
       "    </tr>\n",
       "    <tr>\n",
       "      <th>default_no</th>\n",
       "      <td>0.011633</td>\n",
       "      <td>0.002069</td>\n",
       "    </tr>\n",
       "    <tr>\n",
       "      <th>default_yes</th>\n",
       "      <td>0.011377</td>\n",
       "      <td>0.000804</td>\n",
       "    </tr>\n",
       "    <tr>\n",
       "      <th>contact_cellular</th>\n",
       "      <td>0.008915</td>\n",
       "      <td>0.024399</td>\n",
       "    </tr>\n",
       "    <tr>\n",
       "      <th>contact_telephone</th>\n",
       "      <td>0.010416</td>\n",
       "      <td>0.024662</td>\n",
       "    </tr>\n",
       "    <tr>\n",
       "      <th>month_apr</th>\n",
       "      <td>0.001732</td>\n",
       "      <td>0.001234</td>\n",
       "    </tr>\n",
       "    <tr>\n",
       "      <th>month_aug</th>\n",
       "      <td>0.004773</td>\n",
       "      <td>0.005654</td>\n",
       "    </tr>\n",
       "    <tr>\n",
       "      <th>month_jul</th>\n",
       "      <td>0.005408</td>\n",
       "      <td>0.019580</td>\n",
       "    </tr>\n",
       "    <tr>\n",
       "      <th>month_jun</th>\n",
       "      <td>0.002733</td>\n",
       "      <td>0.000502</td>\n",
       "    </tr>\n",
       "    <tr>\n",
       "      <th>month_mar</th>\n",
       "      <td>0.000398</td>\n",
       "      <td>0.000232</td>\n",
       "    </tr>\n",
       "    <tr>\n",
       "      <th>month_may</th>\n",
       "      <td>0.003269</td>\n",
       "      <td>0.010066</td>\n",
       "    </tr>\n",
       "    <tr>\n",
       "      <th>day_of_week_fri</th>\n",
       "      <td>0.014988</td>\n",
       "      <td>0.015201</td>\n",
       "    </tr>\n",
       "    <tr>\n",
       "      <th>day_of_week_mon</th>\n",
       "      <td>0.013393</td>\n",
       "      <td>0.001525</td>\n",
       "    </tr>\n",
       "    <tr>\n",
       "      <th>day_of_week_wed</th>\n",
       "      <td>0.014642</td>\n",
       "      <td>0.001172</td>\n",
       "    </tr>\n",
       "  </tbody>\n",
       "</table>\n",
       "</div>"
      ],
      "text/plain": [
       "                             importance_RF  importance_GB\n",
       "age                               0.124090       0.012916\n",
       "duration                          0.307571       0.559268\n",
       "emp.var.rate                      0.008669       0.003404\n",
       "cons.price.idx                    0.014092       0.011469\n",
       "cons.conf.idx                     0.009878       0.015280\n",
       "euribor3m                         0.084223       0.276710\n",
       "nr.employed                       0.011689       0.004507\n",
       "job_admin.                        0.015157       0.001006\n",
       "job_blue-collar                   0.014042       0.000146\n",
       "job_housemaid                     0.005542       0.001337\n",
       "job_management                    0.009168       0.001152\n",
       "job_retired                       0.006069       0.000341\n",
       "job_unemployed                    0.008624       0.000567\n",
       "marital_divorced                  0.013109       0.000728\n",
       "education_basic.6y                0.010045       0.000944\n",
       "education_basic.9y                0.012174       0.001302\n",
       "education_high.school             0.016622       0.000169\n",
       "education_university.degree       0.017163       0.001654\n",
       "default_no                        0.011633       0.002069\n",
       "default_yes                       0.011377       0.000804\n",
       "contact_cellular                  0.008915       0.024399\n",
       "contact_telephone                 0.010416       0.024662\n",
       "month_apr                         0.001732       0.001234\n",
       "month_aug                         0.004773       0.005654\n",
       "month_jul                         0.005408       0.019580\n",
       "month_jun                         0.002733       0.000502\n",
       "month_mar                         0.000398       0.000232\n",
       "month_may                         0.003269       0.010066\n",
       "day_of_week_fri                   0.014988       0.015201\n",
       "day_of_week_mon                   0.013393       0.001525\n",
       "day_of_week_wed                   0.014642       0.001172"
      ]
     },
     "execution_count": 40,
     "metadata": {},
     "output_type": "execute_result"
    }
   ],
   "source": [
    "feature_importances = pd.DataFrame(rf_best.feature_importances_, \n",
    "                                   index = df2.drop('campaign_7',axis=1).columns, \n",
    "                                   columns=['importance_RF'])\n",
    "\n",
    "feature_importances[\"importance_GB\"] = gb_best.feature_importances_\n",
    "feature_importances[feature_importances[\"importance_GB\"]!=0]"
   ]
  },
  {
   "cell_type": "code",
   "execution_count": 41,
   "metadata": {},
   "outputs": [
    {
     "data": {
      "text/html": [
       "<div>\n",
       "<style scoped>\n",
       "    .dataframe tbody tr th:only-of-type {\n",
       "        vertical-align: middle;\n",
       "    }\n",
       "\n",
       "    .dataframe tbody tr th {\n",
       "        vertical-align: top;\n",
       "    }\n",
       "\n",
       "    .dataframe thead th {\n",
       "        text-align: right;\n",
       "    }\n",
       "</style>\n",
       "<table border=\"1\" class=\"dataframe\">\n",
       "  <thead>\n",
       "    <tr style=\"text-align: right;\">\n",
       "      <th></th>\n",
       "      <th>importance_RF</th>\n",
       "      <th>importance_GB</th>\n",
       "    </tr>\n",
       "  </thead>\n",
       "  <tbody>\n",
       "    <tr>\n",
       "      <th>duration</th>\n",
       "      <td>0.307571</td>\n",
       "      <td>0.559268</td>\n",
       "    </tr>\n",
       "    <tr>\n",
       "      <th>euribor3m</th>\n",
       "      <td>0.084223</td>\n",
       "      <td>0.276710</td>\n",
       "    </tr>\n",
       "    <tr>\n",
       "      <th>contact_telephone</th>\n",
       "      <td>0.010416</td>\n",
       "      <td>0.024662</td>\n",
       "    </tr>\n",
       "    <tr>\n",
       "      <th>contact_cellular</th>\n",
       "      <td>0.008915</td>\n",
       "      <td>0.024399</td>\n",
       "    </tr>\n",
       "    <tr>\n",
       "      <th>month_jul</th>\n",
       "      <td>0.005408</td>\n",
       "      <td>0.019580</td>\n",
       "    </tr>\n",
       "    <tr>\n",
       "      <th>cons.conf.idx</th>\n",
       "      <td>0.009878</td>\n",
       "      <td>0.015280</td>\n",
       "    </tr>\n",
       "    <tr>\n",
       "      <th>day_of_week_fri</th>\n",
       "      <td>0.014988</td>\n",
       "      <td>0.015201</td>\n",
       "    </tr>\n",
       "    <tr>\n",
       "      <th>age</th>\n",
       "      <td>0.124090</td>\n",
       "      <td>0.012916</td>\n",
       "    </tr>\n",
       "    <tr>\n",
       "      <th>cons.price.idx</th>\n",
       "      <td>0.014092</td>\n",
       "      <td>0.011469</td>\n",
       "    </tr>\n",
       "    <tr>\n",
       "      <th>month_may</th>\n",
       "      <td>0.003269</td>\n",
       "      <td>0.010066</td>\n",
       "    </tr>\n",
       "    <tr>\n",
       "      <th>month_aug</th>\n",
       "      <td>0.004773</td>\n",
       "      <td>0.005654</td>\n",
       "    </tr>\n",
       "    <tr>\n",
       "      <th>nr.employed</th>\n",
       "      <td>0.011689</td>\n",
       "      <td>0.004507</td>\n",
       "    </tr>\n",
       "    <tr>\n",
       "      <th>emp.var.rate</th>\n",
       "      <td>0.008669</td>\n",
       "      <td>0.003404</td>\n",
       "    </tr>\n",
       "    <tr>\n",
       "      <th>default_no</th>\n",
       "      <td>0.011633</td>\n",
       "      <td>0.002069</td>\n",
       "    </tr>\n",
       "    <tr>\n",
       "      <th>education_university.degree</th>\n",
       "      <td>0.017163</td>\n",
       "      <td>0.001654</td>\n",
       "    </tr>\n",
       "    <tr>\n",
       "      <th>day_of_week_mon</th>\n",
       "      <td>0.013393</td>\n",
       "      <td>0.001525</td>\n",
       "    </tr>\n",
       "    <tr>\n",
       "      <th>job_housemaid</th>\n",
       "      <td>0.005542</td>\n",
       "      <td>0.001337</td>\n",
       "    </tr>\n",
       "    <tr>\n",
       "      <th>education_basic.9y</th>\n",
       "      <td>0.012174</td>\n",
       "      <td>0.001302</td>\n",
       "    </tr>\n",
       "    <tr>\n",
       "      <th>month_apr</th>\n",
       "      <td>0.001732</td>\n",
       "      <td>0.001234</td>\n",
       "    </tr>\n",
       "    <tr>\n",
       "      <th>day_of_week_wed</th>\n",
       "      <td>0.014642</td>\n",
       "      <td>0.001172</td>\n",
       "    </tr>\n",
       "    <tr>\n",
       "      <th>job_management</th>\n",
       "      <td>0.009168</td>\n",
       "      <td>0.001152</td>\n",
       "    </tr>\n",
       "    <tr>\n",
       "      <th>job_admin.</th>\n",
       "      <td>0.015157</td>\n",
       "      <td>0.001006</td>\n",
       "    </tr>\n",
       "    <tr>\n",
       "      <th>education_basic.6y</th>\n",
       "      <td>0.010045</td>\n",
       "      <td>0.000944</td>\n",
       "    </tr>\n",
       "    <tr>\n",
       "      <th>default_yes</th>\n",
       "      <td>0.011377</td>\n",
       "      <td>0.000804</td>\n",
       "    </tr>\n",
       "    <tr>\n",
       "      <th>marital_divorced</th>\n",
       "      <td>0.013109</td>\n",
       "      <td>0.000728</td>\n",
       "    </tr>\n",
       "    <tr>\n",
       "      <th>job_unemployed</th>\n",
       "      <td>0.008624</td>\n",
       "      <td>0.000567</td>\n",
       "    </tr>\n",
       "    <tr>\n",
       "      <th>month_jun</th>\n",
       "      <td>0.002733</td>\n",
       "      <td>0.000502</td>\n",
       "    </tr>\n",
       "    <tr>\n",
       "      <th>job_retired</th>\n",
       "      <td>0.006069</td>\n",
       "      <td>0.000341</td>\n",
       "    </tr>\n",
       "    <tr>\n",
       "      <th>month_mar</th>\n",
       "      <td>0.000398</td>\n",
       "      <td>0.000232</td>\n",
       "    </tr>\n",
       "    <tr>\n",
       "      <th>education_high.school</th>\n",
       "      <td>0.016622</td>\n",
       "      <td>0.000169</td>\n",
       "    </tr>\n",
       "    <tr>\n",
       "      <th>job_blue-collar</th>\n",
       "      <td>0.014042</td>\n",
       "      <td>0.000146</td>\n",
       "    </tr>\n",
       "    <tr>\n",
       "      <th>day_of_week_tue</th>\n",
       "      <td>0.010817</td>\n",
       "      <td>0.000000</td>\n",
       "    </tr>\n",
       "    <tr>\n",
       "      <th>month_nov</th>\n",
       "      <td>0.001375</td>\n",
       "      <td>0.000000</td>\n",
       "    </tr>\n",
       "    <tr>\n",
       "      <th>month_oct</th>\n",
       "      <td>0.000329</td>\n",
       "      <td>0.000000</td>\n",
       "    </tr>\n",
       "    <tr>\n",
       "      <th>month_sep</th>\n",
       "      <td>0.000222</td>\n",
       "      <td>0.000000</td>\n",
       "    </tr>\n",
       "    <tr>\n",
       "      <th>month_dec</th>\n",
       "      <td>0.000189</td>\n",
       "      <td>0.000000</td>\n",
       "    </tr>\n",
       "    <tr>\n",
       "      <th>poutcome_failure</th>\n",
       "      <td>0.002424</td>\n",
       "      <td>0.000000</td>\n",
       "    </tr>\n",
       "    <tr>\n",
       "      <th>poutcome_nonexistent</th>\n",
       "      <td>0.002406</td>\n",
       "      <td>0.000000</td>\n",
       "    </tr>\n",
       "    <tr>\n",
       "      <th>day_of_week_thu</th>\n",
       "      <td>0.011741</td>\n",
       "      <td>0.000000</td>\n",
       "    </tr>\n",
       "    <tr>\n",
       "      <th>education_professional.course</th>\n",
       "      <td>0.012126</td>\n",
       "      <td>0.000000</td>\n",
       "    </tr>\n",
       "    <tr>\n",
       "      <th>loan_yes</th>\n",
       "      <td>0.015287</td>\n",
       "      <td>0.000000</td>\n",
       "    </tr>\n",
       "    <tr>\n",
       "      <th>loan_no</th>\n",
       "      <td>0.016650</td>\n",
       "      <td>0.000000</td>\n",
       "    </tr>\n",
       "    <tr>\n",
       "      <th>housing_yes</th>\n",
       "      <td>0.019832</td>\n",
       "      <td>0.000000</td>\n",
       "    </tr>\n",
       "    <tr>\n",
       "      <th>housing_no</th>\n",
       "      <td>0.021335</td>\n",
       "      <td>0.000000</td>\n",
       "    </tr>\n",
       "    <tr>\n",
       "      <th>education_illiterate</th>\n",
       "      <td>0.002376</td>\n",
       "      <td>0.000000</td>\n",
       "    </tr>\n",
       "    <tr>\n",
       "      <th>education_basic.4y</th>\n",
       "      <td>0.011460</td>\n",
       "      <td>0.000000</td>\n",
       "    </tr>\n",
       "    <tr>\n",
       "      <th>marital_single</th>\n",
       "      <td>0.016792</td>\n",
       "      <td>0.000000</td>\n",
       "    </tr>\n",
       "    <tr>\n",
       "      <th>marital_married</th>\n",
       "      <td>0.017302</td>\n",
       "      <td>0.000000</td>\n",
       "    </tr>\n",
       "    <tr>\n",
       "      <th>job_technician</th>\n",
       "      <td>0.012674</td>\n",
       "      <td>0.000000</td>\n",
       "    </tr>\n",
       "    <tr>\n",
       "      <th>job_student</th>\n",
       "      <td>0.002819</td>\n",
       "      <td>0.000000</td>\n",
       "    </tr>\n",
       "    <tr>\n",
       "      <th>job_services</th>\n",
       "      <td>0.010973</td>\n",
       "      <td>0.000000</td>\n",
       "    </tr>\n",
       "    <tr>\n",
       "      <th>job_self-employed</th>\n",
       "      <td>0.008187</td>\n",
       "      <td>0.000000</td>\n",
       "    </tr>\n",
       "    <tr>\n",
       "      <th>job_entrepreneur</th>\n",
       "      <td>0.005675</td>\n",
       "      <td>0.000000</td>\n",
       "    </tr>\n",
       "    <tr>\n",
       "      <th>previous</th>\n",
       "      <td>0.003707</td>\n",
       "      <td>0.000000</td>\n",
       "    </tr>\n",
       "    <tr>\n",
       "      <th>pdays</th>\n",
       "      <td>0.001146</td>\n",
       "      <td>0.000000</td>\n",
       "    </tr>\n",
       "    <tr>\n",
       "      <th>poutcome_success</th>\n",
       "      <td>0.000553</td>\n",
       "      <td>0.000000</td>\n",
       "    </tr>\n",
       "  </tbody>\n",
       "</table>\n",
       "</div>"
      ],
      "text/plain": [
       "                               importance_RF  importance_GB\n",
       "duration                            0.307571       0.559268\n",
       "euribor3m                           0.084223       0.276710\n",
       "contact_telephone                   0.010416       0.024662\n",
       "contact_cellular                    0.008915       0.024399\n",
       "month_jul                           0.005408       0.019580\n",
       "cons.conf.idx                       0.009878       0.015280\n",
       "day_of_week_fri                     0.014988       0.015201\n",
       "age                                 0.124090       0.012916\n",
       "cons.price.idx                      0.014092       0.011469\n",
       "month_may                           0.003269       0.010066\n",
       "month_aug                           0.004773       0.005654\n",
       "nr.employed                         0.011689       0.004507\n",
       "emp.var.rate                        0.008669       0.003404\n",
       "default_no                          0.011633       0.002069\n",
       "education_university.degree         0.017163       0.001654\n",
       "day_of_week_mon                     0.013393       0.001525\n",
       "job_housemaid                       0.005542       0.001337\n",
       "education_basic.9y                  0.012174       0.001302\n",
       "month_apr                           0.001732       0.001234\n",
       "day_of_week_wed                     0.014642       0.001172\n",
       "job_management                      0.009168       0.001152\n",
       "job_admin.                          0.015157       0.001006\n",
       "education_basic.6y                  0.010045       0.000944\n",
       "default_yes                         0.011377       0.000804\n",
       "marital_divorced                    0.013109       0.000728\n",
       "job_unemployed                      0.008624       0.000567\n",
       "month_jun                           0.002733       0.000502\n",
       "job_retired                         0.006069       0.000341\n",
       "month_mar                           0.000398       0.000232\n",
       "education_high.school               0.016622       0.000169\n",
       "job_blue-collar                     0.014042       0.000146\n",
       "day_of_week_tue                     0.010817       0.000000\n",
       "month_nov                           0.001375       0.000000\n",
       "month_oct                           0.000329       0.000000\n",
       "month_sep                           0.000222       0.000000\n",
       "month_dec                           0.000189       0.000000\n",
       "poutcome_failure                    0.002424       0.000000\n",
       "poutcome_nonexistent                0.002406       0.000000\n",
       "day_of_week_thu                     0.011741       0.000000\n",
       "education_professional.course       0.012126       0.000000\n",
       "loan_yes                            0.015287       0.000000\n",
       "loan_no                             0.016650       0.000000\n",
       "housing_yes                         0.019832       0.000000\n",
       "housing_no                          0.021335       0.000000\n",
       "education_illiterate                0.002376       0.000000\n",
       "education_basic.4y                  0.011460       0.000000\n",
       "marital_single                      0.016792       0.000000\n",
       "marital_married                     0.017302       0.000000\n",
       "job_technician                      0.012674       0.000000\n",
       "job_student                         0.002819       0.000000\n",
       "job_services                        0.010973       0.000000\n",
       "job_self-employed                   0.008187       0.000000\n",
       "job_entrepreneur                    0.005675       0.000000\n",
       "previous                            0.003707       0.000000\n",
       "pdays                               0.001146       0.000000\n",
       "poutcome_success                    0.000553       0.000000"
      ]
     },
     "execution_count": 41,
     "metadata": {},
     "output_type": "execute_result"
    }
   ],
   "source": [
    "feature_importances.sort_values(\"importance_GB\", ascending=False)"
   ]
  },
  {
   "cell_type": "code",
   "execution_count": 49,
   "metadata": {},
   "outputs": [
    {
     "name": "stdout",
     "output_type": "stream",
     "text": [
      "Number of predicted y=1 in GB: 8185\n",
      "Number of predicted y=0 in GB: 53\n"
     ]
    }
   ],
   "source": [
    "y_pred = gb_best.predict(X_test)\n",
    "print(\"Number of predicted y=1 in GB:\", sum(y_pred==1))\n",
    "print(\"Number of predicted y=0 in GB:\", sum(y_pred==0))"
   ]
  },
  {
   "cell_type": "code",
   "execution_count": 50,
   "metadata": {},
   "outputs": [
    {
     "name": "stdout",
     "output_type": "stream",
     "text": [
      "Number of predicted y=1 in GB: 8195\n",
      "Number of predicted y=0 in GB: 43\n"
     ]
    }
   ],
   "source": [
    "y_pred = rf_best.predict(X_test)\n",
    "print(\"Number of predicted y=1 in GB:\", sum(y_pred==1))\n",
    "print(\"Number of predicted y=0 in GB:\", sum(y_pred==0))"
   ]
  },
  {
   "cell_type": "code",
   "execution_count": 51,
   "metadata": {},
   "outputs": [
    {
     "name": "stdout",
     "output_type": "stream",
     "text": [
      "True number of y=1: 7883\n",
      "True number of y=0: 355\n"
     ]
    }
   ],
   "source": [
    "print(\"True number of y=1:\", sum(y_test==1))\n",
    "print(\"True number of y=0:\", sum(y_test==0))"
   ]
  },
  {
   "cell_type": "markdown",
   "metadata": {},
   "source": [
    "## Conclusion:\n",
    "\n",
    "The performance of both models is not very good, but we can check the proposed most important features \n",
    "As it comes from both models, euribor3m and druration have the highest influence on whether it will be 7 or more contacts to the clients "
   ]
  },
  {
   "cell_type": "code",
   "execution_count": 55,
   "metadata": {},
   "outputs": [
    {
     "data": {
      "image/png": "[encoded data removed]",
      "text/plain": [
       "<Figure size 432x288 with 1 Axes>"
      ]
     },
     "metadata": {
      "needs_background": "light"
     },
     "output_type": "display_data"
    }
   ],
   "source": [
    "sns.scatterplot(x=\"duration\", y=\"campaign\", data = df)\n",
    "y_line = np.array([7]*df.shape[0])\n",
    "plt.plot(df[\"duration\"], y_line, color = \"r\");"
   ]
  },
  {
   "cell_type": "markdown",
   "metadata": {},
   "source": [
    "From the figure above it is clearly seen that if ast contact duration is more than 2000 seconds, less than 7 contacts were maid within a certain campaign and a certain client"
   ]
  },
  {
   "cell_type": "code",
   "execution_count": 58,
   "metadata": {},
   "outputs": [
    {
     "data": {
      "text/plain": [
       "1    37\n",
       "0    22\n",
       "Name: y, dtype: int64"
      ]
     },
     "execution_count": 58,
     "metadata": {},
     "output_type": "execute_result"
    }
   ],
   "source": [
    "df[(df[\"campaign\"]<=7) & (df[\"duration\"]>=2000)][\"y\"].value_counts()"
   ]
  },
  {
   "cell_type": "code",
   "execution_count": 59,
   "metadata": {},
   "outputs": [
    {
     "data": {
      "text/plain": [
       "0    1704\n",
       "1      72\n",
       "Name: y, dtype: int64"
      ]
     },
     "execution_count": 59,
     "metadata": {},
     "output_type": "execute_result"
    }
   ],
   "source": [
    "df[(df[\"campaign\"]>7) & (df[\"duration\"]<2000)][\"y\"].value_counts()"
   ]
  },
  {
   "cell_type": "code",
   "execution_count": 61,
   "metadata": {},
   "outputs": [
    {
     "data": {
      "text/plain": [
       "1    38\n",
       "0    22\n",
       "Name: y, dtype: int64"
      ]
     },
     "execution_count": 61,
     "metadata": {},
     "output_type": "execute_result"
    }
   ],
   "source": [
    "df[df[\"duration\"]>=2000][\"y\"].value_counts()"
   ]
  },
  {
   "cell_type": "code",
   "execution_count": 70,
   "metadata": {},
   "outputs": [
    {
     "data": {
      "image/png": "[encoded data removed]",
      "text/plain": [
       "<Figure size 720x360 with 1 Axes>"
      ]
     },
     "metadata": {
      "needs_background": "light"
     },
     "output_type": "display_data"
    },
    {
     "data": {
      "image/png": "[encoded data removed]",
      "text/plain": [
       "<Figure size 720x360 with 1 Axes>"
      ]
     },
     "metadata": {
      "needs_background": "light"
     },
     "output_type": "display_data"
    },
    {
     "data": {
      "image/png": "[encoded data removed]",
      "text/plain": [
       "<Figure size 720x360 with 1 Axes>"
      ]
     },
     "metadata": {
      "needs_background": "light"
     },
     "output_type": "display_data"
    },
    {
     "data": {
      "image/png": "[encoded data removed]",
      "text/plain": [
       "<Figure size 720x360 with 1 Axes>"
      ]
     },
     "metadata": {
      "needs_background": "light"
     },
     "output_type": "display_data"
    },
    {
     "data": {
      "image/png": "[encoded data removed]",
      "text/plain": [
       "<Figure size 720x360 with 1 Axes>"
      ]
     },
     "metadata": {
      "needs_background": "light"
     },
     "output_type": "display_data"
    },
    {
     "data": {
      "image/png": "[encoded data removed]",
      "text/plain": [
       "<Figure size 720x360 with 1 Axes>"
      ]
     },
     "metadata": {
      "needs_background": "light"
     },
     "output_type": "display_data"
    },
    {
     "data": {
      "image/png": "[encoded data removed]",
      "text/plain": [
       "<Figure size 720x360 with 1 Axes>"
      ]
     },
     "metadata": {
      "needs_background": "light"
     },
     "output_type": "display_data"
    },
    {
     "data": {
      "image/png": "[encoded data removed]",
      "text/plain": [
       "<Figure size 720x360 with 1 Axes>"
      ]
     },
     "metadata": {
      "needs_background": "light"
     },
     "output_type": "display_data"
    },
    {
     "data": {
      "image/png": "[encoded data removed]",
      "text/plain": [
       "<Figure size 720x360 with 1 Axes>"
      ]
     },
     "metadata": {
      "needs_background": "light"
     },
     "output_type": "display_data"
    },
    {
     "data": {
      "image/png": "[encoded data removed]",
      "text/plain": [
       "<Figure size 720x360 with 1 Axes>"
      ]
     },
     "metadata": {
      "needs_background": "light"
     },
     "output_type": "display_data"
    }
   ],
   "source": [
    "cat_features = [col for col in df.columns if df[col].dtype==\"object\"]\n",
    "df_2000 = df[df[\"duration\"]>=2000]\n",
    "\n",
    "n_bins =40\n",
    "for col in cat_features:\n",
    "    sns.catplot(x=col, y=\"y\", data =df, kind= \"point\", aspect =2);"
   ]
  },
  {
   "cell_type": "markdown",
   "metadata": {},
   "source": [
    "## Final Conclusion:"
   ]
  },
  {
   "cell_type": "markdown",
   "metadata": {},
   "source": [
    "It is better to contact clients less often (less than 7) and make the conservation longer (more than 30 minutes)"
   ]
  },
  {
   "cell_type": "code",
   "execution_count": null,
   "metadata": {},
   "outputs": [],
   "source": []
  }
 ],
 "metadata": {
  "kernelspec": {
   "display_name": "myspark",
   "language": "python",
   "name": "myspark"
  },
  "language_info": {
   "codemirror_mode": {
    "name": "ipython",
    "version": 3
   },
   "file_extension": ".py",
   "mimetype": "text/x-python",
   "name": "python",
   "nbconvert_exporter": "python",
   "pygments_lexer": "ipython3",
   "version": "3.6.10"
  }
 },
 "nbformat": 4,
 "nbformat_minor": 4
}
